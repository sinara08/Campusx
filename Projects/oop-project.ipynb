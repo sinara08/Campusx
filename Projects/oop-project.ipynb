{
  "nbformat": 4,
  "nbformat_minor": 0,
  "metadata": {
    "colab": {
      "provenance": [],
      "authorship_tag": "ABX9TyPxdsHFYqkViSTPnPZgrZZi",
      "include_colab_link": true
    },
    "kernelspec": {
      "name": "python3",
      "display_name": "Python 3"
    },
    "language_info": {
      "name": "python"
    }
  },
  "cells": [
    {
      "cell_type": "markdown",
      "metadata": {
        "id": "view-in-github",
        "colab_type": "text"
      },
      "source": [
        "<a href=\"https://colab.research.google.com/github/sinara08/Campusx/blob/main/Projects/oop-project.ipynb\" target=\"_parent\"><img src=\"https://colab.research.google.com/assets/colab-badge.svg\" alt=\"Open In Colab\"/></a>"
      ]
    },
    {
      "cell_type": "code",
      "execution_count": 3,
      "metadata": {
        "colab": {
          "base_uri": "https://localhost:8080/"
        },
        "id": "gcz85_E17MJT",
        "outputId": "1e29f2de-b866-49f4-88b4-80a029d32431"
      },
      "outputs": [
        {
          "output_type": "stream",
          "name": "stdout",
          "text": [
            "Looking in indexes: https://pypi.org/simple, https://us-python.pkg.dev/colab-wheels/public/simple/\n",
            "Collecting nlpcloud\n",
            "  Downloading nlpcloud-1.0.34-py3-none-any.whl (4.4 kB)\n",
            "Requirement already satisfied: requests in /usr/local/lib/python3.7/dist-packages (from nlpcloud) (2.23.0)\n",
            "Requirement already satisfied: urllib3!=1.25.0,!=1.25.1,<1.26,>=1.21.1 in /usr/local/lib/python3.7/dist-packages (from requests->nlpcloud) (1.24.3)\n",
            "Requirement already satisfied: certifi>=2017.4.17 in /usr/local/lib/python3.7/dist-packages (from requests->nlpcloud) (2022.9.24)\n",
            "Requirement already satisfied: chardet<4,>=3.0.2 in /usr/local/lib/python3.7/dist-packages (from requests->nlpcloud) (3.0.4)\n",
            "Requirement already satisfied: idna<3,>=2.5 in /usr/local/lib/python3.7/dist-packages (from requests->nlpcloud) (2.10)\n",
            "Installing collected packages: nlpcloud\n",
            "Successfully installed nlpcloud-1.0.34\n"
          ]
        }
      ],
      "source": [
        "pip install nlpcloud"
      ]
    },
    {
      "cell_type": "code",
      "source": [
        "import nlpcloud\n",
        "\n",
        "client = nlpcloud.Client(\"finetuned-gpt-neox-20b\", \"2717462be17d421528464b911542346e49b02f08\", gpu=True, lang=\"en\")\n",
        "client.entities(\"\"\"John Doe started learning Javascript when he was 15 years old. After a couple of years he switched to Python and starter learning low level programming. He is now a Go expert at Google.\"\"\", searched_entity=\"programming languages\")"
      ],
      "metadata": {
        "colab": {
          "base_uri": "https://localhost:8080/"
        },
        "id": "AW7Ff5Yw787U",
        "outputId": "adfeb5ca-b284-4bed-a12b-4eccb58ab550"
      },
      "execution_count": 2,
      "outputs": [
        {
          "output_type": "execute_result",
          "data": {
            "text/plain": [
              "{'entities': [{'start': 26,\n",
              "   'end': 36,\n",
              "   'type': 'programming languages',\n",
              "   'text': 'javascript'},\n",
              "  {'start': 102,\n",
              "   'end': 108,\n",
              "   'type': 'programming languages',\n",
              "   'text': 'python'},\n",
              "  {'start': 165, 'end': 167, 'type': 'programming languages', 'text': 'go'}]}"
            ]
          },
          "metadata": {},
          "execution_count": 2
        }
      ]
    },
    {
      "cell_type": "code",
      "source": [
        "import nlpcloud\n",
        "\n",
        "class NlpApp:\n",
        "  def __init__(self):\n",
        "    self.__data_base = {}\n",
        "    self.__first_menu()\n",
        "  \n",
        "  def __first_menu(self):\n",
        "    inpt = int(input(\"\"\"\n",
        "    Hi! how would you like to proceed?\n",
        "    1. Not a member? Register\n",
        "    2. Already a member? Login\n",
        "    3. Galti se aa gaye? Exit\n",
        "    \"\"\"))\n",
        "\n",
        "    if inpt == 1:\n",
        "      self.__register()\n",
        "    elif inpt == 2:\n",
        "      self.__login()\n",
        "    else:\n",
        "      self.exit()\n",
        "\n",
        "  def __login(self):\n",
        "    name = input('Enter your name: ')\n",
        "    email = input('Enter your email: ')\n",
        "    pswd = input('Enter your password: ')\n",
        "\n",
        "    if email in self.__data_base:\n",
        "      if self.__data_base[email][0] == name and self.__data_base[email][1] == pswd:\n",
        "        print(\"Logged in successfully!\")\n",
        "        self.__second_menu()\n",
        "      else:\n",
        "        print(\"Invalid name or password\")\n",
        "        self.__login()\n",
        "\n",
        "    else:\n",
        "      print('Email is not registered in our database.')\n",
        "      self.__first_menu()\n",
        "        \n",
        "  \n",
        "  def __register(self):\n",
        "    name = input('Enter your name: ')\n",
        "    email = input('Enter your email: ')\n",
        "    pswd = input('Enter your password: ')\n",
        "\n",
        "    if email not in self.__data_base:\n",
        "      self.__data_base[email] = [name, pswd]\n",
        "      print(\"Registered Successfully! Now login\")\n",
        "      self.__login()\n",
        "    else:\n",
        "      print('Email id is already in our database. Please try again with another email id.')\n",
        "      self.__register()\n",
        "\n",
        "  def exit(self):\n",
        "    exit()\n",
        "\n",
        "\n",
        "  def __second_menu(self):\n",
        "    inpt = int(input(\"\"\"\n",
        "    Hi! how would you like to proceed?\n",
        "    1. NER\n",
        "    2. Language Detection\n",
        "    3. Sentiment Analysis\n",
        "    *. Enter anything else to go back to First Menu\n",
        "    \"\"\"))\n",
        "\n",
        "    if inpt == 1:\n",
        "      self.__ner()\n",
        "    elif inpt == 2:\n",
        "      self.__language_detection()\n",
        "    elif inpt == 3:\n",
        "      self.__sentiment_analysis()\n",
        "    else:\n",
        "      print('Entered wrong option. Going back to first menu')\n",
        "      self.__first_menu()\n",
        "\n",
        "  def __ner(self):\n",
        "    para = input(\"Enter the paragraph: \")\n",
        "    srch = input(\"Enter to search: \")\n",
        "\n",
        "    client = nlpcloud.Client(\"finetuned-gpt-neox-20b\", \"2717462be17d421528464b911542346e49b02f08\", gpu=True, lang=\"en\")\n",
        "    response = client.entities(para, searched_entity=srch)\n",
        "\n",
        "    print(response)\n",
        "\n",
        "    for i in response['entities']:\n",
        "      print(\"{0} is found at start pos: {1} and end pos: {2}\".format(i['text'],i['start'],i['end']))\n",
        "\n",
        "  def __language_detection(self):\n",
        "    para = input(\"Enter the paragraph\")\n",
        "\n",
        "    client = nlpcloud.Client(\"python-langdetect\", \"2717462be17d421528464b911542346e49b02f08\")\n",
        "    response = client.langdetection(para)\n",
        "    \n",
        "    print(\"Response from nlp cloud for language_detection is : \",response)\n",
        "\n",
        "    L = []\n",
        "\n",
        "    for i in d['languages']:\n",
        "      [L.append(v) for v in i.values()]\n",
        "\n",
        "    index = sorted(list(enumerate(L)), key = lambda l : l[0])[0][0]\n",
        "    k = list(d['languages'][index].keys())\n",
        "    \n",
        "\n",
        "\n",
        "    print(\"Highest score is for \",  k)\n",
        "\n",
        "  def __sentiment_analysis(self):\n",
        "\n",
        "    para = input(\"Enter the paragraph\")\n",
        "\n",
        "    client = nlpcloud.Client(\"distilbert-base-uncased-emotion\", \"2717462be17d421528464b911542346e49b02f08\", gpu=False, lang=\"en\")\n",
        "    response = client.sentiment(para)\n",
        "\n",
        "    L = []\n",
        "    \n",
        "    for i in response['scored_labels']:\n",
        "      L.append(i['score'])\n",
        "\n",
        "    Highest_index = sorted(list(enumerate(L)), key = lambda x: x[1], reverse=True)[0][0]\n",
        "    print(\"Response from nlp cloud for sentiment_analysis is : \",response)\n",
        "    #print(\"Highest score is for \",response['scored_labels'][Highest_index]['label'])\n",
        "    print(\"Highest score is for \", sorted(d['scored_labels'], key=lambda d: d['score'],reverse=True)[0]['label'])\n",
        "\n",
        "    self.__second_menu()\n",
        "\n",
        "obj = NlpApp()\n"
      ],
      "metadata": {
        "colab": {
          "base_uri": "https://localhost:8080/"
        },
        "id": "vOoM3uP39TwF",
        "outputId": "fa81b0ee-0b25-4e97-a32f-7d6fe7522851"
      },
      "execution_count": 38,
      "outputs": [
        {
          "output_type": "stream",
          "name": "stdout",
          "text": [
            "\n",
            "    Hi! how would you like to proceed?\n",
            "    1. Not a member? Register\n",
            "    2. Already a member? Login\n",
            "    3. Galti se aa gaye? Exit\n",
            "    1\n",
            "Enter your name: w\n",
            "Enter your email: w\n",
            "Enter your password: w\n",
            "Registered Successfully! Now login\n",
            "Enter your name: w\n",
            "Enter your email: w\n",
            "Enter your password: w\n",
            "Logged in successfully!\n",
            "\n",
            "    Hi! how would you like to proceed?\n",
            "    1. NER\n",
            "    2. Language Detection\n",
            "    3. Sentiment Analysis\n",
            "    *. Enter anything else to go back to First Menu\n",
            "    2\n",
            "Enter the paragraphLa Casa de los Espíritus, de la autora Isabel Allende, es una obra literaria llena de elementos en que la fantasía revela la presencia del realismo mágico. (The House of the Spirits, by the author Isabel Allende, is a literary piece that is full of fantasy elements that reveal the presence of magical realism.). खेल-कूद पर निबंध खेल-कूद पर निबंध खेल-कूद पर निबंध खेल-कूद पर निबंध खेल-कूद पर निबंध. John Doe has been working for Microsoft in Seattle since 1999. Et il parle aussi un peu français.\n",
            "Response from nlp cloud for language_detection is :  {'languages': [{'en': 0.9999961686528807}]}\n",
            "Highest score is for  ['en']\n"
          ]
        }
      ]
    },
    {
      "cell_type": "code",
      "source": [],
      "metadata": {
        "id": "QTqBPFiwqaV7"
      },
      "execution_count": null,
      "outputs": []
    }
  ]
}