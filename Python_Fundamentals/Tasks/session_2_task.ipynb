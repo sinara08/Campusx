{
  "nbformat": 4,
  "nbformat_minor": 0,
  "metadata": {
    "colab": {
      "provenance": [],
      "include_colab_link": true
    },
    "kernelspec": {
      "name": "python3",
      "display_name": "Python 3"
    },
    "language_info": {
      "name": "python"
    }
  },
  "cells": [
    {
      "cell_type": "markdown",
      "metadata": {
        "id": "view-in-github",
        "colab_type": "text"
      },
      "source": [
        "<a href=\"https://colab.research.google.com/github/sinara08/Campusx/blob/main/Python/Assignments/session_2_task.ipynb\" target=\"_parent\"><img src=\"https://colab.research.google.com/assets/colab-badge.svg\" alt=\"Open In Colab\"/></a>"
      ]
    },
    {
      "cell_type": "markdown",
      "source": [
        "### `Problem 1`: Write a program that will give you in hand monthly salary after deduction on CTC - HRA(10%), DA(5%), PF(3%) and taxes deduction as below:\n",
        "\n",
        "> Salary(Lakhs) : Tax(%)\n",
        "\n",
        "*   Below 5 : 0%\n",
        "*   5-10 : 10%\n",
        "*   10-20 : 20%\n",
        "*   aboove 20 : 30%"
      ],
      "metadata": {
        "id": "w6RlOAXV2PWh"
      }
    },
    {
      "cell_type": "code",
      "source": [
        "#Enter the salary \n",
        "sal = int(input(\"Enter your salary: \"))\n",
        "hra = 10\n",
        "da = 5\n",
        "pf = 3\n",
        "\n",
        "if sal > 2000000:\n",
        "  tax = 30\n",
        "elif sal >= 1000000 and sal <= 2000000:\n",
        "  tax = 20\n",
        "elif sal >= 500000 and sal < 1000000:\n",
        "  tax = 10\n",
        "else:\n",
        "  tax = 0\n",
        "\n",
        "tot_ded = (hra + da + pf + tax) / 100\n",
        "inhnd_sal = sal - sal*tot_ded \n",
        "inhnd_mon_sal = inhnd_sal/12\n",
        "print(\"In hand salary after deduction on CTC {0} is {1}, and in hand monthly salary is {2}\".format(sal, inhnd_sal, inhnd_mon_sal))"
      ],
      "metadata": {
        "id": "7tMHvKYO2etI",
        "colab": {
          "base_uri": "https://localhost:8080/"
        },
        "outputId": "d0a94081-80e2-449d-a537-5266b1f060fc"
      },
      "execution_count": 9,
      "outputs": [
        {
          "output_type": "stream",
          "name": "stdout",
          "text": [
            "Enter your salary: 1200000\n",
            "In hand salary after deduction on CTC 1200000 is 744000.0, and in hand monthly salary is 62000.0\n"
          ]
        }
      ]
    },
    {
      "cell_type": "markdown",
      "source": [
        "### `Problem 2`: Write a program that take a user input of three angles and will find out whether it can form a triangle or not."
      ],
      "metadata": {
        "id": "tYzCGqwl2hfN"
      }
    },
    {
      "cell_type": "code",
      "source": [
        "#Enter the three angles from user\n",
        "fangle = int(input('Enter the first angle: '))\n",
        "sangle = int(input('Enter the second angle: '))\n",
        "tangle = int(input('Enter the third angle: '))\n",
        "#Add three angles to see if its 180\n",
        "sum = fangle + sangle + tangle\n",
        "#Decide if its trianle and display\n",
        "if sum == 180:\n",
        "  print('These angles can form triangle')\n",
        "else:\n",
        "  print('These angles can not form triangle')"
      ],
      "metadata": {
        "id": "FYEqln-I2kxV",
        "colab": {
          "base_uri": "https://localhost:8080/"
        },
        "outputId": "814a3581-49f1-48bd-bfc7-3ec55d24c9d0"
      },
      "execution_count": 6,
      "outputs": [
        {
          "output_type": "stream",
          "name": "stdout",
          "text": [
            "Enter the first angle: 40\n",
            "Enter the second angle: 40\n",
            "Enter the third angle: 40\n",
            "These angles can not form triangle\n"
          ]
        }
      ]
    },
    {
      "cell_type": "markdown",
      "source": [
        "### `Problem 3`: Write a program that will take user input of cost price and selling price and determines whether its a loss or a profit."
      ],
      "metadata": {
        "id": "5vEpPh8C2pE4"
      }
    },
    {
      "cell_type": "code",
      "source": [
        "#Enter the cost price and selling price\n",
        "cprice = float(input('Enter the cost price'))\n",
        "sprice = float(input('Enter the selling price'))\n",
        "#Decide if its loss and profit\n",
        "if cprice >= sprice:\n",
        "  final_rslt = \"No Profit\"\n",
        "else:\n",
        "  final_rslt = \"Profit\"\n",
        "#Display\n",
        "\n",
        "print(\"From the cost price {0} and selling price {1} it is determined that its a {2}\".format(cprice,sprice,final_rslt))"
      ],
      "metadata": {
        "id": "jDwBXlkO2sfl",
        "colab": {
          "base_uri": "https://localhost:8080/"
        },
        "outputId": "719110fc-cc72-4297-dc4c-79050de8bb29"
      },
      "execution_count": 9,
      "outputs": [
        {
          "output_type": "stream",
          "name": "stdout",
          "text": [
            "Enter the cost price16\n",
            "Enter the selling price18\n",
            "From the cost price 16.0 and selling price 18.0 it is determined that its a Profit\n"
          ]
        }
      ]
    },
    {
      "cell_type": "markdown",
      "source": [
        "### `Problem 4`: Write a menu-driven program - \n",
        "1. cm to ft \n",
        "2. km to miles \n",
        "3. USD to INR \n",
        "4. exit"
      ],
      "metadata": {
        "id": "J_FG_cJW2ugT"
      }
    },
    {
      "cell_type": "code",
      "source": [
        "#Display the menu\n",
        "print(\"Welcome to menu\")\n",
        "print(\"Enter 1 for cm to ft conversion\")\n",
        "print(\"Enter 2 for km to miles conversion\")\n",
        "print(\"Enter 3 for USD to INR conversion\")\n",
        "print(\"Enter 4 for exit\")\n",
        "\n",
        "inp = int(input(\"Enter your choice from menu: \"))\n",
        "#Do the calculation based on input\n",
        "if inp == 1:\n",
        "  cm = float(input(\"Enter the measurement in cm: \"))\n",
        "  ft = cm * 0.0328\n",
        "  print(\"{0} cm is converted to {1} feet\".format(cm, ft))\n",
        "\n",
        "elif inp == 2:\n",
        "  km = float(input(\"Enter your distance (in km): \"))\n",
        "  miles = km * 0.621371\n",
        "  print(\"{0} km is converted to {1} miles\".format(km, miles))\n",
        "\n",
        "elif inp == 3:\n",
        "  usd = float(input(\"Enter your amount (in $): \"))\n",
        "  inr = usd * 81.41\n",
        "  print(\"{0} USD is converted to {1} INR\".format(usd, inr))\n",
        "\n",
        "else:\n",
        "  print(\"Good Bye\")"
      ],
      "metadata": {
        "id": "yBHhaCGQ2zpD",
        "colab": {
          "base_uri": "https://localhost:8080/"
        },
        "outputId": "175d470e-09b0-4c91-e259-fb5880abfc57"
      },
      "execution_count": 13,
      "outputs": [
        {
          "output_type": "stream",
          "name": "stdout",
          "text": [
            "Welcome to menu\n",
            "Enter 1 for cm to ft conversion\n",
            "Enter 2 for km to miles conversion\n",
            "Enter 3 for USD to INR conversion\n",
            "Enter 4 for exit\n",
            "Enter your choice from menu: 3\n",
            "Enter your amount (in $): 200\n",
            "200.0 USD is converted to 16282.0 INR\n"
          ]
        }
      ]
    },
    {
      "cell_type": "markdown",
      "source": [
        "### `Problem 5` - Exercise 12: Display Fibonacci series up to 10 terms.\n",
        "\n",
        "*Note: The Fibonacci Sequence is a series of numbers. The next number is found by adding up the two numbers before it. The first two numbers are 0 and 1. For example, 0, 1, 1, 2, 3, 5, 8, 13, 21. The next number in this series above is 13+21 = 34*"
      ],
      "metadata": {
        "id": "LJJ30_Yw27ZU"
      }
    },
    {
      "cell_type": "code",
      "source": [
        "\n",
        "ser = []\n",
        "#Run the loop for 10 times\n",
        "for i in range(10):\n",
        "  if i in (0,1):\n",
        "    ser.append(i)\n",
        "  else:\n",
        "    ser.append(ser[i-2]+ser[i-1])\n",
        " \n",
        "print(ser)"
      ],
      "metadata": {
        "id": "ae_1rpe52-5R",
        "colab": {
          "base_uri": "https://localhost:8080/"
        },
        "outputId": "ba7a27b9-1e27-463f-d31e-469f8b853511"
      },
      "execution_count": 21,
      "outputs": [
        {
          "output_type": "stream",
          "name": "stdout",
          "text": [
            "[0, 1, 1, 2, 3, 5, 8, 13, 21, 34]\n"
          ]
        }
      ]
    },
    {
      "cell_type": "markdown",
      "source": [
        "### `Problem 6` - Find the factorial of a given number.\n",
        "\n",
        "Write a program to use the loop to find the factorial of a given number.\n",
        "\n",
        "The factorial (symbol: `!`) means to multiply all whole numbers from the chosen number down to 1.\n",
        "\n",
        "For example: calculate the factorial of 5\n",
        "\n",
        "\n",
        "5! = 5 × 4 × 3 × 2 × 1 = 120\n",
        "\n",
        "Output: \n",
        "\n",
        "\n",
        "120\n"
      ],
      "metadata": {
        "id": "pk_I_S4m3PT5"
      }
    },
    {
      "cell_type": "code",
      "source": [
        "num = int(input(\"Enter the number to find the factorial: \"))\n",
        "rslt = 1\n",
        "\n",
        "for i in range(num, 1, -1):\n",
        "  rslt *= i\n",
        "\n",
        "print(\"Final output is \", rslt)"
      ],
      "metadata": {
        "id": "lzXxHegx3Rkc",
        "colab": {
          "base_uri": "https://localhost:8080/"
        },
        "outputId": "5b088da8-7752-4f3b-b15c-9a34ec1e852c"
      },
      "execution_count": 24,
      "outputs": [
        {
          "output_type": "stream",
          "name": "stdout",
          "text": [
            "Enter the number to find the factorial: 6\n",
            "Final output is  720\n"
          ]
        }
      ]
    },
    {
      "cell_type": "markdown",
      "source": [
        "### `Problem 7` - Reverse a given integer number.\n",
        "\n",
        "Example:\n",
        "\n",
        "`Input:`\n",
        "\n",
        "\n",
        "76542\n",
        "\n",
        "\n",
        "`Output:`\n",
        "\n",
        "\n",
        "24567\n"
      ],
      "metadata": {
        "id": "-17IOi-g3UpU"
      }
    },
    {
      "cell_type": "code",
      "source": [
        "num = int(input(\"Enter an integer number to be reversed: \"))\n",
        "\n",
        "rev_num = int(str(num)[::-1])\n",
        "print(rev_num)"
      ],
      "metadata": {
        "id": "wJwLpKCr3aVA",
        "colab": {
          "base_uri": "https://localhost:8080/"
        },
        "outputId": "21019a84-e411-4f58-e951-45a264db75ff"
      },
      "execution_count": 2,
      "outputs": [
        {
          "output_type": "stream",
          "name": "stdout",
          "text": [
            "Enter an integer number to be reversed: 6789\n",
            "9876\n"
          ]
        }
      ]
    },
    {
      "cell_type": "markdown",
      "source": [
        "### `Problem 8`: Take a user input as integer N. Find out the sum from 1 to N. If any number if divisible by 5, then skip that number. And if the sum is greater than 300, don't need to calculate the sum further more. Print the final result. And don't use for loop to solve this problem.\n",
        "\n",
        "**Example 1:**\n",
        "\n",
        "Input:\n",
        "\n",
        "\n",
        "30\n",
        "\n",
        "\n",
        "Output:\n",
        "\n",
        "\n",
        "276\n"
      ],
      "metadata": {
        "id": "-t8PJQaY3sHf"
      }
    },
    {
      "cell_type": "code",
      "source": [
        "Nnum = int(input('Enter an integer: '))\n",
        "\n",
        "i = 1\n",
        "sum = 0\n",
        "while(i <= Nnum and sum + i < 300):\n",
        "  if i%5 == 0:\n",
        "    pass\n",
        "  else:  \n",
        "    sum += i\n",
        "  i += 1\n",
        "else:\n",
        "  print(sum)"
      ],
      "metadata": {
        "id": "GZB6mGMP3ujT",
        "colab": {
          "base_uri": "https://localhost:8080/"
        },
        "outputId": "59676263-b9b5-47a6-c453-6e2b94373dee"
      },
      "execution_count": 31,
      "outputs": [
        {
          "output_type": "stream",
          "name": "stdout",
          "text": [
            "Enter an integer: 30\n",
            "276\n"
          ]
        }
      ]
    },
    {
      "cell_type": "markdown",
      "source": [
        "### `Problem 9`: Write a program that keeps on accepting a number from the user until the user enters Zero. Display the sum and average of all the numbers."
      ],
      "metadata": {
        "id": "Q7ggImeA3xm4"
      }
    },
    {
      "cell_type": "code",
      "source": [
        "num = int(input(\"Enter a number: \"))\n",
        "Lst = []\n",
        "while num != 0:\n",
        "  Lst.append(num)\n",
        "  num = int(input(\"Enter a number: \"))\n",
        "\n",
        "sum = 0\n",
        "\n",
        "for i in Lst:\n",
        "  sum += i\n",
        "\n",
        "avg = sum / len(Lst)\n",
        "\n",
        "print(\"Sum is :{0} and Average is {1}\".format(sum, avg))\n",
        "\n"
      ],
      "metadata": {
        "id": "t_YDSZDe4Kdo",
        "colab": {
          "base_uri": "https://localhost:8080/"
        },
        "outputId": "51faf0f8-21e1-405b-987a-fe9fab5eef9e"
      },
      "execution_count": 34,
      "outputs": [
        {
          "output_type": "stream",
          "name": "stdout",
          "text": [
            "Enter a number: 1\n",
            "Enter a number: 2\n",
            "Enter a number: 3\n",
            "Enter a number: 4\n",
            "Enter a number: 5\n",
            "Enter a number: 6\n",
            "Enter a number: 7\n",
            "Enter a number: 0\n",
            "Sum is :28 and Average is 4.0\n"
          ]
        }
      ]
    },
    {
      "cell_type": "markdown",
      "source": [
        "###`Problem 10`: Write a program which will find all such numbers which are divisible by 7 but are not a multiple of 5, between 2000 and 3200 (both included). The numbers obtained should be printed in a comma-separated sequence on a single line."
      ],
      "metadata": {
        "id": "6EhvEMvm4R7s"
      }
    },
    {
      "cell_type": "code",
      "source": [
        "Lst = []\n",
        "for i in range(2000, 3201):\n",
        "  if i%7 == 0 and i%5 != 0:\n",
        "    Lst.append(i)\n",
        "\n",
        "print(Lst)"
      ],
      "metadata": {
        "id": "d6RgP1B34T6c",
        "colab": {
          "base_uri": "https://localhost:8080/"
        },
        "outputId": "fca6e80d-3ece-4ecc-814a-0b7800fa10f8"
      },
      "execution_count": 35,
      "outputs": [
        {
          "output_type": "stream",
          "name": "stdout",
          "text": [
            "[2002, 2009, 2016, 2023, 2037, 2044, 2051, 2058, 2072, 2079, 2086, 2093, 2107, 2114, 2121, 2128, 2142, 2149, 2156, 2163, 2177, 2184, 2191, 2198, 2212, 2219, 2226, 2233, 2247, 2254, 2261, 2268, 2282, 2289, 2296, 2303, 2317, 2324, 2331, 2338, 2352, 2359, 2366, 2373, 2387, 2394, 2401, 2408, 2422, 2429, 2436, 2443, 2457, 2464, 2471, 2478, 2492, 2499, 2506, 2513, 2527, 2534, 2541, 2548, 2562, 2569, 2576, 2583, 2597, 2604, 2611, 2618, 2632, 2639, 2646, 2653, 2667, 2674, 2681, 2688, 2702, 2709, 2716, 2723, 2737, 2744, 2751, 2758, 2772, 2779, 2786, 2793, 2807, 2814, 2821, 2828, 2842, 2849, 2856, 2863, 2877, 2884, 2891, 2898, 2912, 2919, 2926, 2933, 2947, 2954, 2961, 2968, 2982, 2989, 2996, 3003, 3017, 3024, 3031, 3038, 3052, 3059, 3066, 3073, 3087, 3094, 3101, 3108, 3122, 3129, 3136, 3143, 3157, 3164, 3171, 3178, 3192, 3199]\n"
          ]
        }
      ]
    },
    {
      "cell_type": "markdown",
      "source": [
        "###`Problem 11`: Write a program, which will find all such numbers between 1000 and 3000 (both included) such that each digit of the number is an even number. The numbers obtained should be printed in a space-separated sequence on a single line.\n",
        "\n"
      ],
      "metadata": {
        "id": "tYvmRR-G4Vp4"
      }
    },
    {
      "cell_type": "code",
      "source": [
        "Lst = []\n",
        "for i in range(1000,3001):\n",
        "  if i%2 == 0:\n",
        "    Lst.append(i)\n",
        "\n",
        "print(*Lst)"
      ],
      "metadata": {
        "id": "k6Gs1kIf4k19",
        "colab": {
          "base_uri": "https://localhost:8080/"
        },
        "outputId": "c349a870-61ff-42d2-c853-1d4fc856692e"
      },
      "execution_count": 37,
      "outputs": [
        {
          "output_type": "stream",
          "name": "stdout",
          "text": [
            "1000 1002 1004 1006 1008 1010 1012 1014 1016 1018 1020 1022 1024 1026 1028 1030 1032 1034 1036 1038 1040 1042 1044 1046 1048 1050 1052 1054 1056 1058 1060 1062 1064 1066 1068 1070 1072 1074 1076 1078 1080 1082 1084 1086 1088 1090 1092 1094 1096 1098 1100 1102 1104 1106 1108 1110 1112 1114 1116 1118 1120 1122 1124 1126 1128 1130 1132 1134 1136 1138 1140 1142 1144 1146 1148 1150 1152 1154 1156 1158 1160 1162 1164 1166 1168 1170 1172 1174 1176 1178 1180 1182 1184 1186 1188 1190 1192 1194 1196 1198 1200 1202 1204 1206 1208 1210 1212 1214 1216 1218 1220 1222 1224 1226 1228 1230 1232 1234 1236 1238 1240 1242 1244 1246 1248 1250 1252 1254 1256 1258 1260 1262 1264 1266 1268 1270 1272 1274 1276 1278 1280 1282 1284 1286 1288 1290 1292 1294 1296 1298 1300 1302 1304 1306 1308 1310 1312 1314 1316 1318 1320 1322 1324 1326 1328 1330 1332 1334 1336 1338 1340 1342 1344 1346 1348 1350 1352 1354 1356 1358 1360 1362 1364 1366 1368 1370 1372 1374 1376 1378 1380 1382 1384 1386 1388 1390 1392 1394 1396 1398 1400 1402 1404 1406 1408 1410 1412 1414 1416 1418 1420 1422 1424 1426 1428 1430 1432 1434 1436 1438 1440 1442 1444 1446 1448 1450 1452 1454 1456 1458 1460 1462 1464 1466 1468 1470 1472 1474 1476 1478 1480 1482 1484 1486 1488 1490 1492 1494 1496 1498 1500 1502 1504 1506 1508 1510 1512 1514 1516 1518 1520 1522 1524 1526 1528 1530 1532 1534 1536 1538 1540 1542 1544 1546 1548 1550 1552 1554 1556 1558 1560 1562 1564 1566 1568 1570 1572 1574 1576 1578 1580 1582 1584 1586 1588 1590 1592 1594 1596 1598 1600 1602 1604 1606 1608 1610 1612 1614 1616 1618 1620 1622 1624 1626 1628 1630 1632 1634 1636 1638 1640 1642 1644 1646 1648 1650 1652 1654 1656 1658 1660 1662 1664 1666 1668 1670 1672 1674 1676 1678 1680 1682 1684 1686 1688 1690 1692 1694 1696 1698 1700 1702 1704 1706 1708 1710 1712 1714 1716 1718 1720 1722 1724 1726 1728 1730 1732 1734 1736 1738 1740 1742 1744 1746 1748 1750 1752 1754 1756 1758 1760 1762 1764 1766 1768 1770 1772 1774 1776 1778 1780 1782 1784 1786 1788 1790 1792 1794 1796 1798 1800 1802 1804 1806 1808 1810 1812 1814 1816 1818 1820 1822 1824 1826 1828 1830 1832 1834 1836 1838 1840 1842 1844 1846 1848 1850 1852 1854 1856 1858 1860 1862 1864 1866 1868 1870 1872 1874 1876 1878 1880 1882 1884 1886 1888 1890 1892 1894 1896 1898 1900 1902 1904 1906 1908 1910 1912 1914 1916 1918 1920 1922 1924 1926 1928 1930 1932 1934 1936 1938 1940 1942 1944 1946 1948 1950 1952 1954 1956 1958 1960 1962 1964 1966 1968 1970 1972 1974 1976 1978 1980 1982 1984 1986 1988 1990 1992 1994 1996 1998 2000 2002 2004 2006 2008 2010 2012 2014 2016 2018 2020 2022 2024 2026 2028 2030 2032 2034 2036 2038 2040 2042 2044 2046 2048 2050 2052 2054 2056 2058 2060 2062 2064 2066 2068 2070 2072 2074 2076 2078 2080 2082 2084 2086 2088 2090 2092 2094 2096 2098 2100 2102 2104 2106 2108 2110 2112 2114 2116 2118 2120 2122 2124 2126 2128 2130 2132 2134 2136 2138 2140 2142 2144 2146 2148 2150 2152 2154 2156 2158 2160 2162 2164 2166 2168 2170 2172 2174 2176 2178 2180 2182 2184 2186 2188 2190 2192 2194 2196 2198 2200 2202 2204 2206 2208 2210 2212 2214 2216 2218 2220 2222 2224 2226 2228 2230 2232 2234 2236 2238 2240 2242 2244 2246 2248 2250 2252 2254 2256 2258 2260 2262 2264 2266 2268 2270 2272 2274 2276 2278 2280 2282 2284 2286 2288 2290 2292 2294 2296 2298 2300 2302 2304 2306 2308 2310 2312 2314 2316 2318 2320 2322 2324 2326 2328 2330 2332 2334 2336 2338 2340 2342 2344 2346 2348 2350 2352 2354 2356 2358 2360 2362 2364 2366 2368 2370 2372 2374 2376 2378 2380 2382 2384 2386 2388 2390 2392 2394 2396 2398 2400 2402 2404 2406 2408 2410 2412 2414 2416 2418 2420 2422 2424 2426 2428 2430 2432 2434 2436 2438 2440 2442 2444 2446 2448 2450 2452 2454 2456 2458 2460 2462 2464 2466 2468 2470 2472 2474 2476 2478 2480 2482 2484 2486 2488 2490 2492 2494 2496 2498 2500 2502 2504 2506 2508 2510 2512 2514 2516 2518 2520 2522 2524 2526 2528 2530 2532 2534 2536 2538 2540 2542 2544 2546 2548 2550 2552 2554 2556 2558 2560 2562 2564 2566 2568 2570 2572 2574 2576 2578 2580 2582 2584 2586 2588 2590 2592 2594 2596 2598 2600 2602 2604 2606 2608 2610 2612 2614 2616 2618 2620 2622 2624 2626 2628 2630 2632 2634 2636 2638 2640 2642 2644 2646 2648 2650 2652 2654 2656 2658 2660 2662 2664 2666 2668 2670 2672 2674 2676 2678 2680 2682 2684 2686 2688 2690 2692 2694 2696 2698 2700 2702 2704 2706 2708 2710 2712 2714 2716 2718 2720 2722 2724 2726 2728 2730 2732 2734 2736 2738 2740 2742 2744 2746 2748 2750 2752 2754 2756 2758 2760 2762 2764 2766 2768 2770 2772 2774 2776 2778 2780 2782 2784 2786 2788 2790 2792 2794 2796 2798 2800 2802 2804 2806 2808 2810 2812 2814 2816 2818 2820 2822 2824 2826 2828 2830 2832 2834 2836 2838 2840 2842 2844 2846 2848 2850 2852 2854 2856 2858 2860 2862 2864 2866 2868 2870 2872 2874 2876 2878 2880 2882 2884 2886 2888 2890 2892 2894 2896 2898 2900 2902 2904 2906 2908 2910 2912 2914 2916 2918 2920 2922 2924 2926 2928 2930 2932 2934 2936 2938 2940 2942 2944 2946 2948 2950 2952 2954 2956 2958 2960 2962 2964 2966 2968 2970 2972 2974 2976 2978 2980 2982 2984 2986 2988 2990 2992 2994 2996 2998 3000\n"
          ]
        }
      ]
    },
    {
      "cell_type": "markdown",
      "source": [
        "###`Problem 12`: A robot moves in a plane starting from the original point (0,0). The robot can move toward UP, DOWN, LEFT and RIGHT with a given steps. \n",
        "The trace of robot movement is shown as the following:\n",
        "\n",
        "UP 5\n",
        "DOWN 3\n",
        "LEFT 3\n",
        "RIGHT 2\n",
        "!\n",
        "\n",
        "The numbers after the direction are steps. \n",
        "\n",
        "`!` means robot stop there.\n",
        "\n",
        "**Please write a program to compute the distance from current position after a sequence of movement and original point.** \n",
        "\n",
        "*If the distance is a float, then just print the nearest integer.*\n",
        "\n",
        "Example:\n",
        "\n",
        "`Input`:\n",
        "\n",
        "UP 5\n",
        "DOWN 3\n",
        "LEFT 3\n",
        "RIGHT 2\n",
        "!\n",
        "\n",
        "`Output`:\n",
        "\n",
        "2\n"
      ],
      "metadata": {
        "id": "GV18IINT4mf5"
      }
    },
    {
      "cell_type": "code",
      "source": [
        "#Starting position of robot is (0,0)\n",
        "x = 0\n",
        "y = 0\n",
        "\n",
        "#Given trace of robot movement\n",
        "up = 5\n",
        "down = 3\n",
        "left = 3\n",
        "right = 2\n",
        "\n",
        "y_new = y + up - down\n",
        "x_new = x + left - 2\n",
        "\n",
        "print('New position is ({0},{1})'.format(x_new, y_new))"
      ],
      "metadata": {
        "id": "6UNMC2aR4w5x",
        "colab": {
          "base_uri": "https://localhost:8080/"
        },
        "outputId": "e9eae673-fef5-4159-cc32-4727ed9a308b"
      },
      "execution_count": 38,
      "outputs": [
        {
          "output_type": "stream",
          "name": "stdout",
          "text": [
            "New position is (1,2)\n"
          ]
        }
      ]
    },
    {
      "cell_type": "markdown",
      "source": [
        "###`Problem 13`:Write a program to print whether a given number is a prime number or not"
      ],
      "metadata": {
        "id": "3fsAIAhK5GYY"
      }
    },
    {
      "cell_type": "code",
      "source": [
        "import math\n",
        "num = int(input('Enter the number to check if its prime: '))\n",
        "\n",
        "#if a number is divisible by any number between 2 and sqrt(n), then number is not prime number\n",
        "if num <= 1:\n",
        "  print('{0} num is not prime number'.format(num))\n",
        "\n",
        "else:\n",
        "  #print(int(math.sqrt(num)))\n",
        "  for i in range(2, int(math.sqrt(num)) + 1):\n",
        "    if num%i == 0:\n",
        "       print('{0} num is not prime number'.format(num))\n",
        "       break\n",
        "  else:\n",
        "    print('{0} num is prime number'.format(num))\n"
      ],
      "metadata": {
        "id": "j6y91lxy5LZs",
        "colab": {
          "base_uri": "https://localhost:8080/"
        },
        "outputId": "74eb8544-9090-46ba-fd00-8d2e993f9153"
      },
      "execution_count": 52,
      "outputs": [
        {
          "output_type": "stream",
          "name": "stdout",
          "text": [
            "Enter the number to check if its prime: 43\n",
            "43 num is prime number\n"
          ]
        }
      ]
    },
    {
      "cell_type": "markdown",
      "source": [
        "###`Problem 14`:Print all the Armstrong numbers in a given range.\n",
        "Range will be provided by the user<br>\n",
        "Armstrong number is a number that is equal to the sum of cubes of its digits. For example 0, 1, 153, 370, 371 and 407 are the Armstrong numbers."
      ],
      "metadata": {
        "id": "asAbmbK-5NHv"
      }
    },
    {
      "cell_type": "code",
      "source": [
        "from IPython.utils.text import num_ini_spaces\n",
        "import math\n",
        "x = int(input(\"Enter the first number in range: \"))\n",
        "y = int(input(\"Enter the second number in range: \"))\n",
        "\n",
        "\n",
        "\n",
        "for num in range(x+1, y):\n",
        "\n",
        "  \n",
        "  n = 0\n",
        "  dig = num\n",
        "  \n",
        "  #Calculate number of digits\n",
        "  while dig != 0:\n",
        "    dig = dig // 10\n",
        "    n += 1\n",
        "    \n",
        "\n",
        "  \n",
        "  #Calculate the power\n",
        "  pwr = 0\n",
        "  nm = num\n",
        "\n",
        "\n",
        "  while nm != 0:\n",
        "    dgt = nm % 10\n",
        "    pwr = int(pwr + math.pow(dgt, n))\n",
        "    nm = nm // 10\n",
        "\n",
        "  if pwr == num:\n",
        "    print(pwr)\n",
        "  \n",
        "\n",
        "\n"
      ],
      "metadata": {
        "id": "PZuI67pm5jCT",
        "colab": {
          "base_uri": "https://localhost:8080/"
        },
        "outputId": "975e853b-6a2c-4f07-9e78-8b23e84010f9"
      },
      "execution_count": 16,
      "outputs": [
        {
          "output_type": "stream",
          "name": "stdout",
          "text": [
            "Enter the first number in range: 100\n",
            "Enter the second number in range: 400\n",
            "153\n",
            "370\n",
            "371\n"
          ]
        }
      ]
    },
    {
      "cell_type": "markdown",
      "source": [
        "###`Problem 15`:Calculate the angle between the hour hand and minute hand.\n",
        "\n",
        "Note: There can be two angles between hands; we need to print a minimum of two. Also, we need to print the floor of the final result angle. For example, if the final angle is 10.61, we need to print 10.\n",
        "\n",
        "Input:<br>\n",
        "H = 9 , M = 0<br>\n",
        "Output:<br>\n",
        "90<br>\n",
        "Explanation:<br>\n",
        "The minimum angle between hour and minute\n",
        "hand when the time is 9 is 90 degress."
      ],
      "metadata": {
        "id": "ClCQZMqT7gK0"
      }
    },
    {
      "cell_type": "code",
      "source": [
        "from re import M\n",
        "h = int(input(\"Enter the value of hour: \"))\n",
        "m = int(input(\"Enter the value of minute: \"))\n",
        "\n",
        "if h==12:\n",
        "  h = 0\n",
        "\n",
        "if m==60:\n",
        "  m = 0\n",
        "  h += 1\n",
        "  if h > 12:\n",
        "    h = h - 12\n",
        "\n",
        "#The minute hand moves 360 degrees in 60 minute(or 6 degrees in one minute) and hour hand moves 360 degrees in 12 hours(or 0.5 degrees in 1 minute). \n",
        "#In h hours and m minutes, the minute hand would move (h*60 + m)*6 and hour hand would move (h*60 + m)*0.5. \n",
        "\n",
        "h_angle = (h*60 + m)*0.5\n",
        "m_angle = 6*m \n",
        "\n",
        "angle = abs(h_angle - m_angle)\n",
        "\n",
        "#The minimum angle between hour and minute hand \n",
        "angle = min(360-angle, angle)\n",
        "\n",
        "print(angle)\n"
      ],
      "metadata": {
        "id": "tNBTCZML7jy_",
        "colab": {
          "base_uri": "https://localhost:8080/"
        },
        "outputId": "0ab60618-7b0a-4901-a03a-ec3feb61371c"
      },
      "execution_count": 5,
      "outputs": [
        {
          "output_type": "stream",
          "name": "stdout",
          "text": [
            "Enter the value of hour: 9\n",
            "Enter the value of minute: 0\n",
            "90.0\n"
          ]
        }
      ]
    },
    {
      "cell_type": "markdown",
      "source": [
        "###`Problem 16`:Given two rectangles, find if the given two rectangles overlap or not. A rectangle is denoted by providing the x and y coordinates of two points: the left top corner and the right bottom corner of the rectangle. Two rectangles sharing a side are considered overlapping. (L1 and R1 are the extreme points of the first rectangle and L2 and R2 are the extreme points of the second rectangle).\n",
        "\n",
        "Note: It may be assumed that the rectangles are parallel to the coordinate axis.\n",
        "\n",
        "<img src='https://www.geeksforgeeks.org/wp-content/uploads/rectanglesOverlap.png' width='300' height='200'>"
      ],
      "metadata": {
        "id": "GwacF9Co72Qc"
      }
    },
    {
      "cell_type": "code",
      "source": [
        "L1_x = int(input(\"Enter the value of L1.x\"))\n",
        "L1_y = int(input(\"Enter the value of L1.y\"))\n",
        "L2_x = int(input(\"Enter the value of L2.x\"))\n",
        "L2_y = int(input(\"Enter the value of L2.y\"))\n",
        "R1_x = int(input(\"Enter the value of R1.x\"))\n",
        "R1_y = int(input(\"Enter the value of R1.y\"))\n",
        "R2_x = int(input(\"Enter the value of R2.x\"))\n",
        "R2_y = int(input(\"Enter the value of R2.y\"))\n",
        "\n",
        "if L1_x > R2_x or L2_x > R1_x:\n",
        "  flag_overlap1 = False\n",
        "else:\n",
        "  flag_overlap1 = True\n",
        "\n",
        "if R2_y > L1_y or R1_y > L2_y:\n",
        "  flag_overlap2 = False\n",
        "else:\n",
        "  flag_overlap2 = True\n",
        "\n",
        "if flag_overlap1 ==True or flag_overlap2 == True:\n",
        "  print(\"Rectangles overlap\")\n",
        "\n",
        "else:\n",
        "  print(\"Rectangles do not overlap\")\n",
        "\n"
      ],
      "metadata": {
        "id": "6rrw_lpH78Rs",
        "colab": {
          "base_uri": "https://localhost:8080/"
        },
        "outputId": "b3a7a5af-227c-4a4d-9d92-54548d582c41"
      },
      "execution_count": 4,
      "outputs": [
        {
          "output_type": "stream",
          "name": "stdout",
          "text": [
            "Enter the value of L1.x0\n",
            "Enter the value of L1.y10\n",
            "Enter the value of L2.x5\n",
            "Enter the value of L2.y5\n",
            "Enter the value of R1.x10\n",
            "Enter the value of R1.y0\n",
            "Enter the value of R2.x15\n",
            "Enter the value of R2.y0\n",
            "Rectangles overlap\n"
          ]
        }
      ]
    },
    {
      "cell_type": "code",
      "source": [],
      "metadata": {
        "id": "Z5l63Cc1q1IE"
      },
      "execution_count": null,
      "outputs": []
    }
  ]
}