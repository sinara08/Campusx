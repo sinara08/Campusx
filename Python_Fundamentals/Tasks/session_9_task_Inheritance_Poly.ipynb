{
  "nbformat": 4,
  "nbformat_minor": 0,
  "metadata": {
    "colab": {
      "provenance": [],
      "collapsed_sections": [
        "BCleRtX43caS",
        "KBbGNTtQ47mJ",
        "ExIxsv4y-oEd",
        "OcQhJvXVALgp",
        "sEsGEqOHCSWG",
        "v1M5Yh9ZZO0z"
      ],
      "include_colab_link": true
    },
    "kernelspec": {
      "name": "python3",
      "display_name": "Python 3"
    },
    "language_info": {
      "name": "python"
    }
  },
  "cells": [
    {
      "cell_type": "markdown",
      "metadata": {
        "id": "view-in-github",
        "colab_type": "text"
      },
      "source": [
        "<a href=\"https://colab.research.google.com/github/sinara08/Campusx/blob/main/Python_Fundamentals/Tasks/session_9_task_Inheritance_Poly.ipynb\" target=\"_parent\"><img src=\"https://colab.research.google.com/assets/colab-badge.svg\" alt=\"Open In Colab\"/></a>"
      ]
    },
    {
      "cell_type": "markdown",
      "source": [
        "### `Problem-1:` Class inheritence\n",
        "\n",
        "Create a **Bus** child class that inherits from the Vehicle class. The default fare charge of any vehicle is seating capacity * 100. If Vehicle is Bus instance, we need to add an extra 10% on full fare as a maintenance charge. So total fare for bus instance will become the final amount = total fare + 10% of the total fare.\n",
        "\n",
        "Note: The bus seating capacity is 50. so the final fare amount should be 5500. You need to override the fare() method of a Vehicle class in Bus class."
      ],
      "metadata": {
        "id": "BCleRtX43caS"
      }
    },
    {
      "cell_type": "code",
      "execution_count": null,
      "metadata": {
        "colab": {
          "base_uri": "https://localhost:8080/"
        },
        "id": "6jVFCXKz3YZI",
        "outputId": "a8649209-08e2-4f60-a914-74a914dd697e"
      },
      "outputs": [
        {
          "output_type": "stream",
          "name": "stdout",
          "text": [
            "Total Bus fare is: 5500.0\n"
          ]
        }
      ],
      "source": [
        "# Write code here"
      ]
    },
    {
      "cell_type": "code",
      "source": [
        "class Vehicle:\n",
        "  def __init__(self, tp, st):\n",
        "    self.typ = tp\n",
        "    self.seat_cap = st\n",
        "  def fare(self):\n",
        "    return self.seat_cap * 100\n",
        "\n",
        "class Bus(Vehicle):\n",
        "\n",
        "\n",
        "  def fare(self):\n",
        "    base_fare = super().fare()\n",
        "    #print(tot_fare)\n",
        "    tot_fare = base_fare + base_fare* 0.1\n",
        "    return tot_fare\n",
        "\n",
        "b = Bus('Bus',50)\n",
        "print('Total Bus fare is: ',b.fare())"
      ],
      "metadata": {
        "id": "p7y0nccqhcsd",
        "outputId": "ff17c310-a8ee-41a7-a5b6-be90c8d7c67e",
        "colab": {
          "base_uri": "https://localhost:8080/"
        }
      },
      "execution_count": 2,
      "outputs": [
        {
          "output_type": "stream",
          "name": "stdout",
          "text": [
            "Total Bus fare is:  5500.0\n"
          ]
        }
      ]
    },
    {
      "cell_type": "markdown",
      "source": [
        "### `Problem-2:` Class Inheritence\n",
        "\n",
        "Create a Bus class that inherits from the Vehicle class. Give the capacity argument of *Bus.seating_capacity()* a default value of 50.\n",
        "\n",
        "Use the following code for your parent Vehicle class."
      ],
      "metadata": {
        "id": "KBbGNTtQ47mJ"
      }
    },
    {
      "cell_type": "code",
      "source": [
        "#Ignore"
      ],
      "metadata": {
        "id": "MwOnYE_14M-r"
      },
      "execution_count": null,
      "outputs": []
    },
    {
      "cell_type": "code",
      "source": [],
      "metadata": {
        "id": "Py5Gr0ip5OBB"
      },
      "execution_count": null,
      "outputs": []
    },
    {
      "cell_type": "markdown",
      "source": [
        "### `Problem-3:` Write a program that has a class Point. Define another class Location which has two objects (Location & Destination) of class Point. Also define a function in Location that prints the reflection of Destination on the x axis."
      ],
      "metadata": {
        "id": "ExIxsv4y-oEd"
      }
    },
    {
      "cell_type": "code",
      "source": [
        "class Location:\n",
        "  def __init__(self, loc, dest):\n",
        "    self.location = loc\n",
        "    self.destination = dest\n",
        "\n",
        "  def reflection(self):\n",
        "    self.destination.ypt = -self.destination.xpt\n",
        "    return self.destination.xpt,self.destination.ypt\n",
        "class Point:\n",
        "  def __init__(self, x, y):\n",
        "    self.xpt = x\n",
        "    self.ypt = y\n",
        "\n",
        "l = Point(5,6)\n",
        "d = Point(10,15)\n",
        "\n",
        "l = Location(l, d)\n",
        "print(l.reflection())\n",
        "\n"
      ],
      "metadata": {
        "id": "yT2QtzQp5VAB",
        "outputId": "bea8b7d6-467b-4efe-8914-64147c195781",
        "colab": {
          "base_uri": "https://localhost:8080/"
        }
      },
      "execution_count": 7,
      "outputs": [
        {
          "output_type": "stream",
          "name": "stdout",
          "text": [
            "(10, -10)\n"
          ]
        }
      ]
    },
    {
      "cell_type": "markdown",
      "source": [
        "### `Problem-4:` Write a program that has an abstract class Polygon. Derive two classes Rectangle and Triamgle from Polygon and write methods to get the details of their dimensions and hence calculate the area."
      ],
      "metadata": {
        "id": "OcQhJvXVALgp"
      }
    },
    {
      "cell_type": "code",
      "source": [
        "\n",
        "from abc import abstractmethod, ABC\n",
        "class Polygon:\n",
        "  @abstractmethod\n",
        "  def area():\n",
        "    pass\n",
        "class Rectangle(Polygon):\n",
        "  def __init__(self,l, b):\n",
        "    self.length = l\n",
        "    self.breadth = b\n",
        "\n",
        "  def area(self):\n",
        "    return self.length * self.breadth\n",
        "\n",
        "class Triangle(Polygon):\n",
        "  def __init__(self, b, h):\n",
        "    self.breadth = b\n",
        "    self.height = h\n",
        "  \n",
        "  def area(self):\n",
        "    return self.breadth * self.height * 0.5\n",
        "\n",
        "\n",
        "r = Rectangle(10,20)\n",
        "t = Triangle(5, 7)\n",
        "print(r.area())\n",
        "print(t.area())\n"
      ],
      "metadata": {
        "id": "9IMrtdUH__eA",
        "outputId": "89637c2e-e0c7-45a1-f577-4acd8b40e4ec",
        "colab": {
          "base_uri": "https://localhost:8080/"
        }
      },
      "execution_count": 8,
      "outputs": [
        {
          "output_type": "stream",
          "name": "stdout",
          "text": [
            "200\n",
            "17.5\n"
          ]
        }
      ]
    },
    {
      "cell_type": "markdown",
      "source": [
        "### `Problem-5:` Write a program with class Bill. The users have the option to pay the bill either by cheque or by cash. Use the inheritance to model this situation."
      ],
      "metadata": {
        "id": "sEsGEqOHCSWG"
      }
    },
    {
      "cell_type": "code",
      "source": [
        "class Bill:\n",
        "\n",
        "  def __init__(self,items,price):\n",
        "    self.total = 0\n",
        "    self.items = items\n",
        "    self.price = price\n",
        "\n",
        "    for i in self.price:\n",
        "      self.total = self.total + i\n",
        "\n",
        "  def display(self):\n",
        "    print('Item \\t\\t\\t Price')\n",
        "    for i in range(len(self.items)):\n",
        "      print(self.items[i],'\\t',self.price[i])\n",
        "    print(\"*\"*10)\n",
        "\n",
        "    print(\"Total\",self.total)\n",
        "\n",
        "class CashPayment(Bill):\n",
        "\n",
        "  def __init__(self,items,price,deno,value):\n",
        "    super().__init__(items,price)\n",
        "\n",
        "    self.deno = deno\n",
        "    self.value = value\n",
        "\n",
        "  def show_cash_payment(self):\n",
        "    super().display()\n",
        "    for i in range(len(self.deno)):\n",
        "      print(self.deno[i],\"*\",self.value[i],\"=\",self.deno[i]*self.value[i])\n",
        "\n",
        "class ChequePayment(Bill):\n",
        "\n",
        "  def __init__(self,items,price,cno,name):\n",
        "    super().__init__(items,price)\n",
        "\n",
        "    self.cno = cno\n",
        "    self.name = name\n",
        "\n",
        "  def show_cheque_payment(self):\n",
        "    super().display()\n",
        "    print('Cheque no',self.cno)\n",
        "    print('Bank name',self.name)\n",
        "\n",
        "items = [\"External Hard Disk\", \"RAM\", \"Printer\", \"Pen Drive\"]\n",
        "price = [5000, 2000, 6000, 800]\n",
        "\n",
        "deno = [10, 20, 50, 100, 500, 2000]\n",
        "value = [1, 1, 1, 20, 4, 5]\n",
        "cash = CashPayment(items, price, deno, value)\n",
        "cash.show_cash_payment()\n"
      ],
      "metadata": {
        "id": "l0WFyP2PB3nf"
      },
      "execution_count": null,
      "outputs": []
    },
    {
      "cell_type": "code",
      "source": [
        "items = [\"External Hard Disk\", \"RAM\", \"Printer\", \"Pen Drive\"]\n",
        "price = [5000, 2000, 6000, 800]\n",
        "option = int(input(\"Would you like to pay by cheque or cash (1/2): \"))\n",
        "\n",
        "if option == 1:\n",
        "    name = input(\"Enter the name of the bank: \")\n",
        "    cno = input(\"Enter the cheque number: \")\n",
        "    cheque = ChequePayment(items, price, cno, name)\n",
        "    cheque.show_cheque_payment()\n",
        "\n",
        "else:\n",
        "    deno = [10, 20, 50, 100, 500, 2000]\n",
        "    value = [1, 1, 1, 20, 4, 5]\n",
        "    cash = CashPayment(items, price, deno, value)\n",
        "    cash.show_cash_payment()"
      ],
      "metadata": {
        "id": "rn-ofE0za2yK"
      },
      "execution_count": null,
      "outputs": []
    },
    {
      "cell_type": "markdown",
      "source": [
        "###`Q-6:` FlexibleDict\n",
        "As of now we are accessing values from dictionary with exact keys. Now we want to amend accessing values functionality. if a dict have key `1` (int) the even if we try to access values by giving `'1'` (1 as str) as key, we should get the same result and vice versa.\n",
        "\n",
        "Write a class `FlexibleDict` upon builtin `dict` class with above required functionality.\n",
        "\n",
        "Hint- `dict[key] => dict.__getitem__(key)` "
      ],
      "metadata": {
        "id": "v1M5Yh9ZZO0z"
      }
    },
    {
      "cell_type": "markdown",
      "source": [
        "Ex.\n",
        "```\n",
        "fd = FlexibleDict()\n",
        "fd['a'] = 100\n",
        "print(fd['a']) # Like regular dict\n",
        "\n",
        "fd[5] = 500\n",
        "print(fd[5]) # Like regular dict\n",
        "\n",
        "fd[1] = 100\n",
        "print(fd['1']) # actual Key is int but still trying to access through str key.\n",
        "fd['1'] = 100\n",
        "print(fd[1])\n",
        "\n",
        "```\n",
        "`Output:`\n",
        "```\n",
        "100\n",
        "500\n",
        "100\n",
        "100\n",
        "\n",
        "```"
      ],
      "metadata": {
        "id": "uajGeWegbfda"
      }
    },
    {
      "cell_type": "code",
      "source": [],
      "metadata": {
        "id": "OHLbOtCxZ2nw"
      },
      "execution_count": null,
      "outputs": []
    },
    {
      "cell_type": "code",
      "source": [],
      "metadata": {
        "id": "7NM8r__dmeMf"
      },
      "execution_count": null,
      "outputs": []
    },
    {
      "cell_type": "code",
      "source": [],
      "metadata": {
        "id": "waHSud8Ymkz-"
      },
      "execution_count": null,
      "outputs": []
    }
  ]
}