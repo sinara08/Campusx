{
  "nbformat": 4,
  "nbformat_minor": 0,
  "metadata": {
    "colab": {
      "provenance": [],
      "include_colab_link": true
    },
    "kernelspec": {
      "name": "python3",
      "display_name": "Python 3"
    },
    "language_info": {
      "name": "python"
    }
  },
  "cells": [
    {
      "cell_type": "markdown",
      "metadata": {
        "id": "view-in-github",
        "colab_type": "text"
      },
      "source": [
        "<a href=\"https://colab.research.google.com/github/sinara08/Campusx/blob/main/Python_Fundamentals/Tasks/session_4_task.ipynb\" target=\"_parent\"><img src=\"https://colab.research.google.com/assets/colab-badge.svg\" alt=\"Open In Colab\"/></a>"
      ]
    },
    {
      "cell_type": "markdown",
      "source": [
        "###`Problem 1:` Combine two lists index-wise(columns wise)\n",
        "\n",
        "Write a program to add two lists index-wise. Create a new list that contains the 0th index item from both the list, then the 1st index item, and so on till the last element. any leftover items will get added at the end of the new list.\n",
        "\n",
        "`Given List:`\n",
        "\n",
        "list1 = [\"M\", \"na\", \"i\", \"Kh\"]\n",
        "\n",
        "list2 = [\"y\", \"me\", \"s\", \"an\"]\n",
        "\n",
        "\n",
        "`Output:`\n",
        "\n",
        "[['M','y'], ['na', me'], ['i', 's'], ['Kh', 'an']]\n"
      ],
      "metadata": {
        "id": "kLZ_vCeE0lsM"
      }
    },
    {
      "cell_type": "code",
      "source": [
        "list1 = [\"M\", \"na\", \"i\", \"Kh\"] \n",
        "list2 = [\"y\", \"me\", \"s\", \"an\"]\n",
        "\n",
        "reslt = [list(tp) for tp in list(zip(list1, list2))]\n",
        "\n",
        "print(reslt)\n",
        "\n",
        "reslt1 = [[i,j] for (i,j) in list(zip(list1, list2))]\n",
        "\n",
        "print(reslt1)\n"
      ],
      "metadata": {
        "id": "cDO3Yv6p0nnG",
        "outputId": "9ff51b07-c970-4c56-a39c-e28c4481459b",
        "colab": {
          "base_uri": "https://localhost:8080/"
        }
      },
      "execution_count": 2,
      "outputs": [
        {
          "output_type": "stream",
          "name": "stdout",
          "text": [
            "[['M', 'y'], ['na', 'me'], ['i', 's'], ['Kh', 'an']]\n",
            "[['M', 'y'], ['na', 'me'], ['i', 's'], ['Kh', 'an']]\n"
          ]
        }
      ]
    },
    {
      "cell_type": "markdown",
      "source": [
        "### `Problem 2:` Add new item to list after a specified item\n",
        "Write a program to add item 7000 after 6000 in the following Python List\n",
        "\n",
        "list1 = [10, 20, [300, 400, [5000, 6000], 500], 30, 40]\n",
        "\n",
        "`Output:`\n",
        "\n",
        "[10, 20, [300, 400, [5000, 6000, 7000], 500], 30, 40]\n"
      ],
      "metadata": {
        "id": "bnRwRgf_0qLu"
      }
    },
    {
      "cell_type": "code",
      "source": [
        "list1 = [10, 20, [300, 400, [5000, 6000], 500], 30, 40]\n",
        "\n",
        "list1[2][2].insert(2,7000)\n",
        "print(list1)"
      ],
      "metadata": {
        "id": "yW5lLPns00q9",
        "outputId": "57421e88-c89d-4d6f-b66b-1ddbcf5a6918",
        "colab": {
          "base_uri": "https://localhost:8080/"
        }
      },
      "execution_count": null,
      "outputs": [
        {
          "output_type": "stream",
          "name": "stdout",
          "text": [
            "[10, 20, [300, 400, [5000, 6000, 7000], 500], 30, 40]\n"
          ]
        }
      ]
    },
    {
      "cell_type": "markdown",
      "source": [
        "###`Problem 3:` Update no of items available\n",
        "\n",
        "Suppose you are given a list of candy and another list of same size representing no of items of respective candy. \n",
        "\n",
        "i.e -  \n",
        "\n",
        "candy_list = ['Jelly Belly','Kit Kat','Double Bubble','Milky Way','Three Musketeers']\n",
        "\n",
        "no_of_items = [10,20,34,74,32]\n",
        "\n",
        "\n",
        "Write a program to show no. of items of each candy type.\n",
        "\n",
        "`Output:`\n",
        "\n",
        "\n",
        "Jelly Belly-10\n",
        "\n",
        "Kit Kat-20\n",
        "\n",
        "Double Bubble-34\n",
        "\n",
        "Milky Way-74\n",
        "\n",
        "Three Musketeers-32\n",
        "\n"
      ],
      "metadata": {
        "id": "w7fC8oHk02fH"
      }
    },
    {
      "cell_type": "code",
      "source": [
        "candy_list = ['Jelly Belly','Kit Kat','Double Bubble','Milky Way','Three Musketeers']\n",
        "no_of_items = [10,20,34,74,32]\n",
        "\n",
        "rslt = [candy_list[i]+\"-\"+str(no_of_items[i]) for i in range(len(candy_list)) ]\n",
        "print(str(rslt)[1:-1].replace(\"'\",\"\").replace(\",\",'\\n'))\n",
        "print('-----------------------')\n",
        "for i,j in zip(candy_list, no_of_items):\n",
        "  print(i,'-',j)\n"
      ],
      "metadata": {
        "id": "gg5JEX1a09q8",
        "outputId": "95ac1f04-b305-47ef-c95d-d68be028a674",
        "colab": {
          "base_uri": "https://localhost:8080/"
        }
      },
      "execution_count": 5,
      "outputs": [
        {
          "output_type": "stream",
          "name": "stdout",
          "text": [
            "Jelly Belly-10\n",
            " Kit Kat-20\n",
            " Double Bubble-34\n",
            " Milky Way-74\n",
            " Three Musketeers-32\n",
            "-----------------------\n",
            "Jelly Belly - 10\n",
            "Kit Kat - 20\n",
            "Double Bubble - 34\n",
            "Milky Way - 74\n",
            "Three Musketeers - 32\n"
          ]
        }
      ]
    },
    {
      "cell_type": "markdown",
      "source": [
        "###`Problem 4:` Running Sum on list\n",
        "Write a program to print a list after performing running sum on it.\n",
        "\n",
        "i.e:\n",
        "\n",
        "`Input:`\n",
        "\n",
        "list1 = [1,2,3,4,5,6]\n",
        "\n",
        "`Output:`\n",
        "\n",
        "[1,3,6,10,15,21]\n"
      ],
      "metadata": {
        "id": "mFGZAvnB1D3N"
      }
    },
    {
      "cell_type": "code",
      "source": [
        "list1 = [1,2,3,4,5,6]\n",
        "\n",
        "rslt = []\n",
        "sum = 0\n",
        "\n",
        "for i in range(len(list1)):\n",
        "  sum += list1[i]\n",
        "  rslt.append(sum)\n",
        "\n",
        "print(rslt)"
      ],
      "metadata": {
        "id": "8LPS6DaD1FTs",
        "outputId": "29cf0b12-bb31-45fe-f222-94da634d1d0d",
        "colab": {
          "base_uri": "https://localhost:8080/"
        }
      },
      "execution_count": null,
      "outputs": [
        {
          "output_type": "stream",
          "name": "stdout",
          "text": [
            "[1, 3, 6, 10, 15, 21]\n"
          ]
        }
      ]
    },
    {
      "cell_type": "markdown",
      "source": [
        "###`Problem 5:` You are given a list of integers. You are asked to make a list by running through elements of the list by adding all elements greater and itself.\n",
        "\n",
        "i.e. Say given list is `[2,4,6,10,1]`\n",
        "resultant list will be `[22,20,10,23]`.\n",
        "\n",
        "For 1st element `2` ->> these are greater `(4+6+10)` values and `2` itself so on adding becomes `22`.\n",
        "\n",
        "For 2nd element `4` ->> greater elements are `(6, 10)` and `4` itself, so on adding `20`\n",
        "\n",
        "like wise for all other elememts.\n",
        "\n",
        "`[2,4,6,10,1]`-->`[22,20,16,10,23]`\n",
        "\n",
        "\n"
      ],
      "metadata": {
        "id": "2ztcZ-EW1HEU"
      }
    },
    {
      "cell_type": "code",
      "source": [
        "list1 = [2,4,6,10,1]\n",
        "\n",
        "rslt = []\n",
        "sum = 0\n",
        "\n",
        "\n",
        "\n",
        "\n",
        "for i in range(len(list1)) :\n",
        "  sum = list1[i]\n",
        "  for j in range(len(list1)):\n",
        "    if list1[i] < list1[j]:\n",
        "      sum += list1[j]\n",
        "  \n",
        "  rslt.append(sum)\n",
        "  \n",
        "\n",
        "print(rslt)\n"
      ],
      "metadata": {
        "id": "UJuWqzj31UD2",
        "outputId": "d138a47d-7d68-4673-b83e-7ebf681b71df",
        "colab": {
          "base_uri": "https://localhost:8080/"
        }
      },
      "execution_count": null,
      "outputs": [
        {
          "output_type": "stream",
          "name": "stdout",
          "text": [
            "[22, 20, 16, 10, 23]\n"
          ]
        }
      ]
    },
    {
      "cell_type": "markdown",
      "source": [
        "###`Problem 6:` Find list of common unique items from two list. and show in increasing order\n",
        "\n",
        "`Input`\n",
        "\n",
        "\n",
        "num1 = [23,45,67,78,89,34]\n",
        "\n",
        "num2 = [34,89,55,56,39,67]\n",
        "\n",
        "\n",
        "`Output:`\n",
        "\n",
        "[34, 67, 89]\n",
        "\n"
      ],
      "metadata": {
        "id": "c9H6tYTx1ZYo"
      }
    },
    {
      "cell_type": "code",
      "source": [
        "num1 = [23,45,67,78,89,34]\n",
        "num2 = [34,89,55,56,39,67]\n",
        "\n",
        "rslt = [num for num in num1 if num in num2 if num not in rslt]\n",
        "print(sorted(rslt))"
      ],
      "metadata": {
        "id": "dDxdi7eE1e1W",
        "outputId": "4d71d528-830f-4997-b800-b3469c9ecd4d",
        "colab": {
          "base_uri": "https://localhost:8080/"
        }
      },
      "execution_count": 6,
      "outputs": [
        {
          "output_type": "stream",
          "name": "stdout",
          "text": [
            "[34, 67, 89]\n"
          ]
        }
      ]
    },
    {
      "cell_type": "markdown",
      "source": [
        "###`Problem 7:` Sort a list of alphanumeric strings based on product value of numeric character in it. If in any string there is no numeric character take it's product value as 1.\n",
        "\n",
        "`Input:`\n",
        "\n",
        "['1ac21', '23fg', '456', '098d','1','kls']\n",
        "\n",
        "\n",
        "`Output:`\n",
        "\n",
        "['456', '23fg', '1ac21', '1', 'kls', '098d']\n",
        "\n"
      ],
      "metadata": {
        "id": "i3Izok2i1gRD"
      }
    },
    {
      "cell_type": "code",
      "source": [
        "list1 = ['1ac21', '23fg', '456', '098d','1','kls']\n",
        "\n",
        "def prod(L):\n",
        "  prd = 1\n",
        "  for i in L:\n",
        "    if i.isnumeric():\n",
        "      prd *= int(i)\n",
        "\n",
        "  return prd\n",
        "\n",
        "\n",
        "print(sorted(list1, key = prod, reverse = True))\n"
      ],
      "metadata": {
        "id": "eiXSanG11oq6",
        "outputId": "58ca39e8-aec2-4f12-d4da-0cd8cae29af1",
        "colab": {
          "base_uri": "https://localhost:8080/"
        }
      },
      "execution_count": null,
      "outputs": [
        {
          "output_type": "stream",
          "name": "stdout",
          "text": [
            "['456', '23fg', '1ac21', '1', 'kls', '098d']\n"
          ]
        }
      ]
    },
    {
      "cell_type": "markdown",
      "source": [
        "`Problem 8:` Split String of list on K character.\n",
        "\n",
        "**Example :**\n",
        "\n",
        "Input:\n",
        "```bash\n",
        "['CampusX is a channel', 'for data-science', 'aspirants.']\n",
        "```\n",
        "\n",
        "Output:\n",
        "```bash\n",
        "['CampusX', 'is', 'a', 'channel', 'for', 'data-science', 'aspirants.']\n",
        "```"
      ],
      "metadata": {
        "id": "McMaNSpB1zJB"
      }
    },
    {
      "cell_type": "code",
      "source": [
        "list1 = ['CampusX is a channel', 'for data-science', 'aspirants.']\n",
        "\n",
        "rslt = []\n",
        "rslt1 = []\n",
        "\n",
        "for i in list1:\n",
        "  rslt.append(str(i.split())[1:-1])\n",
        "\n",
        "print(str(rslt).replace('\"',\"\"))\n",
        "\n",
        "for i in list1:\n",
        "  rslt1.extend(i.split())\n",
        "  \n",
        "print(rslt1)"
      ],
      "metadata": {
        "id": "rLg6AUhf14wI",
        "outputId": "b0feefdb-7ade-4d6b-adb5-8ca06a59078a",
        "colab": {
          "base_uri": "https://localhost:8080/"
        }
      },
      "execution_count": 10,
      "outputs": [
        {
          "output_type": "stream",
          "name": "stdout",
          "text": [
            "['CampusX', 'is', 'a', 'channel', 'for', 'data-science', 'aspirants.']\n",
            "['CampusX', 'is', 'a', 'channel', 'for', 'data-science', 'aspirants.']\n"
          ]
        }
      ]
    },
    {
      "cell_type": "markdown",
      "source": [
        "### `Problem 9:` Convert Character Matrix to single String using string comprehension.\n",
        "\n",
        "**Example 1:** \n",
        "\n",
        "Input:\n",
        "```bash\n",
        "[['c', 'a', 'm', 'p', 'u', 'x'], ['i', 's'], ['b', 'e', 's', 't'], ['c', 'h', 'a', 'n', 'n', 'e', 'l']]\n",
        "```\n",
        "\n",
        "Output:\n",
        "```bash\n",
        "campux is best channel\n",
        "```"
      ],
      "metadata": {
        "id": "ebqIC0Xa16dG"
      }
    },
    {
      "cell_type": "code",
      "source": [
        "inpt = [['c', 'a', 'm', 'p', 'u', 'x'], ['i', 's'], ['b', 'e', 's', 't'], ['c', 'h', 'a', 'n', 'n', 'e', 'l']]\n",
        "\n",
        "#result = [''.join(x) for x in inpt]\n",
        "\n",
        "result = ' '.join(''.join(x) for x in inpt)\n",
        "\n",
        "print(result)\n",
        "\n",
        "#for i in inpt:\n",
        " # for j in list(i):\n",
        "  #  print(j, end = '')\n",
        "\n",
        "  #print(end = ' ')"
      ],
      "metadata": {
        "id": "KLKxzyZf2BLr",
        "outputId": "44d000b3-ca1a-4762-9b78-693ff898e2aa",
        "colab": {
          "base_uri": "https://localhost:8080/"
        }
      },
      "execution_count": null,
      "outputs": [
        {
          "output_type": "stream",
          "name": "stdout",
          "text": [
            "campux is best channel\n"
          ]
        }
      ]
    },
    {
      "cell_type": "markdown",
      "source": [
        "### `Problem 10:` Add Space between Potential Words.\n",
        "\n",
        "**Example:**\n",
        "\n",
        "Input:\n",
        "\n",
        "```bash\n",
        "['campusxIs', 'bestFor', 'dataScientist']\n",
        "```\n",
        "\n",
        "Output:\n",
        "```bash\n",
        "['campusx Is', 'best For', 'data Scientist']\n",
        "```"
      ],
      "metadata": {
        "id": "0v1Z3Snp2DAm"
      }
    },
    {
      "cell_type": "code",
      "source": [
        "inpt = ['campusxIs', 'bestFor', 'dataScientist']\n",
        "\n",
        "lst = []\n",
        "for i in inpt:\n",
        "  for j in i:\n",
        "    if j.isupper() == True:\n",
        "      i = i.replace(j, \" \"+j)\n",
        "  \n",
        "  lst.append(i)\n",
        "print(lst)    "
      ],
      "metadata": {
        "id": "pltvqSXa2IxP",
        "outputId": "a1766040-1823-4296-e70c-cb87ae166f94",
        "colab": {
          "base_uri": "https://localhost:8080/"
        }
      },
      "execution_count": null,
      "outputs": [
        {
          "output_type": "stream",
          "name": "stdout",
          "text": [
            "['campusx Is', 'best For', 'data Scientist']\n"
          ]
        }
      ]
    },
    {
      "cell_type": "markdown",
      "source": [
        "### `Problem 11:` Write a program that can perform union operation on 2 lists\n",
        "\n",
        "**Example:**\n",
        "\n",
        "Input:\n",
        "\n",
        "```bash\n",
        "[1,2,3,4,5,1]\n",
        "[2,3,5,7,8]\n",
        "```\n",
        "\n",
        "Output:\n",
        "```bash\n",
        "[1,2,3,4,5,7,8]\n",
        "```"
      ],
      "metadata": {
        "id": "tnmBk1M52KXW"
      }
    },
    {
      "cell_type": "code",
      "source": [
        "inpt1=[1,2,3,4,5,1]\n",
        "inpt2 = [2,3,5,7,8]\n",
        "\n",
        "rslt = set(inpt1).union(inpt2)\n",
        "print(list(rslt))"
      ],
      "metadata": {
        "id": "u0AgIToU2-Ht",
        "outputId": "9be8ac8e-694a-4fed-9f84-5ba318566efa",
        "colab": {
          "base_uri": "https://localhost:8080/"
        }
      },
      "execution_count": null,
      "outputs": [
        {
          "output_type": "stream",
          "name": "stdout",
          "text": [
            "[1, 2, 3, 4, 5, 7, 8]\n"
          ]
        }
      ]
    },
    {
      "cell_type": "markdown",
      "source": [
        "### `Problem 12:` Write a program that can find the max number of each row of a matrix\n",
        "\n",
        "**Example:**\n",
        "\n",
        "Input:\n",
        "\n",
        "```bash\n",
        "[[1,2,3],[4,5,6],[7,8,9]]\n",
        "```\n",
        "\n",
        "Output:\n",
        "```bash\n",
        "[3,6,9]\n",
        "```"
      ],
      "metadata": {
        "id": "Yt8x67Ch3Ow1"
      }
    },
    {
      "cell_type": "code",
      "source": [
        "inpt = [[1,2,3],[4,5,6],[7,8,9]]\n",
        "\n",
        "rslt = []\n",
        "\n",
        "for i in inpt:\n",
        "  #print(max(i))\n",
        "  rslt.append(max(i))\n",
        "\n",
        "print(rslt)"
      ],
      "metadata": {
        "id": "7QopAaAI3noh",
        "outputId": "9b5738ca-85d5-4698-9677-782647c93313",
        "colab": {
          "base_uri": "https://localhost:8080/"
        }
      },
      "execution_count": null,
      "outputs": [
        {
          "output_type": "stream",
          "name": "stdout",
          "text": [
            "[3, 6, 9]\n"
          ]
        }
      ]
    },
    {
      "cell_type": "markdown",
      "source": [
        "### `Problem 13:` Write a list comprehension to print the following matrix\n",
        "\n",
        "[[0, 1, 2], [3, 4, 5], [6, 7, 8]]"
      ],
      "metadata": {
        "id": "DBZlUmnt3pGT"
      }
    },
    {
      "cell_type": "code",
      "source": [
        "\n",
        "[[i+j for i in [0,1,2]] for j in [0,3,6]]"
      ],
      "metadata": {
        "id": "Ip4e8M-S356h",
        "outputId": "7adbcfd9-7b76-430b-ac5b-00b9f295ff55",
        "colab": {
          "base_uri": "https://localhost:8080/"
        }
      },
      "execution_count": null,
      "outputs": [
        {
          "output_type": "execute_result",
          "data": {
            "text/plain": [
              "[[0, 1, 2], [3, 4, 5], [6, 7, 8]]"
            ]
          },
          "metadata": {},
          "execution_count": 10
        }
      ]
    },
    {
      "cell_type": "markdown",
      "source": [
        "### `Problem 14:` Write a list comprehension that can transpose a given matrix\n",
        "\n",
        "matrix = [<br>\n",
        "  [1,2,3],<br>\n",
        "          [4,5,6],<br>\n",
        "          [7,8,9]<br>]<br>\n",
        "\n",
        "[1, 4, 7]<br>\n",
        "[2, 5, 8]<br>\n",
        "[3, 6, 9]<br>"
      ],
      "metadata": {
        "id": "j3vTuFC737kG"
      }
    },
    {
      "cell_type": "code",
      "source": [
        "matrix = [\n",
        "[1,2,3],\n",
        "[4,5,6],\n",
        "[7,8,9]\n",
        "]\n",
        "\n",
        "print([[matrix[x][y] for x in range(len(matrix))] for y in range(len(matrix[0]))])"
      ],
      "metadata": {
        "id": "CcBNu0gk4XsR",
        "outputId": "b4e1e5d8-ea05-4316-86b4-e2f8e1ed29f2",
        "colab": {
          "base_uri": "https://localhost:8080/"
        }
      },
      "execution_count": null,
      "outputs": [
        {
          "output_type": "stream",
          "name": "stdout",
          "text": [
            "[[1, 4, 7], [2, 5, 8], [3, 6, 9]]\n"
          ]
        }
      ]
    },
    {
      "cell_type": "markdown",
      "source": [
        "### `Problem 15:` Write a list comprehension that can flatten a nested list\n",
        "\n",
        "Input<br>\n",
        "matrix = [<br>\n",
        "  [1,2,3],<br>\n",
        "          [4,5,6],<br>\n",
        "          [7,8,9]<br>]<br>\n",
        "\n",
        "Output:<br>\n",
        "[1, 2, 3, 4, 5, 6, 7, 8, 9]"
      ],
      "metadata": {
        "id": "wRkSWFb74eOt"
      }
    },
    {
      "cell_type": "code",
      "source": [
        "matrix = [\n",
        "[1,2,3],\n",
        "[4,5,6],\n",
        "[7,8,9]\n",
        "]\n",
        "L = []\n",
        "for i in matrix:\n",
        "  #print(i)\n",
        "  L.extend(i)\n",
        "\n",
        "#print(L)\n",
        "\n",
        "print([y for x in matrix for y in x])\n",
        "\n",
        "\n"
      ],
      "metadata": {
        "id": "jZGQ5el25HFr",
        "outputId": "7fcfb6de-8737-4dbe-8b74-64b483b86a05",
        "colab": {
          "base_uri": "https://localhost:8080/"
        }
      },
      "execution_count": 14,
      "outputs": [
        {
          "output_type": "stream",
          "name": "stdout",
          "text": [
            "[1, 2, 3, 4, 5, 6, 7, 8, 9]\n"
          ]
        }
      ]
    },
    {
      "cell_type": "code",
      "source": [],
      "metadata": {
        "id": "46OswA3N6Gl7"
      },
      "execution_count": null,
      "outputs": []
    }
  ]
}