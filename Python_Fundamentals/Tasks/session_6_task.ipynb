{
  "nbformat": 4,
  "nbformat_minor": 0,
  "metadata": {
    "colab": {
      "provenance": [],
      "include_colab_link": true
    },
    "kernelspec": {
      "name": "python3",
      "display_name": "Python 3"
    },
    "language_info": {
      "name": "python"
    }
  },
  "cells": [
    {
      "cell_type": "markdown",
      "metadata": {
        "id": "view-in-github",
        "colab_type": "text"
      },
      "source": [
        "<a href=\"https://colab.research.google.com/github/sinara08/Campusx/blob/main/Python_Fundamentals/Tasks/session_6_task.ipynb\" target=\"_parent\"><img src=\"https://colab.research.google.com/assets/colab-badge.svg\" alt=\"Open In Colab\"/></a>"
      ]
    },
    {
      "cell_type": "markdown",
      "source": [
        "### **`Problem-1:`** Write a Python function that takes a list and returns a new list with unique elements of the first list.\n",
        "\n",
        "**Exercise 1:**\n",
        "\n",
        "Input:\n",
        "\n",
        "```bash\n",
        "[1,2,3,3,3,3,4,5]\n",
        "```\n",
        "\n",
        "Output:\n",
        "\n",
        "```bash\n",
        "[1, 2, 3, 4, 5]\n",
        "```"
      ],
      "metadata": {
        "id": "h6dDSW5XGZFi"
      }
    },
    {
      "cell_type": "code",
      "source": [
        "def unique(L):\n",
        "  return set(L)\n",
        "\n",
        "inpt = [1,2,3,3,3,3,4,5]\n",
        "print(list(unique(inpt)))\n"
      ],
      "metadata": {
        "id": "R5pq1C9LGe1y",
        "outputId": "bea3dd59-e776-4424-aa9c-66f0ac7c637d",
        "colab": {
          "base_uri": "https://localhost:8080/"
        }
      },
      "execution_count": 1,
      "outputs": [
        {
          "output_type": "stream",
          "name": "stdout",
          "text": [
            "[1, 2, 3, 4, 5]\n"
          ]
        }
      ]
    },
    {
      "cell_type": "markdown",
      "source": [
        "### **`Problem-2:`** Write a Python function that accepts a hyphen-separated sequence of words as parameter and returns the words in a hyphen-separated sequence after sorting them alphabetically.\n",
        "\n",
        "**Example 1:**\n",
        "\n",
        "Input:\n",
        "```bash\n",
        "green-red-yellow-black-white\n",
        "```\n",
        "\n",
        "Output:\n",
        "```bash\n",
        "black-green-red-white-yellow\n",
        "```"
      ],
      "metadata": {
        "id": "UxQ_VoyJGwHj"
      }
    },
    {
      "cell_type": "code",
      "source": [
        "def sort_seq(inpt):\n",
        "  \n",
        "  return '-'.join(sorted(inpt.split('-')))\n",
        "seq = \"green-red-yellow-black-white\"\n",
        "\n",
        "print(sort_seq(seq))"
      ],
      "metadata": {
        "id": "AAts2m5zGwiQ",
        "outputId": "0261de6a-0c88-4273-c472-bed03c8eda87",
        "colab": {
          "base_uri": "https://localhost:8080/"
        }
      },
      "execution_count": 4,
      "outputs": [
        {
          "output_type": "stream",
          "name": "stdout",
          "text": [
            "black-green-red-white-yellow\n"
          ]
        }
      ]
    },
    {
      "cell_type": "markdown",
      "source": [
        "### **`Problem 3:`** Write a Python function that accepts a string and calculate the number of upper case letters and lower case letters.\n",
        "\n",
        "```\n",
        "Sample String : 'CampusX is an Online Mentorship Program fOr EnginEering studentS.'\n",
        "Expected Output :\n",
        "No. of Upper case characters :  9\n",
        "No. of Lower case Characters :  47\n",
        "```"
      ],
      "metadata": {
        "id": "IRGH62S7Gx_n"
      }
    },
    {
      "cell_type": "code",
      "source": [
        "def calculate_case_chr(inpt):\n",
        "  u_cnt = 0\n",
        "  l_cnt = 0\n",
        "  for i in inpt:\n",
        "    if i.isupper() and i.isalpha():\n",
        "      u_cnt += 1\n",
        "    elif i.lower() and i.isalpha():\n",
        "      #print(i)\n",
        "      l_cnt += 1\n",
        "    \n",
        "  return u_cnt, l_cnt\n",
        "\n",
        "inpt_str = \"CampusX is an Online Mentorship Program fOr EnginEering studentS.\"\n",
        "\n",
        "u_cnt, l_cnt = calculate_case_chr(inpt_str)\n",
        "\n",
        "print('No. of Upper case characters :  ',u_cnt)\n",
        "print('No. of Lower case Characters :  ',l_cnt)"
      ],
      "metadata": {
        "id": "OaUrD8vVG5o8",
        "outputId": "1dad09fa-8059-4afa-9ddb-429852ff92f4",
        "colab": {
          "base_uri": "https://localhost:8080/"
        }
      },
      "execution_count": 11,
      "outputs": [
        {
          "output_type": "stream",
          "name": "stdout",
          "text": [
            "No. of Upper case characters :   9\n",
            "No. of Lower case Characters :   47\n"
          ]
        }
      ]
    },
    {
      "cell_type": "markdown",
      "source": [
        "### **`Problem 4:`** Write a Python program to print the even numbers from a given list.\n",
        "```\n",
        "Sample List : [1, 2, 3, 4, 5, 6, 7, 8, 9]\n",
        "Expected Result : [2, 4, 6, 8]\n",
        "```"
      ],
      "metadata": {
        "id": "V1BFFdYQG7Sn"
      }
    },
    {
      "cell_type": "code",
      "source": [
        "def even_numb(L):\n",
        "  L_new = []\n",
        "  for i in L:\n",
        "    if i%2 == 0:\n",
        "      L_new.append(i)\n",
        "  return L_new\n",
        "\n",
        "inpt = [1, 2, 3, 4, 5, 6, 7, 8, 9]\n",
        "\n",
        "print(even_numb(inpt))\n",
        "\n"
      ],
      "metadata": {
        "id": "VvAReLoDG_Z3",
        "outputId": "3367e91c-51d7-4a6e-d1f0-6df78e427370",
        "colab": {
          "base_uri": "https://localhost:8080/"
        }
      },
      "execution_count": 12,
      "outputs": [
        {
          "output_type": "stream",
          "name": "stdout",
          "text": [
            "[2, 4, 6, 8]\n"
          ]
        }
      ]
    },
    {
      "cell_type": "markdown",
      "source": [
        "### **`Problem 5:`** Write a Python function to check whether a number is perfect or not.\n",
        "\n",
        "A Perfect number is a number that is half the sum of all of its positive divisors (including itself).\n",
        "\n",
        "Example : \n",
        "\n",
        "```\n",
        "The first perfect number is 6, because 1, 2, and 3 are its proper positive divisors, and 1 + 2 + 3 = 6. \n",
        "Equivalently, the number 6 is equal to half the sum of all its positive divisors: ( 1 + 2 + 3 + 6 ) / 2 = 6. \n",
        "\n",
        "The next perfect number is 28 = 1 + 2 + 4 + 7 + 14. This is followed by the perfect numbers 496 and 8128.\n",
        "```\n"
      ],
      "metadata": {
        "id": "qrK39Gn-HHb4"
      }
    },
    {
      "cell_type": "code",
      "source": [
        "\n",
        "\n",
        "def check_perf_numb(n):\n",
        "  #n = 496\n",
        "  L = [1]\n",
        "  for i in range(2,int((n/2))+1):\n",
        "    if n%i == 0:\n",
        "      L.append(i)\n",
        "  print(L)\n",
        "  return sum(L)\n",
        "\n",
        "perf_num = int(input(\"Enter any number to check if its perfect number: \"))\n",
        "\n",
        "rslt = check_perf_numb(perf_num)\n",
        "print(rslt)\n",
        "if rslt == perf_num:\n",
        "  print(\"{0} is perfect number\".format(perf_num))\n",
        "else:\n",
        "  print(\"{0} is not perfect number\".format(perf_num))"
      ],
      "metadata": {
        "id": "P-OI7H78HICs",
        "outputId": "f785d38c-c78d-4cae-c666-0e79b7b6f9fb",
        "colab": {
          "base_uri": "https://localhost:8080/"
        }
      },
      "execution_count": 27,
      "outputs": [
        {
          "output_type": "stream",
          "name": "stdout",
          "text": [
            "Enter any number to check if its perfect number: 496\n",
            "[1, 2, 4, 8, 16, 31, 62, 124, 248]\n",
            "496\n",
            "496 is perfect number\n"
          ]
        }
      ]
    },
    {
      "cell_type": "markdown",
      "source": [
        "### **`Problem-6:`** Write a Python function to concatenate any no of dictionaries to create a new one.\n",
        "\n",
        "```\n",
        "Sample Dictionary :\n",
        "dic1={1:10, 2:20}\n",
        "dic2={3:30, 4:40}\n",
        "dic3={5:50,6:60}\n",
        "Expected Result : {1: 10, 2: 20, 3: 30, 4: 40, 5: 50, 6: 60}\n",
        "```"
      ],
      "metadata": {
        "id": "oZdpcG77HO-6"
      }
    },
    {
      "cell_type": "code",
      "source": [
        "def concat_dict(**dc):\n",
        "  d1={}\n",
        "  for d,e in **dc:\n",
        "    print(d,e)\n",
        "\n",
        "  return d1\n",
        "\n",
        "dic1={'1':10, '2':20}\n",
        "dic2={'3':30, '4':40}\n",
        "dic3={'5':50, '6':60}\n",
        "#print(concat_dict(dic1,dic2,dic3))\n",
        "#concat_dict(**{str(k): v for k, v in dic1.items()},\n",
        " #           **{str(k): v for k, v in dic2.items()},\n",
        "  #          **{str(k): v for k, v in dic3.items()})\n",
        "\n",
        "concat_dict(**dic1, **dic2, **dic3)\n"
      ],
      "metadata": {
        "id": "LQgfAY4ZHPhj",
        "outputId": "ef1b0622-a880-4092-846d-5db5a79bc75e",
        "colab": {
          "base_uri": "https://localhost:8080/",
          "height": 133
        }
      },
      "execution_count": 14,
      "outputs": [
        {
          "output_type": "error",
          "ename": "SyntaxError",
          "evalue": "ignored",
          "traceback": [
            "\u001b[0;36m  File \u001b[0;32m\"<ipython-input-14-d7f92509c785>\"\u001b[0;36m, line \u001b[0;32m3\u001b[0m\n\u001b[0;31m    for d,e in **dc:\u001b[0m\n\u001b[0m                ^\u001b[0m\n\u001b[0;31mSyntaxError\u001b[0m\u001b[0;31m:\u001b[0m invalid syntax\n"
          ]
        }
      ]
    },
    {
      "cell_type": "markdown",
      "source": [
        "`Problem-7` Write a python function that accepts a string as input and returns the word with most occurence.\n",
        "\n",
        "```\n",
        "Input:\n",
        "hello how are you i am fine thank you\n",
        "```\n",
        "\n",
        "```\n",
        "Output\n",
        "you -> 2\n",
        "```"
      ],
      "metadata": {
        "id": "jQ6SzbCkHRd0"
      }
    },
    {
      "cell_type": "code",
      "source": [
        "# Write code here\n",
        "def word_cnt(inpt):\n",
        "  L = {}\n",
        "  cnt = 1\n",
        "  for i in inpt.split():\n",
        "    cnt = 1\n",
        "    if i in L:\n",
        "      cnt += 1\n",
        "      L[i] = cnt\n",
        "    else:\n",
        "      L[i] = cnt\n",
        "\n",
        "  return (L)\n",
        "\n",
        "dictn = word_cnt('hello how are you i am fine thank you Yes')\n",
        "\n",
        "print(max(dictn.keys()),\"->\",max(dictn.values()))\n",
        "\n",
        "\n"
      ],
      "metadata": {
        "id": "Lh04JHLzIW7Z",
        "outputId": "898a8617-51db-487b-e8de-85baf24e9a8c",
        "colab": {
          "base_uri": "https://localhost:8080/"
        }
      },
      "execution_count": 10,
      "outputs": [
        {
          "output_type": "stream",
          "name": "stdout",
          "text": [
            "you -> 2\n"
          ]
        }
      ]
    },
    {
      "cell_type": "markdown",
      "source": [
        "`Problem-8` Write a python function that receives a list of integers and prints out a histogram of bin size 10\n",
        "\n",
        "```\n",
        "Input:\n",
        "[13,42,15,37,22,39,41,50]\n",
        "```\n",
        "\n",
        "```\n",
        "Output:\n",
        "{11-20:2,21-30:1,31-40:2,41-50:3}\n",
        "```"
      ],
      "metadata": {
        "id": "1r8SpVntI-IW"
      }
    },
    {
      "cell_type": "code",
      "source": [
        "# Write code here\n",
        "def histogram(L):\n",
        "  H = {}\n",
        "  for i in L:\n",
        "    if i <= 10 and i > 0:\n",
        "      key = '1-10'\n",
        "    elif i <= 20 and i > 10:\n",
        "      key = '11-20'\n",
        "    elif i <= 30 and i > 20:\n",
        "      key = '21-30'\n",
        "    elif i <= 40 and i > 30:\n",
        "      key = '31-40'\n",
        "    elif i <= 50 and i > 40:\n",
        "      key = '41-50'\n",
        "    else:\n",
        "      key = 'Others'\n",
        "\n",
        "    \n",
        "    if key not in H.keys():\n",
        "      cnt = 1\n",
        "      H[key] = cnt\n",
        "    else:\n",
        "      #cnt += 1\n",
        "      H[key] += 1\n",
        "\n",
        "  return H\n",
        "\n",
        "List = [13,42,15,37,22,39,41,50]\n",
        "rslt = histogram(List)\n",
        "\n",
        "print(dict(sorted(rslt.items())))\n"
      ],
      "metadata": {
        "id": "7W0J8rUjJovg",
        "outputId": "2678401b-86ad-4ec3-c483-bc07cade0894",
        "colab": {
          "base_uri": "https://localhost:8080/"
        }
      },
      "execution_count": 22,
      "outputs": [
        {
          "output_type": "stream",
          "name": "stdout",
          "text": [
            "{'11-20': 2, '21-30': 1, '31-40': 2, '41-50': 3}\n"
          ]
        }
      ]
    },
    {
      "cell_type": "markdown",
      "source": [
        "`Problem-9` Write a python function that accepts a list of 2D co-ordinates and a query point, and then finds the the co-ordinate which is closest in terms of distance from the query point.\n",
        "\n",
        "```\n",
        "List of Coordinates\n",
        "[(1,1),(2,2),(3,3),(4,4)]\n",
        "Query Point\n",
        "(0,0)\n",
        "```\n",
        "\n",
        "```\n",
        "Output\n",
        "Nearest to (0,0) is (1,1)\n",
        "```"
      ],
      "metadata": {
        "id": "1P2-rbgXKE53"
      }
    },
    {
      "cell_type": "code",
      "source": [
        "# Write code here\n",
        "import math\n",
        "\n",
        "def closest_coord(L, qry_pt):\n",
        "\n",
        "  #Euclidean distance - √{(x2-x1)2 + (y2-y1)2}\n",
        "  L.sort(key= lambda s: math.sqrt((s[0]**2-qry_pt[0]**2) + (s[1]**2-qry_pt[1]**2)))\n",
        "\n",
        "  return(L[0])\n",
        "\n",
        "  \n",
        "L = [(1,1),(2,2),(3,3),(4,4)]\n",
        "qry_pt = (0,0)\n",
        "\n",
        "cls_pt = closest_coord(L, qry_pt)\n",
        "print(\"Nearest to {0} is {1}\".format(qry_pt, cls_pt))\n",
        "  \n"
      ],
      "metadata": {
        "id": "zjn7vSTIJ81G",
        "outputId": "7481e42a-63ec-4bf4-ce4f-822d5d79b38f",
        "colab": {
          "base_uri": "https://localhost:8080/"
        }
      },
      "execution_count": 35,
      "outputs": [
        {
          "output_type": "stream",
          "name": "stdout",
          "text": [
            "Nearest to (0, 0) is (1, 1)\n"
          ]
        }
      ]
    },
    {
      "cell_type": "markdown",
      "source": [
        "`Problem-10`:Write a python program that receives a list of strings and performs bag of word operation on those strings\n",
        "\n",
        "https://en.wikipedia.org/wiki/Bag-of-words_model"
      ],
      "metadata": {
        "id": "i-B6igmyK9hB"
      }
    },
    {
      "cell_type": "code",
      "source": [
        "# Write code here\n",
        "def bag_of_words(inpt):\n",
        "\n",
        "  bag = {}\n",
        "  for i in inpt.split():\n",
        "    cnt = 1\n",
        "    if i not in bag:\n",
        "      bag[i] = cnt\n",
        "    else:\n",
        "      bag[i] += 1\n",
        "\n",
        "  return(bag)\n",
        "\n",
        "\n",
        "inpt_str = \"John likes to watch movies. Mary likes movies too\"\n",
        "print(bag_of_words(inpt_str))"
      ],
      "metadata": {
        "id": "N2l1_AWULT-z",
        "outputId": "a12abd3c-e716-43e5-d098-6ee5f521082d",
        "colab": {
          "base_uri": "https://localhost:8080/"
        }
      },
      "execution_count": 38,
      "outputs": [
        {
          "output_type": "stream",
          "name": "stdout",
          "text": [
            "{'John': 1, 'likes': 2, 'to': 1, 'watch': 1, 'movies.': 1, 'Mary': 1, 'movies': 1, 'too': 1}\n"
          ]
        }
      ]
    },
    {
      "cell_type": "code",
      "source": [],
      "metadata": {
        "id": "0M5plx4RdCWH"
      },
      "execution_count": null,
      "outputs": []
    }
  ]
}