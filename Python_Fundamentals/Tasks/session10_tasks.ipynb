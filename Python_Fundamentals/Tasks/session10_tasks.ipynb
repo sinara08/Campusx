{
  "nbformat": 4,
  "nbformat_minor": 0,
  "metadata": {
    "colab": {
      "provenance": [],
      "include_colab_link": true
    },
    "kernelspec": {
      "name": "python3",
      "display_name": "Python 3"
    },
    "language_info": {
      "name": "python"
    }
  },
  "cells": [
    {
      "cell_type": "markdown",
      "metadata": {
        "id": "view-in-github",
        "colab_type": "text"
      },
      "source": [
        "<a href=\"https://colab.research.google.com/github/sinara08/Campusx/blob/main/Python_Fundamentals/Tasks/session10_tasks.ipynb\" target=\"_parent\"><img src=\"https://colab.research.google.com/assets/colab-badge.svg\" alt=\"Open In Colab\"/></a>"
      ]
    },
    {
      "cell_type": "markdown",
      "source": [
        "### `Q-1:` Write a function `get_final_line(filename)`, which takes filename as input and return final line of the file.\n",
        "\n",
        "Note: You can choose any file of your choice."
      ],
      "metadata": {
        "id": "MbeMdx5d5qRj"
      }
    },
    {
      "cell_type": "code",
      "source": [
        "# Write code here\n",
        "with open('sample.txt','r') as f:\n",
        "  data = f.readlines()\n",
        "\n",
        "print(data[-1])"
      ],
      "metadata": {
        "id": "rjx9XRTq5uzD",
        "colab": {
          "base_uri": "https://localhost:8080/"
        },
        "outputId": "9a6160ee-43d4-498f-964e-7a7d65632d2a"
      },
      "execution_count": 40,
      "outputs": [
        {
          "output_type": "stream",
          "name": "stdout",
          "text": [
            "9\t10\t90\n"
          ]
        }
      ]
    },
    {
      "cell_type": "markdown",
      "source": [
        "###`Q-2:` Read through a text file, line by line. Use a dict to keep track of how many times each vowel (a, e, i, o, and u) appears in the file. Print the resulting tabulation -- dictionary. "
      ],
      "metadata": {
        "id": "B87Z6-yQ5wVO"
      }
    },
    {
      "cell_type": "code",
      "source": [
        "# Write code here\n",
        "strings=['Read through a text file, line by line.\\n', 'Use a dict to keep track of how many times each vowelappears in the file.\\n', \n",
        "         'Print the resulting tabulation']\n",
        "\n",
        "with open('sample1.txt','w') as f:\n",
        "  f.writelines(strings)\n",
        "\n",
        "with open('sample1.txt','r') as f:\n",
        "  data = f.readlines()\n",
        "vwls = ['a','e','i','o','u']\n",
        "d = {}\n",
        "\n",
        "for i in data:\n",
        "  for j in i.lower():\n",
        "    if j in vwls:\n",
        "      if j not in d:\n",
        "        d[j] = 1\n",
        "      else:\n",
        "        d[j] += 1\n",
        "\n",
        "print(d)\n",
        "#d = {}#\n",
        "#new_dict = {j: (1 if j not in d else d[j]+1) for i in strings for j in i.lower() if j in v }\n",
        "#print(strings.count('a'))\n",
        "#new_dict = {v: i.count(v) for i in strings for j in i.lower() for v in vwls}\n",
        "#print(new_dict)\n",
        "\n"
      ],
      "metadata": {
        "id": "XeXnOL7X50Sa",
        "colab": {
          "base_uri": "https://localhost:8080/"
        },
        "outputId": "39f988b0-8368-4f8a-80b8-338c0586b830"
      },
      "execution_count": 59,
      "outputs": [
        {
          "output_type": "stream",
          "name": "stdout",
          "text": [
            "{'e': 16, 'a': 10, 'o': 6, 'u': 4, 'i': 10}\n"
          ]
        }
      ]
    },
    {
      "cell_type": "markdown",
      "source": [
        "###`Q-3:` Create a text file (using an editor, not necessarily Python) containing two tab separated columns, with each column containing a number. Then use Python to read through the file you’ve created. For each line, multiply each first number by the second and include it in the file in third column. In last add a line Total, by summing the value of third column\n",
        "\n"
      ],
      "metadata": {
        "id": "lRqQ2Y295-Gg"
      }
    },
    {
      "cell_type": "markdown",
      "source": [
        "Input File example: That you need to create\n",
        "```\n",
        "1   2\n",
        "3   4\n",
        "5   6\n",
        "7   8\n",
        "9   10\n",
        "\n",
        "```\n",
        "\n",
        "Output File Example:\n",
        "```\n",
        "1   2   2\n",
        "3   4   12\n",
        "5   6   30\n",
        "7   8   56\n",
        "9   10  90\n",
        "Total   190\n",
        "```\n"
      ],
      "metadata": {
        "id": "GtFfahZc6Bvg"
      }
    },
    {
      "cell_type": "code",
      "source": [
        "# write code here\n",
        "with open('sample.txt', 'w') as f:\n",
        "  for i in range(1,10, 2):\n",
        "    f.write('{}\\t{}'.format(i, i+1))\n",
        "    if i < 9:\n",
        "      f.write('\\n')\n",
        "\n",
        "with open('sample.txt', 'r+') as f:\n",
        "\n",
        "  L = []\n",
        "  while True:\n",
        "    data = f.readline()\n",
        "    prod = 1\n",
        "    if data == '':\n",
        "      break\n",
        "    \n",
        "    for i in data.split('\\t'):\n",
        "      prod *= int(i)\n",
        "    \n",
        "    prod = '\\t'+str(prod)\n",
        "    d = data.split('\\n')[0] + prod + '\\n'\n",
        "   \n",
        "\n",
        "    L.append(d)\n",
        "  L[-1] = L[-1].replace('\\n','')\n",
        "\n",
        "\n",
        "  f.seek(0)\n",
        "  f.writelines(L) \n"
      ],
      "metadata": {
        "id": "GiKvqHnr5-j2"
      },
      "execution_count": 39,
      "outputs": []
    },
    {
      "cell_type": "markdown",
      "source": [
        "###`Q-4:` Create line wise reverse of a file\n",
        "Write a function which takes two arguments: the names of the input file (to be read from) and the output file (which will be created)."
      ],
      "metadata": {
        "id": "DunQepHC6J9r"
      }
    },
    {
      "cell_type": "markdown",
      "source": [
        "For example, if a file looks like\n",
        " ```\n",
        "abc def\n",
        "ghi jkl\n",
        "```\n",
        "then the output file will be\n",
        "```\n",
        "fed cba\n",
        "lkj ihg\n",
        "```\n",
        "**Notice**: The newline remains at the end of the string, while the rest of the characters are all reversed."
      ],
      "metadata": {
        "id": "QxWEtFle6Nmu"
      }
    },
    {
      "cell_type": "code",
      "source": [
        "# write code here\n",
        "with open('sample2.txt', 'w') as f:\n",
        "  f.writelines(['abc def\\n', 'ghi jkl'])\n",
        "\n",
        "with open('sample2.txt', 'r+') as f:\n",
        "  data = f.read()\n",
        "  data= data[-2::-1] if data[-1] == '\\n' else data[::-1]\n",
        "  print(data)\n",
        "  f.seek(0)\n",
        "  f.write(data)\n",
        " \n",
        "\n",
        "\n",
        "\n",
        "   "
      ],
      "metadata": {
        "id": "aIJTJNAq6LD7",
        "colab": {
          "base_uri": "https://localhost:8080/"
        },
        "outputId": "52c2e106-3a10-4a59-a98b-721c9fb2c574"
      },
      "execution_count": 47,
      "outputs": [
        {
          "output_type": "stream",
          "name": "stdout",
          "text": [
            "lkj ihg\n",
            "fed cba\n"
          ]
        }
      ]
    },
    {
      "cell_type": "markdown",
      "source": [
        "###`Q-5:` Create a Serialized dict of frequency of words in the file. And from given list of words, using serialized dict show word count.\n",
        "\n",
        "* List of word will be given\n",
        "\n"
      ],
      "metadata": {
        "id": "wqvx3sMY6bou"
      }
    },
    {
      "cell_type": "markdown",
      "source": [
        "Given String\n",
        "\n",
        "```\n",
        "strings = \"\"\"Alice was beginning to get very tired of sitting by her sister\n",
        "            on the bank, and of having nothing to do:  once or twice she had\n",
        "            peeped into the book her sister was reading, but it had no\n",
        "            pictures or conversations in it, `and what is the use of a book,'\n",
        "            thought Alice `without pictures or conversation?'\n",
        "\n",
        "            So she was considering in her own mind (as well as she could,\n",
        "            for the hot day made her feel very sleepy and stupid), whether\n",
        "            the pleasure of making a daisy-chain would be worth the trouble\n",
        "            of getting up and picking the daisies, when suddenly a White\n",
        "            Rabbit with pink eyes ran close by her.\n",
        "\n",
        "            There was nothing so VERY remarkable in that; nor did Alice\n",
        "            think it so VERY much out of the way to hear the Rabbit say to\n",
        "            itself, `Oh dear!  Oh dear!  I shall be late!'  (when she thought\n",
        "            it over afterwards, it occurred to her that she ought to have\n",
        "            wondered at this, but at the time it all seemed quite natural);\n",
        "            but when the Rabbit actually TOOK A WATCH OUT OF ITS WAISTCOAT-\n",
        "            POCKET, and looked at it, and then hurried on, Alice started to\n",
        "            her feet, for it flashed across her mind that she had never\n",
        "            before seen a rabbit with either a waistcoat-pocket, or a watch to\n",
        "            take out of it, and burning with curiosity, she ran across the\n",
        "            field after it, and fortunately was just in time to see it pop\n",
        "            down a large rabbit-hole under the hedge.\"\"\"\n",
        "\n",
        "word_list = ['alice', 'wonder', 'natural']\n",
        "```"
      ],
      "metadata": {
        "id": "uc5MSUWg6cZG"
      }
    },
    {
      "cell_type": "code",
      "source": [
        "# write code here\n",
        "import re\n",
        "import json\n",
        "\n",
        "strings = \"\"\"Alice was beginning to get very tired of sitting by her sister\n",
        "            on the bank, and of having nothing to do:  once or twice she had\n",
        "            peeped into the book her sister was reading, but it had no\n",
        "            pictures or conversations in it, `and what is the use of a book,'\n",
        "            thought Alice `without pictures or conversation?'\n",
        "\n",
        "            So she was considering in her own mind (as well as she could,\n",
        "            for the hot day made her feel very sleepy and stupid), whether\n",
        "            the pleasure of making a daisy-chain would be worth the trouble\n",
        "            of getting up and picking the daisies, when suddenly a White\n",
        "            Rabbit with pink eyes ran close by her.\n",
        "\n",
        "            There was nothing so VERY remarkable in that; nor did Alice\n",
        "            think it so VERY much out of the way to hear the Rabbit say to\n",
        "            itself, `Oh dear!  Oh dear!  I shall be late!'  (when she thought\n",
        "            it over afterwards, it occurred to her that she ought to have\n",
        "            wondered at this, but at the time it all seemed quite natural);\n",
        "            but when the Rabbit actually TOOK A WATCH OUT OF ITS WAISTCOAT-\n",
        "            POCKET, and looked at it, and then hurried on, Alice started to\n",
        "            her feet, for it flashed across her mind that she had never\n",
        "            before seen a rabbit with either a waistcoat-pocket, or a watch to\n",
        "            take out of it, and burning with curiosity, she ran across the\n",
        "            field after it, and fortunately was just in time to see it pop\n",
        "            down a large rabbit-hole under the hedge.\"\"\"\n",
        "\n",
        "word_list = ['alice', 'wonder', 'natural']\n",
        "d = {}\n",
        "for i in word_list:\n",
        "  res = re.findall(i.lower(), strings.lower())\n",
        "  \n",
        "  d[i] = len(res)\n",
        "  \n",
        "  \n",
        "\n",
        "with open('sample.txt', 'w') as f:\n",
        "  json.dump(d, f, indent = 4)\n",
        "\n",
        "\n"
      ],
      "metadata": {
        "id": "-SmtFFUq6a70"
      },
      "execution_count": 9,
      "outputs": []
    },
    {
      "cell_type": "markdown",
      "source": [
        "### **`Q-6:`** Given a string calculate length of the string using recursion.\n",
        "\n",
        "**Example 1:**\n",
        "\n",
        "Input:\n",
        "```bash\n",
        "\"abcd\"\n",
        "```\n",
        "\n",
        "Output:\n",
        "\n",
        "```bash\n",
        "4\n",
        "```\n",
        "\n",
        "**Example 2:**\n",
        "\n",
        "Input:\n",
        "```bash\n",
        "DataScience\n",
        "```\n",
        "\n",
        "Output:\n",
        "\n",
        "```bash\n",
        "11\n",
        "```\n"
      ],
      "metadata": {
        "id": "Und2HuFW6kAw"
      }
    },
    {
      "cell_type": "code",
      "source": [
        "# Write code here\n",
        "\n",
        "input = \"DataScience\"\n",
        "\n",
        "def strcount(ip):\n",
        "  if ip=='':\n",
        "    return 0\n",
        "  else:\n",
        "    return 1+strcount(ip[1:])\n",
        "\n",
        "\n",
        "  #print(len(ip), ip[len(ip)-1])\n",
        "n = strcount(input)\n",
        "print(\"Length of the string is : \",n)\n",
        "\n",
        "\n"
      ],
      "metadata": {
        "id": "9HE7lB5W61gT",
        "colab": {
          "base_uri": "https://localhost:8080/"
        },
        "outputId": "c6a6e828-c288-4641-b7de-3e6004ee1b00"
      },
      "execution_count": 68,
      "outputs": [
        {
          "output_type": "stream",
          "name": "stdout",
          "text": [
            "Length of the string is :  11\n"
          ]
        }
      ]
    },
    {
      "cell_type": "markdown",
      "source": [
        "### **`Q-7:`** Write a function that accepts two numbers and returns their greatest common divisior. Without using any loop\n",
        "\n",
        "def gcd(int, int) => int\n",
        "\n",
        "```\n",
        "gcd(16,24) will give 8\n",
        "```"
      ],
      "metadata": {
        "id": "iUDvc-jl6759"
      }
    },
    {
      "cell_type": "code",
      "source": [
        "# Write code here\n",
        "def gcd(n1, n2):\n",
        "  \n",
        "  \n",
        "  if n2 == 0:\n",
        "    return n1\n",
        "  else:\n",
        "    return (gcd(n2,n1%n2))\n",
        "  \n",
        "\n",
        "n = gcd(24, 12)\n",
        "print(n)"
      ],
      "metadata": {
        "id": "uMQnojHR7O2S",
        "colab": {
          "base_uri": "https://localhost:8080/"
        },
        "outputId": "bad130de-8ff6-4f88-fadc-827adc2d9c6b"
      },
      "execution_count": 75,
      "outputs": [
        {
          "output_type": "stream",
          "name": "stdout",
          "text": [
            "12\n"
          ]
        }
      ]
    },
    {
      "cell_type": "markdown",
      "source": [
        " ### `Q-8:` String Edit Distance\n",
        "\n",
        " Use your recursive function to write a program that reads two strings from the\n",
        "user and displays the edit distance between them.\n",
        "\n",
        "*The edit distance between two strings is a measure of their similarity—the smaller the edit distance, the more similar the strings are with regard to the minimum number of insert, delete and substitute operations needed to transform one string into the other.*\n",
        "\n",
        "Consider the strings `kitten` and `sitting`. The first string can be transformed\n",
        "into the second string with the following operations: \n",
        "* Substitute the `k` with an `s`, \n",
        "* substitute the `e` with an `i`, \n",
        "* and insert a `g` at the end of the string. \n",
        "\n",
        "This is the smallest number of operations that can be performed to transform kitten into sitting. As a result, the edit distance is `3`.\n",
        "\n",
        "\n",
        "Write a recursive function that computes the edit distance between two strings.\n",
        "\n",
        "Use the following algorithm:\n",
        "\n",
        "```\n",
        "Let s and t be the strings\n",
        "    If the length of s is 0 then\n",
        "        Return the length of t\n",
        "    Else if the length of t is 0 then\n",
        "        Return the length of s\n",
        "    Else\n",
        "        Set cost to 0\n",
        "        If the last character in s does not equal the last character in t then\n",
        "            Set cost to 1\n",
        "        Set d1 equal to the edit distance between all characters except the last one in s, and all characters in t, plus 1\n",
        "        Set d2 equal to the edit distance between all characters in s, and all characters except the last one in t, plus 1\n",
        "\n",
        "        Set d3 equal to the edit distance between all characters except the last one in s, and all characters except the last one in t, plus cost\n",
        "        Return the minimum of d1, d2 and d3\n",
        "```\n",
        "\n",
        "\n",
        "\n"
      ],
      "metadata": {
        "id": "wFD35fva7Q_B"
      }
    },
    {
      "cell_type": "code",
      "source": [
        "# write code here\n",
        "def edit_distance(s, t):\n",
        "  if len(s)== 0:\n",
        "    return len(t)\n",
        "  elif len(t) == 0:\n",
        "    return len(s)\n",
        "  else:\n",
        "    cost = 0\n",
        "    if s[-1] != t[-1]:\n",
        "      cost = 1\n",
        "    \n",
        "    d1 = d2 = cost\n",
        "    for i in range(len(s)-1):\n",
        "      if s[i] != t[i]:\n",
        "        d1 += 1\n",
        "    \n",
        "    print(d1)\n",
        "\n",
        "edit_distance('kitten', 'sitting')\n",
        "\n",
        "\n",
        "  "
      ],
      "metadata": {
        "id": "zlNy_Q987QOX",
        "colab": {
          "base_uri": "https://localhost:8080/"
        },
        "outputId": "fcb9bce9-d102-4063-845a-e19e8b004bee"
      },
      "execution_count": 4,
      "outputs": [
        {
          "output_type": "stream",
          "name": "stdout",
          "text": [
            "3\n"
          ]
        }
      ]
    },
    {
      "cell_type": "markdown",
      "source": [
        "###`Q-9:` Run-Length Encoding\n",
        "\n",
        "Run-length encoding is a simple data compression technique that can be effective when repeated values occur at adjacent positions within a list. Compression is achieved by replacing groups of repeated values with one copy of the value, followed by the number of times that the value should be repeated. For example, the list \n",
        "```\n",
        "[\"A\", \"A\", \"A\", \"A\", \"A\", \"A\", \"A\", \"A\", \"A\", \"A\", \"A\", \"A\", \"B\", \"B\", \"B\", \"B\", \"A\", \"A\", \"A\", \"A\", \"A\", \"A\", \"B\"]\n",
        "```\n",
        "would be compressed as `[\"A\", 12, \"B\", 4, \"A\", 6, \"B\", 1]`. \n",
        "\n",
        "Write a recursive function that implements the run-length compression technique\n",
        "described above. Your function will take a list or a string as its only parameter. It should return the run-length compressed list as its only result. Include a main program that reads a string from the user, compresses it, and displays the run-length encoded result."
      ],
      "metadata": {
        "id": "Hc9e-qES7iAK"
      }
    },
    {
      "cell_type": "code",
      "source": [
        "# Write code here"
      ],
      "metadata": {
        "id": "W2Wb_WzP7qM1"
      },
      "execution_count": null,
      "outputs": []
    },
    {
      "cell_type": "markdown",
      "source": [
        "###`Q-10:` Write a recursive function to convert a decimal to binary"
      ],
      "metadata": {
        "id": "x6A-4vGC8SLs"
      }
    },
    {
      "cell_type": "code",
      "source": [
        "# Write code here"
      ],
      "metadata": {
        "id": "izOr6D9V8aME"
      },
      "execution_count": null,
      "outputs": []
    }
  ]
}