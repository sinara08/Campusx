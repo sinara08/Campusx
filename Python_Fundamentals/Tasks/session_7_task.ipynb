{
  "nbformat": 4,
  "nbformat_minor": 0,
  "metadata": {
    "colab": {
      "provenance": [],
      "include_colab_link": true
    },
    "kernelspec": {
      "name": "python3",
      "display_name": "Python 3"
    },
    "language_info": {
      "name": "python"
    }
  },
  "cells": [
    {
      "cell_type": "markdown",
      "metadata": {
        "id": "view-in-github",
        "colab_type": "text"
      },
      "source": [
        "<a href=\"https://colab.research.google.com/github/sinara08/Campusx/blob/main/Python_Fundamentals/Tasks/session_7_task.ipynb\" target=\"_parent\"><img src=\"https://colab.research.google.com/assets/colab-badge.svg\" alt=\"Open In Colab\"/></a>"
      ]
    },
    {
      "cell_type": "markdown",
      "source": [
        "##`Q-1:` Rectangle Class\n",
        "1. Write a Rectangle class in Python language, allowing you to build a rectangle with length and width attributes.\n",
        "\n",
        "2. Create a Perimeter() method to calculate the perimeter of the rectangle and a Area() method to calculate the area of ​​the rectangle.\n",
        "\n",
        "3. Create a method display() that display the length, width, perimeter and area of an object created using an instantiation on rectangle class."
      ],
      "metadata": {
        "id": "FyUJ3PRAsPr4"
      }
    },
    {
      "cell_type": "markdown",
      "source": [
        "Eg.\n",
        "After making above classes and methods, on executing below code:-\n",
        "```\n",
        "my_rectangle = Rectangle(3 , 4)\n",
        "my_rectangle.display()\n",
        "```\n",
        "\n",
        "`Output:`\n",
        "```\n",
        "The length of rectangle is:  3\n",
        "The width of rectangle is:  4\n",
        "The perimeter of rectangle is:  14\n",
        "The area of rectangle is:  12\n",
        "```\n"
      ],
      "metadata": {
        "id": "GxUtOqJfssFK"
      }
    },
    {
      "cell_type": "code",
      "source": [
        "# write your code here\n",
        "class Rectangle:\n",
        "  def __init__(self, l, w):\n",
        "    self.length = l\n",
        "    self.width = w\n",
        "    self.perimeter = 0\n",
        "    self.area = 0\n",
        "    self.Perimeter()\n",
        "    self.Area()\n",
        "\n",
        "  def Perimeter(self):\n",
        "    self.perimeter = 2 * (self.length + self.width)\n",
        "\n",
        "  def Area(self):\n",
        "    self.area = self.length * self.width\n",
        "\n",
        "  def display(self):\n",
        "    print('The length of rectangle is:  ',self.length)\n",
        "    print('The width of rectangle is:  ',self.length)\n",
        "    print('The perimeter of rectangle is: ',self.perimeter)\n",
        "    print('The area of rectangle is: ',self.area)\n",
        "\n"
      ],
      "metadata": {
        "id": "92_QT-Uj6NBg"
      },
      "execution_count": 7,
      "outputs": []
    },
    {
      "cell_type": "code",
      "source": [
        "rect = Rectangle(3, 4)\n",
        "rect.display()"
      ],
      "metadata": {
        "id": "IYcClBh3wy_a",
        "outputId": "4069aec3-2c27-4f78-e6b1-b585ee58bef6",
        "colab": {
          "base_uri": "https://localhost:8080/"
        }
      },
      "execution_count": 8,
      "outputs": [
        {
          "output_type": "stream",
          "name": "stdout",
          "text": [
            "The length of rectangle is:   3\n",
            "The width of rectangle is:   3\n",
            "The perimeter of rectangle is:  14\n",
            "The area of rectangle is:  12\n"
          ]
        }
      ]
    },
    {
      "cell_type": "markdown",
      "source": [
        "##`Q-2: Bank Class`\n",
        "\n",
        "1. Create a Python class called `BankAccount` which represents a bank account, having as attributes: `accountNumber` (numeric type), `name` (name of the account owner as string type), `balance`.\n",
        "2. Create a constructor with parameters: `accountNumber, name, balance`.\n",
        "3. Create a `Deposit()` method which manages the deposit actions.\n",
        "4. Create a `Withdrawal()` method  which manages withdrawals actions.\n",
        "5. Create an `bankFees()` method to apply the bank fees with a percentage of 5% of the balance account.\n",
        "6. Create a `display()` method to display account details.\n",
        "Give the complete code for the  BankAccount class."
      ],
      "metadata": {
        "id": "r_GxrS0Vrdom"
      }
    },
    {
      "cell_type": "markdown",
      "source": [
        "Eg.\n",
        "After making above classes and methods, on executing below code:-\n",
        "```\n",
        "newAccount = BankAccount(2178514584, \"Mandy\" , 2800)\n",
        "\n",
        "newAccount.Withdrawal(700)\n",
        "\n",
        "newAccount.Deposit(1000)\n",
        "\n",
        "newAccount.display()\n",
        "```\n",
        "\n",
        "`Output:`\n",
        "```\n",
        "Account Number :  2178514584\n",
        "Account Name :  Mandy\n",
        "Account Balance :  3100 ₹\n",
        "```"
      ],
      "metadata": {
        "id": "qvVkOUJgvTV_"
      }
    },
    {
      "cell_type": "code",
      "source": [
        "# write your code here\n",
        "class BankAccount:\n",
        "  def __init__(self, a, n, b):\n",
        "    self.account = a\n",
        "    self.name = n\n",
        "    self.balance = b\n",
        "\n",
        "  def Withdrawal(self, amnt):\n",
        "    if self.balance < amnt:\n",
        "      print('You do not have sufficient amount to withdraw')\n",
        "\n",
        "    else:\n",
        "      self.balance -= amnt\n",
        "\n",
        "  def Deposit(self, amnt):\n",
        "    self.balance += amnt\n",
        "\n",
        "  def display(self):\n",
        "    print(\"Account number :\",self.account)\n",
        "    print(\"Account name :\",self.name)\n",
        "    print(\"Account Balance :\",self.balance, \"$\")\n"
      ],
      "metadata": {
        "id": "fUQOmQyA6YDR"
      },
      "execution_count": 11,
      "outputs": []
    },
    {
      "cell_type": "code",
      "source": [
        "newAccount = BankAccount(2178514584, \"Mandy\" , 2800)\n",
        "\n",
        "newAccount.Withdrawal(700)\n",
        "\n",
        "newAccount.Deposit(1000)\n",
        "\n",
        "newAccount.display()"
      ],
      "metadata": {
        "id": "cYQerw9Z2cOR",
        "outputId": "c7f91ce9-d87e-4acc-ad4d-09b0841e62fc",
        "colab": {
          "base_uri": "https://localhost:8080/"
        }
      },
      "execution_count": 12,
      "outputs": [
        {
          "output_type": "stream",
          "name": "stdout",
          "text": [
            "Account number : 2178514584\n",
            "Account name : Mandy\n",
            "Account Balance : 3100 $\n"
          ]
        }
      ]
    },
    {
      "cell_type": "markdown",
      "source": [
        "##`Q-3:Computation class`\n",
        "\n",
        "1. Create a `Computation` class with a default constructor (without parameters) allowing to perform various calculations on integers numbers.\n",
        "2. Create a method called `Factorial()` which allows to calculate the factorial of an integer n. Integer n as parameter for this method\n",
        "\n",
        "3. Create a method called `naturalSum()` allowing to calculate the sum of the first n integers 1 + 2 + 3 + .. + n. Integer n as parameter for this method.\n",
        "\n",
        "4. Create a method called `testPrime()` in  the Calculation class to test the primality of a given integer n, n is Prime or Not? Integer n as parameter for this method.\n",
        "\n",
        "5. Create  a method called `testPrims()` allowing to test if two numbers are prime between them. Two integers are prime to one another if they have only `1` as their common divisor. Eg. 4 and 9 are prime to each other.\n",
        "\n",
        "5. Create a `tableMult()` method which creates and displays the multiplication table of a given integer. Then create an `allTablesMult()` method to display all the integer multiplication tables 1, 2, 3, ..., 9.\n",
        "\n",
        "6. Create a static `listDiv()` method that gets all the divisors of a given integer on new list called  Ldiv. Create another `listDivPrim()` method that gets all the prime divisors of a given integer."
      ],
      "metadata": {
        "id": "QovcQAZTrgGU"
      }
    },
    {
      "cell_type": "code",
      "source": [
        "# write your code here\n",
        "from math import sqrt \n",
        "class Computation:\n",
        "  def __init__(self):\n",
        "    pass\n",
        "\n",
        "  def Factorial(self, n):\n",
        "    fact = 1\n",
        "    for i in range(2, n+1):\n",
        "      fact *= i\n",
        "\n",
        "    print(\"Factorial of number {0} is {1}\".format(n, fact))\n",
        "\n",
        "  def naturalSum(self, n):\n",
        "    sum = 0\n",
        "    Flag = True\n",
        "    for i in (1, n+1):\n",
        "      sum += i\n",
        "\n",
        "    print('Natual sum of first {0} numbers is {1}'.format(n, sum))\n",
        "\n",
        "  def testPrime(self, n):\n",
        "    if n <= 1:\n",
        "      Flag = False\n",
        "\n",
        "    else:\n",
        "      for i in range(2, int(sqrt(n)) + 1):\n",
        "        if n%i == 0:\n",
        "          Flag = False\n",
        "          break\n",
        "\n",
        "    if Flag == True:\n",
        "      print('Number {0} is prime'.format(n))\n",
        "    else:\n",
        "      print('Number {0} is not prime'.format(n))\n",
        "\n",
        "  def tableMult(self, n):\n",
        "\n",
        "    L = []\n",
        "\n",
        "    for i in range(1, 13):\n",
        "      prd = n * i\n",
        "      op = \"{}\".format(n) +\" x \"+\"{}\".format(i) + \" = \" + \"{}\".format(prd)\n",
        "      L.append(op)\n",
        "\n",
        "    print(L)\n",
        "\n",
        "  \n",
        "  def allTableMult(self):\n",
        "\n",
        "    L = []\n",
        "\n",
        "    for i in range(1, 10):\n",
        "      for j in range(1, 13):\n",
        "        prd = i * j\n",
        "        op = \"{}\".format(i) +\" x \"+\"{}\".format(j) + \" = \" + \"{}\".format(prd)\n",
        "        L.append(op)\n",
        "\n",
        "    print(L)\n",
        "\n",
        "\n",
        "  @staticmethod\n",
        "  def listDiv(n):\n",
        "    Ldiv = []\n",
        "    for i in range(1, int(sqrt(n))+1):\n",
        "      mod = n%i\n",
        "      if mod == 0:\n",
        "        Ldiv.append(i)\n",
        "    print(str(Ldiv)[1:-1])\n",
        "  \n",
        "  def listDivPrim(self, n):\n",
        "    Ldiv = []\n",
        "    for i in range(1, int(sqrt(n))+1):\n",
        "      mod = n%i\n",
        "      if mod == 0:\n",
        "        #print(i)\n",
        "        Flag = True\n",
        "        if i <= 1:\n",
        "          Flag = False\n",
        "\n",
        "        else:\n",
        "          for j in range(2, int(sqrt(i)) + 1):\n",
        "            if n%j == 0:\n",
        "              Flag = False\n",
        "              break\n",
        "\n",
        "        if Flag == True:\n",
        "          Ldiv.append(i)\n",
        "        \n",
        "    if Ldiv == []:\n",
        "      print(\"Number {0} do not have prime divisor\".format(n))\n",
        "    else:\n",
        "      print(str(Ldiv)[1:-1])\n",
        "  \n",
        "\n",
        "\n",
        "\n",
        "\n",
        "  \n",
        "\n",
        "\n",
        "\n",
        "  "
      ],
      "metadata": {
        "id": "YEkPH70l6Z-o"
      },
      "execution_count": 1,
      "outputs": []
    },
    {
      "cell_type": "code",
      "source": [
        "cmp = Computation()\n",
        "\n",
        "cmp.tableMult(9)\n",
        "cmp.allTableMult()\n",
        "cmp.listDivPrim(35)\n",
        "Computation.listDiv(35)"
      ],
      "metadata": {
        "id": "nAjQqfwQCljA",
        "outputId": "9cef8878-77e3-4f98-d165-027a5618a50e",
        "colab": {
          "base_uri": "https://localhost:8080/"
        }
      },
      "execution_count": 2,
      "outputs": [
        {
          "output_type": "stream",
          "name": "stdout",
          "text": [
            "['9 x 1 = 9', '9 x 2 = 18', '9 x 3 = 27', '9 x 4 = 36', '9 x 5 = 45', '9 x 6 = 54', '9 x 7 = 63', '9 x 8 = 72', '9 x 9 = 81', '9 x 10 = 90', '9 x 11 = 99', '9 x 12 = 108']\n",
            "['1 x 1 = 1', '1 x 2 = 2', '1 x 3 = 3', '1 x 4 = 4', '1 x 5 = 5', '1 x 6 = 6', '1 x 7 = 7', '1 x 8 = 8', '1 x 9 = 9', '1 x 10 = 10', '1 x 11 = 11', '1 x 12 = 12', '2 x 1 = 2', '2 x 2 = 4', '2 x 3 = 6', '2 x 4 = 8', '2 x 5 = 10', '2 x 6 = 12', '2 x 7 = 14', '2 x 8 = 16', '2 x 9 = 18', '2 x 10 = 20', '2 x 11 = 22', '2 x 12 = 24', '3 x 1 = 3', '3 x 2 = 6', '3 x 3 = 9', '3 x 4 = 12', '3 x 5 = 15', '3 x 6 = 18', '3 x 7 = 21', '3 x 8 = 24', '3 x 9 = 27', '3 x 10 = 30', '3 x 11 = 33', '3 x 12 = 36', '4 x 1 = 4', '4 x 2 = 8', '4 x 3 = 12', '4 x 4 = 16', '4 x 5 = 20', '4 x 6 = 24', '4 x 7 = 28', '4 x 8 = 32', '4 x 9 = 36', '4 x 10 = 40', '4 x 11 = 44', '4 x 12 = 48', '5 x 1 = 5', '5 x 2 = 10', '5 x 3 = 15', '5 x 4 = 20', '5 x 5 = 25', '5 x 6 = 30', '5 x 7 = 35', '5 x 8 = 40', '5 x 9 = 45', '5 x 10 = 50', '5 x 11 = 55', '5 x 12 = 60', '6 x 1 = 6', '6 x 2 = 12', '6 x 3 = 18', '6 x 4 = 24', '6 x 5 = 30', '6 x 6 = 36', '6 x 7 = 42', '6 x 8 = 48', '6 x 9 = 54', '6 x 10 = 60', '6 x 11 = 66', '6 x 12 = 72', '7 x 1 = 7', '7 x 2 = 14', '7 x 3 = 21', '7 x 4 = 28', '7 x 5 = 35', '7 x 6 = 42', '7 x 7 = 49', '7 x 8 = 56', '7 x 9 = 63', '7 x 10 = 70', '7 x 11 = 77', '7 x 12 = 84', '8 x 1 = 8', '8 x 2 = 16', '8 x 3 = 24', '8 x 4 = 32', '8 x 5 = 40', '8 x 6 = 48', '8 x 7 = 56', '8 x 8 = 64', '8 x 9 = 72', '8 x 10 = 80', '8 x 11 = 88', '8 x 12 = 96', '9 x 1 = 9', '9 x 2 = 18', '9 x 3 = 27', '9 x 4 = 36', '9 x 5 = 45', '9 x 6 = 54', '9 x 7 = 63', '9 x 8 = 72', '9 x 9 = 81', '9 x 10 = 90', '9 x 11 = 99', '9 x 12 = 108']\n",
            "5\n",
            "1, 5\n"
          ]
        }
      ]
    },
    {
      "cell_type": "markdown",
      "source": [
        "##`Q-4`: Build flashcard using class in Python.\n",
        "\n",
        "Build a flashcard using class in python. A flashcard is a card having information on both sides, which can be used as an aid in memoization. Flashcards usually have a question on one side and an answer on the other.\n",
        "\n",
        "**Example 1:**\n",
        "\n",
        "Approach:\n",
        "\n",
        "- Create a class named FlashCard.\n",
        "- Initialize dictionary fruits using __init__() method. Here you have to define fruit name as key and it's color as value. E.g., {\"Banana\": \"yellow\", \"Strawberries\": \"pink\"}\n",
        "- Now randomly choose a pair from fruits by using _random_ module and store the key in variable _fruit_ and _value_ in variable color.\n",
        "- Now prompt the user to answer the color of the randomly chosen fruit.\n",
        "- If correct print correct else print wrong.\n",
        "\n",
        "Output:\n",
        "```bash\n",
        "welcome to fruit quiz\n",
        "What is the color of Strawberries\n",
        "pink\n",
        "Correct answer\n",
        "Enter 0, if you want to play again: 0\n",
        "What is the color of watermelon\n",
        "green\n",
        "Correct answer\n",
        "Enter 0, if you want to play again: 1\n",
        "```"
      ],
      "metadata": {
        "id": "0yn23_oEriXa"
      }
    },
    {
      "cell_type": "code",
      "source": [
        "# write your code here\n",
        "import random\n",
        "class FlashCard:\n",
        "  def __init__(self):\n",
        "    self.d = {'Banana':'Yellow',\n",
        "              'Apple': 'Red',\n",
        "              'Strawberries': 'Pink',\n",
        "              'Watermelon': 'Green'\n",
        "              }\n",
        "  \n",
        "  def quiz(self):\n",
        "    \n",
        "    flag = False\n",
        "    while(flag == False):\n",
        "      fruit, color = random.choice(list(self.d.items()))\n",
        "      print('What is the color of {}'.format(fruit))\n",
        "      usr_choice = input()\n",
        "      if  usr_choice.upper() == color.upper():\n",
        "        print(\"Correct  answer\")\n",
        "      else:\n",
        "        print(\"Wrong  answer\")\n",
        "\n",
        "      flag = int(input(\"Enter 0, if you want to play again: \"))\n",
        "\n",
        "\n",
        "\n",
        "    \n",
        "  \n",
        "   "
      ],
      "metadata": {
        "id": "vCrUF6VU6l6w"
      },
      "execution_count": 23,
      "outputs": []
    },
    {
      "cell_type": "code",
      "source": [
        "f1 = FlashCard()\n",
        "Flag = 1\n",
        "print(\"Welcome to Fruit Quiz\")\n",
        "\n",
        "f1.quiz()\n",
        "\n",
        "\n"
      ],
      "metadata": {
        "id": "oH2LD5COd1yi",
        "outputId": "1eb5df3b-a76e-41b1-e992-a3d882b382f1",
        "colab": {
          "base_uri": "https://localhost:8080/"
        }
      },
      "execution_count": 24,
      "outputs": [
        {
          "name": "stdout",
          "output_type": "stream",
          "text": [
            "Welcome to Fruit Quiz\n",
            "What is the color of Banana\n",
            "yellow\n",
            "Correct  answer\n",
            "Enter 0, if you want to play again: 0\n",
            "What is the color of Watermelon\n",
            "red\n",
            "Wrong  answer\n",
            "Enter 0, if you want to play again: 0\n",
            "What is the color of Banana\n",
            "yellow\n",
            "Correct  answer\n",
            "Enter 0, if you want to play again: 0\n",
            "What is the color of Banana\n",
            "yellow\n",
            "Correct  answer\n",
            "Enter 0, if you want to play again: 0\n",
            "What is the color of Apple\n",
            "red\n",
            "Correct  answer\n",
            "Enter 0, if you want to play again: 1\n"
          ]
        }
      ]
    },
    {
      "cell_type": "markdown",
      "source": [
        "## `Q-5:` Problem 5 based on OOP Python.\n",
        "\n",
        "TechWorld, a technology training center, wants to allocate courses for instructors. An instructor is identified by name, technology skills, experience and average feedback. An instructor is allocated a course, if he/she satisfies the below two conditions:\n",
        "- eligibility criteria:\n",
        "    - if experience is more than 3 years, average feedback should be 4.5 or more\n",
        "    - if experience is 3 years or less, average feedback should be 4 or more\n",
        "- he/she should posses the technology skill for the course\n",
        "\n",
        "Identify the class name and attributes to represent instructors. Write a Python program to implement the class chosen with its attributes and methods.\n",
        "\n",
        "**Note:**\n",
        "- Consider all instance variables to be private and methods to be public.\n",
        "- An instructor may have multiple technology skills, so consider instance variable, technology_skill to be a list.\n",
        "- *check_eligibility()*: Return true if eligibility criteria is satisfied by the instructor. Else, return false\n",
        "- *allocate_course(technology)*: Return true if the course which requires the given technology can be allocated to the instructor. Else, return false.\n",
        "\n",
        "Represent a few objects of the class, initialize instance variables using setter methods, invoke\n",
        "appropriate methods and test your program."
      ],
      "metadata": {
        "id": "GN2r0jbRewYr"
      }
    },
    {
      "cell_type": "code",
      "source": [
        "# write your code here\n",
        "class Instructor:\n",
        "  def __init__(self):\n",
        "    self.__name = ''\n",
        "    self.__tech_skills = []\n",
        "    self.__exp = 0\n",
        "    self.__feed_bck = 0.0\n",
        "\n",
        "  def get_name(self):\n",
        "    return self.__name\n",
        "\n",
        "  def set_var(self, n, ts, e, fb):\n",
        "    self.__name = n\n",
        "    self.__tech_skills = list(ts)\n",
        "    self.__exp = e\n",
        "    self.__feed_bck = fb\n",
        "\n",
        "  def check_eligibility(self):\n",
        "    if self.__exp > 3 and self.__feed_bck >= 4.5:\n",
        "      return True\n",
        "    elif self.__exp <= 3 and self.__feed_bck >= 4:\n",
        "      return True\n",
        "    else:\n",
        "      return False\n",
        "\n",
        "  def allocate_course(self, tech):\n",
        "    elg = self.check_eligibility()\n",
        "\n",
        "    if elg:\n",
        "      if tech in self.__tech_skills:\n",
        "        return True\n",
        "      else:\n",
        "        return False\n",
        "\n",
        "    \n",
        "\n"
      ],
      "metadata": {
        "id": "pdMFuVFnlvKL"
      },
      "execution_count": 38,
      "outputs": []
    },
    {
      "cell_type": "code",
      "source": [
        "inst1 = Instructor()\n",
        "inst2 = Instructor()\n",
        "inst1.set_var('Ann',['python','ML','DL'],4, 4.5)\n",
        "inst2.set_var('Ben',['python','ML'],2, 4)\n",
        "L = [inst1, inst2]\n",
        "\n",
        "for i in L:\n",
        "\n",
        "  if i.allocate_course('DL'):\n",
        "    print('DL is allocated to {0}'.format(i.get_name()))\n",
        "  else:\n",
        "    print('{} is not eligible for subject DL'.format(i.get_name()))\n",
        "\n",
        "\n",
        "\n"
      ],
      "metadata": {
        "id": "e-FR59ObGBnF",
        "outputId": "29db3caf-9af7-4f08-9e34-471ffcd4fafe",
        "colab": {
          "base_uri": "https://localhost:8080/"
        }
      },
      "execution_count": 44,
      "outputs": [
        {
          "output_type": "stream",
          "name": "stdout",
          "text": [
            "DL is allocated to Ann\n",
            "Ben is not eligible for subject DL\n"
          ]
        }
      ]
    },
    {
      "cell_type": "code",
      "source": [],
      "metadata": {
        "id": "qtkrynZOKPa0"
      },
      "execution_count": null,
      "outputs": []
    }
  ]
}