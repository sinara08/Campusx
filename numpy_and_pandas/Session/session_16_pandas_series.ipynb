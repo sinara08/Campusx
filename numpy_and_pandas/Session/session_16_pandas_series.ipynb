{
  "nbformat": 4,
  "nbformat_minor": 0,
  "metadata": {
    "colab": {
      "provenance": [],
      "include_colab_link": true
    },
    "kernelspec": {
      "name": "python3",
      "display_name": "Python 3"
    },
    "language_info": {
      "name": "python"
    }
  },
  "cells": [
    {
      "cell_type": "markdown",
      "metadata": {
        "id": "view-in-github",
        "colab_type": "text"
      },
      "source": [
        "<a href=\"https://colab.research.google.com/github/sinara08/Campusx/blob/main/numpy_and_pandas/Session/session_16_pandas_series.ipynb\" target=\"_parent\"><img src=\"https://colab.research.google.com/assets/colab-badge.svg\" alt=\"Open In Colab\"/></a>"
      ]
    },
    {
      "cell_type": "markdown",
      "source": [
        "### What is Pandas\n",
        "\n",
        "Pandas is a fast, powerful, flexible and easy to use open source data analysis and manipulation tool,\n",
        "built on top of the Python programming language.\n",
        "\n",
        "https://pandas.pydata.org/about/index.html"
      ],
      "metadata": {
        "id": "Nkgl3LZGP0XZ"
      }
    },
    {
      "cell_type": "markdown",
      "source": [
        "### Pandas Series\n",
        "\n",
        "A Pandas Series is like a column in a table. It is a 1-D array holding data of any type."
      ],
      "metadata": {
        "id": "3QmWVpYGRw59"
      }
    },
    {
      "cell_type": "markdown",
      "source": [
        "### Importing Pandas"
      ],
      "metadata": {
        "id": "3hwTOkrbPMjE"
      }
    },
    {
      "cell_type": "code",
      "source": [
        "import pandas as pd\n",
        "import numpy as np"
      ],
      "metadata": {
        "id": "QWWCrofyPM7J"
      },
      "execution_count": 1,
      "outputs": []
    },
    {
      "cell_type": "markdown",
      "source": [
        "### Series from lists"
      ],
      "metadata": {
        "id": "uU-Ms_To_FG1"
      }
    },
    {
      "cell_type": "code",
      "source": [
        "# string\n",
        "country=['India','Pakistan','Srilanka','USA','Nepal']\n",
        "pd.Series(country)"
      ],
      "metadata": {
        "id": "KYk9Gta7_G38",
        "outputId": "4d8481e3-31c1-4de2-d547-d47226edcd14",
        "colab": {
          "base_uri": "https://localhost:8080/"
        }
      },
      "execution_count": 3,
      "outputs": [
        {
          "output_type": "execute_result",
          "data": {
            "text/plain": [
              "0       India\n",
              "1    Pakistan\n",
              "2    Srilanka\n",
              "3         USA\n",
              "4       Nepal\n",
              "dtype: object"
            ]
          },
          "metadata": {},
          "execution_count": 3
        }
      ]
    },
    {
      "cell_type": "code",
      "source": [
        "# integers\n",
        "runs = [24,34, 45, 50,20]\n",
        "runs_series = pd.Series(runs)"
      ],
      "metadata": {
        "id": "h_Wgimpg_Idl"
      },
      "execution_count": 19,
      "outputs": []
    },
    {
      "cell_type": "code",
      "source": [
        "# custom index\n",
        "marks = [67,57, 89, 100]\n",
        "subjects = ['maths', 'english','science', 'Hindi']\n",
        "\n",
        "pd.Series(marks, index = subjects)"
      ],
      "metadata": {
        "id": "CJgHbnepH_EX",
        "outputId": "8cfb1f90-7425-4f36-828d-8ac1fb477f94",
        "colab": {
          "base_uri": "https://localhost:8080/"
        }
      },
      "execution_count": 6,
      "outputs": [
        {
          "output_type": "execute_result",
          "data": {
            "text/plain": [
              "maths       67\n",
              "english     57\n",
              "science     89\n",
              "Hindi      100\n",
              "dtype: int64"
            ]
          },
          "metadata": {},
          "execution_count": 6
        }
      ]
    },
    {
      "cell_type": "code",
      "source": [
        "# setting a name\n",
        "mks = pd.Series(marks, index = subjects, name=\"Nitish's marks\")\n",
        "mks"
      ],
      "metadata": {
        "id": "zcjykyJVKgWs",
        "outputId": "22913328-82b2-4c71-fdcc-275807caf92b",
        "colab": {
          "base_uri": "https://localhost:8080/"
        }
      },
      "execution_count": 8,
      "outputs": [
        {
          "output_type": "execute_result",
          "data": {
            "text/plain": [
              "maths       67\n",
              "english     57\n",
              "science     89\n",
              "Hindi      100\n",
              "Name: Nitish's marks, dtype: int64"
            ]
          },
          "metadata": {},
          "execution_count": 8
        }
      ]
    },
    {
      "cell_type": "markdown",
      "source": [
        "### Series from dict"
      ],
      "metadata": {
        "id": "gw4NHrWf_Km3"
      }
    },
    {
      "cell_type": "code",
      "source": [
        "marks = {\n",
        "    'maths':67,\n",
        "    'english':57,\n",
        "    'science': 89,\n",
        "    'Hindi': 100\n",
        "}\n",
        "\n",
        "mks_series = pd.Series(marks, name=\"Nitish's marks\")\n",
        "mks_series"
      ],
      "metadata": {
        "id": "Sz9B_oPy_RMX",
        "outputId": "a6ddfc30-afbe-4f64-d4f1-03a9e238105b",
        "colab": {
          "base_uri": "https://localhost:8080/"
        }
      },
      "execution_count": 9,
      "outputs": [
        {
          "output_type": "execute_result",
          "data": {
            "text/plain": [
              "maths       67\n",
              "english     57\n",
              "science     89\n",
              "Hindi      100\n",
              "Name: Nitish's marks, dtype: int64"
            ]
          },
          "metadata": {},
          "execution_count": 9
        }
      ]
    },
    {
      "cell_type": "markdown",
      "source": [
        "### Series Attributes"
      ],
      "metadata": {
        "id": "MDSIDfei_Szi"
      }
    },
    {
      "cell_type": "code",
      "source": [
        "# size\n",
        "mks_series.size"
      ],
      "metadata": {
        "id": "0_eqjw1u_lG_",
        "outputId": "7ffe8689-f892-486d-c177-c51adb4b2545",
        "colab": {
          "base_uri": "https://localhost:8080/"
        }
      },
      "execution_count": 11,
      "outputs": [
        {
          "output_type": "execute_result",
          "data": {
            "text/plain": [
              "4"
            ]
          },
          "metadata": {},
          "execution_count": 11
        }
      ]
    },
    {
      "cell_type": "code",
      "source": [
        "# dtype\n",
        "mks_series.dtype"
      ],
      "metadata": {
        "id": "nYpNWJhWGyqa",
        "outputId": "e0bf508e-753b-4b9d-b8a7-ecec1f9a7c9f",
        "colab": {
          "base_uri": "https://localhost:8080/"
        }
      },
      "execution_count": 12,
      "outputs": [
        {
          "output_type": "execute_result",
          "data": {
            "text/plain": [
              "dtype('int64')"
            ]
          },
          "metadata": {},
          "execution_count": 12
        }
      ]
    },
    {
      "cell_type": "code",
      "source": [
        "# name\n",
        "mks_series.name"
      ],
      "metadata": {
        "id": "ImBy24CkKkZP",
        "outputId": "d71f7a0c-e9f0-4ce1-8ef8-e2e98448a535",
        "colab": {
          "base_uri": "https://localhost:8080/",
          "height": 35
        }
      },
      "execution_count": 13,
      "outputs": [
        {
          "output_type": "execute_result",
          "data": {
            "text/plain": [
              "\"Nitish's marks\""
            ],
            "application/vnd.google.colaboratory.intrinsic+json": {
              "type": "string"
            }
          },
          "metadata": {},
          "execution_count": 13
        }
      ]
    },
    {
      "cell_type": "code",
      "source": [
        "# is_unique\n",
        "mks_series.is_unique\n",
        "\n",
        "pd.Series([1,1,2,3,3,4]).is_unique"
      ],
      "metadata": {
        "id": "UsNGB2rCF9V-",
        "outputId": "d3ecb746-5ba2-41bd-f6e2-56f214579965",
        "colab": {
          "base_uri": "https://localhost:8080/"
        }
      },
      "execution_count": 22,
      "outputs": [
        {
          "output_type": "execute_result",
          "data": {
            "text/plain": [
              "False"
            ]
          },
          "metadata": {},
          "execution_count": 22
        }
      ]
    },
    {
      "cell_type": "code",
      "source": [
        "# index\n",
        "runs_series.index\n"
      ],
      "metadata": {
        "id": "VLB00Z-vGBHL",
        "outputId": "3c9c8fda-ac81-419c-b956-ffacb0a650b7",
        "colab": {
          "base_uri": "https://localhost:8080/"
        }
      },
      "execution_count": 23,
      "outputs": [
        {
          "output_type": "execute_result",
          "data": {
            "text/plain": [
              "RangeIndex(start=0, stop=5, step=1)"
            ]
          },
          "metadata": {},
          "execution_count": 23
        }
      ]
    },
    {
      "cell_type": "code",
      "source": [
        "# values\n",
        "mks_series.values"
      ],
      "metadata": {
        "id": "PmE8l3SKGDbl",
        "outputId": "c3ee2cf3-9d32-49b0-a90d-5d37326a597e",
        "colab": {
          "base_uri": "https://localhost:8080/"
        }
      },
      "execution_count": 24,
      "outputs": [
        {
          "output_type": "execute_result",
          "data": {
            "text/plain": [
              "array([ 67,  57,  89, 100])"
            ]
          },
          "metadata": {},
          "execution_count": 24
        }
      ]
    },
    {
      "cell_type": "markdown",
      "source": [
        "### Series using read_csv"
      ],
      "metadata": {
        "id": "UCP7I0t_KMID"
      }
    },
    {
      "cell_type": "code",
      "source": [
        "# with one col\n",
        "subs = pd.read_csv('/content/subs.csv', squeeze = True)\n",
        "subs"
      ],
      "metadata": {
        "id": "r2FWTRoBGEk5",
        "outputId": "249e97e9-679d-42de-ca1f-1dc74d7e0324",
        "colab": {
          "base_uri": "https://localhost:8080/"
        }
      },
      "execution_count": 36,
      "outputs": [
        {
          "output_type": "execute_result",
          "data": {
            "text/plain": [
              "0       48\n",
              "1       57\n",
              "2       40\n",
              "3       43\n",
              "4       44\n",
              "      ... \n",
              "360    231\n",
              "361    226\n",
              "362    155\n",
              "363    144\n",
              "364    172\n",
              "Name: Subscribers gained, Length: 365, dtype: int64"
            ]
          },
          "metadata": {},
          "execution_count": 36
        }
      ]
    },
    {
      "cell_type": "code",
      "source": [
        "vk = pd.read_csv('/content/kohli_ipl.csv', index_col = 'match_no',squeeze = True)\n",
        "vk"
      ],
      "metadata": {
        "id": "JxOODMCTB2n6",
        "outputId": "65043bc5-2207-4d3c-9152-738c95b97560",
        "colab": {
          "base_uri": "https://localhost:8080/"
        }
      },
      "execution_count": 38,
      "outputs": [
        {
          "output_type": "execute_result",
          "data": {
            "text/plain": [
              "match_no\n",
              "1       1\n",
              "2      23\n",
              "3      13\n",
              "4      12\n",
              "5       1\n",
              "       ..\n",
              "211     0\n",
              "212    20\n",
              "213    73\n",
              "214    25\n",
              "215     7\n",
              "Name: runs, Length: 215, dtype: int64"
            ]
          },
          "metadata": {},
          "execution_count": 38
        }
      ]
    },
    {
      "cell_type": "code",
      "source": [
        "mv = pd.read_csv('/content/bollywood.csv', index_col = 'movie',squeeze = True)\n",
        "mv"
      ],
      "metadata": {
        "id": "v34r_I_82dwZ",
        "outputId": "7fddfc47-a519-4108-fbd1-1cae8e1d654c",
        "colab": {
          "base_uri": "https://localhost:8080/"
        }
      },
      "execution_count": 41,
      "outputs": [
        {
          "output_type": "execute_result",
          "data": {
            "text/plain": [
              "movie\n",
              "Uri: The Surgical Strike                   Vicky Kaushal\n",
              "Battalion 609                                Vicky Ahuja\n",
              "The Accidental Prime Minister (film)         Anupam Kher\n",
              "Why Cheat India                            Emraan Hashmi\n",
              "Evening Shadows                         Mona Ambegaonkar\n",
              "                                              ...       \n",
              "Hum Tumhare Hain Sanam                    Shah Rukh Khan\n",
              "Aankhen (2002 film)                     Amitabh Bachchan\n",
              "Saathiya (film)                             Vivek Oberoi\n",
              "Company (film)                                Ajay Devgn\n",
              "Awara Paagal Deewana                        Akshay Kumar\n",
              "Name: lead, Length: 1500, dtype: object"
            ]
          },
          "metadata": {},
          "execution_count": 41
        }
      ]
    },
    {
      "cell_type": "markdown",
      "source": [
        "### Series methods"
      ],
      "metadata": {
        "id": "taKAApMTLJkG"
      }
    },
    {
      "cell_type": "code",
      "source": [
        "# head and tail\n",
        "subs.head()"
      ],
      "metadata": {
        "id": "Lt-l4sM_LLsH",
        "outputId": "ef059585-dca9-408a-b180-1451058fbe9d",
        "colab": {
          "base_uri": "https://localhost:8080/"
        }
      },
      "execution_count": 37,
      "outputs": [
        {
          "output_type": "execute_result",
          "data": {
            "text/plain": [
              "0    48\n",
              "1    57\n",
              "2    40\n",
              "3    43\n",
              "4    44\n",
              "Name: Subscribers gained, dtype: int64"
            ]
          },
          "metadata": {},
          "execution_count": 37
        }
      ]
    },
    {
      "cell_type": "code",
      "source": [
        "# sample\n",
        "vk.head(3)"
      ],
      "metadata": {
        "id": "COKh4XYBLqT3",
        "outputId": "35a65bc0-cd39-4393-fba2-0514905efd3e",
        "colab": {
          "base_uri": "https://localhost:8080/"
        }
      },
      "execution_count": 39,
      "outputs": [
        {
          "output_type": "execute_result",
          "data": {
            "text/plain": [
              "match_no\n",
              "1     1\n",
              "2    23\n",
              "3    13\n",
              "Name: runs, dtype: int64"
            ]
          },
          "metadata": {},
          "execution_count": 39
        }
      ]
    },
    {
      "cell_type": "code",
      "source": [
        "vk.tail(5)"
      ],
      "metadata": {
        "id": "piKwhFHCDu1M",
        "outputId": "61e89054-9ca4-431a-a69b-a047559a0d47",
        "colab": {
          "base_uri": "https://localhost:8080/"
        }
      },
      "execution_count": 40,
      "outputs": [
        {
          "output_type": "execute_result",
          "data": {
            "text/plain": [
              "match_no\n",
              "211     0\n",
              "212    20\n",
              "213    73\n",
              "214    25\n",
              "215     7\n",
              "Name: runs, dtype: int64"
            ]
          },
          "metadata": {},
          "execution_count": 40
        }
      ]
    },
    {
      "cell_type": "code",
      "source": [
        "mv.sample(15)"
      ],
      "metadata": {
        "id": "kJXURSTCEBBe",
        "outputId": "15f771a5-af02-448d-d39d-adeb45f468f3",
        "colab": {
          "base_uri": "https://localhost:8080/"
        }
      },
      "execution_count": 43,
      "outputs": [
        {
          "output_type": "execute_result",
          "data": {
            "text/plain": [
              "movie\n",
              "D-Day (2013 film)                Rishi Kapoor\n",
              "Dekh Tamasha Dekh              Satish Kaushik\n",
              "Race 3                            Anil Kapoor\n",
              "Zameer: The Fire Within            Ajay Devgn\n",
              "Om (2003 film)                   Attin Bhalla\n",
              "Hotel Salvation                  Adil Hussain\n",
              "Barsaat (2005 film)                Bobby Deol\n",
              "Khamoshi (2019 film)              Prabhu Deva\n",
              "Vivah                           Shahid Kapoor\n",
              "Mumbai Se Aaya Mera Dost    Abhishek Bachchan\n",
              "404 (film)                         Sara Arjun\n",
              "Krishna Aur Kans               Manoj Bajpayee\n",
              "I See You (2006 film)            Arjun Rampal\n",
              "Rajjo                          Kangana Ranaut\n",
              "Kis Kisko Pyaar Karoon           Kapil Sharma\n",
              "Name: lead, dtype: object"
            ]
          },
          "metadata": {},
          "execution_count": 43
        }
      ]
    },
    {
      "cell_type": "code",
      "source": [
        "# value_counts -> movies\n",
        "mv.value_counts()"
      ],
      "metadata": {
        "id": "t3m4wTw6N-v0",
        "outputId": "fd18b073-1463-4463-eb71-e282141f3ddf",
        "colab": {
          "base_uri": "https://localhost:8080/"
        }
      },
      "execution_count": 44,
      "outputs": [
        {
          "output_type": "execute_result",
          "data": {
            "text/plain": [
              "Akshay Kumar        48\n",
              "Amitabh Bachchan    45\n",
              "Ajay Devgn          38\n",
              "Salman Khan         31\n",
              "Sanjay Dutt         26\n",
              "                    ..\n",
              "Diganth              1\n",
              "Parveen Kaur         1\n",
              "Seema Azmi           1\n",
              "Akanksha Puri        1\n",
              "Edwin Fernandes      1\n",
              "Name: lead, Length: 566, dtype: int64"
            ]
          },
          "metadata": {},
          "execution_count": 44
        }
      ]
    },
    {
      "cell_type": "code",
      "source": [
        "# sort_values -> inplace\n",
        "vk.sort_values(ascending=False).head(1).values[0]\n"
      ],
      "metadata": {
        "id": "vzMt0ZOPMgpO",
        "outputId": "4fca0946-a2d6-4aae-bd5a-15deeda74eef",
        "colab": {
          "base_uri": "https://localhost:8080/"
        }
      },
      "execution_count": 49,
      "outputs": [
        {
          "output_type": "execute_result",
          "data": {
            "text/plain": [
              "113"
            ]
          },
          "metadata": {},
          "execution_count": 49
        }
      ]
    },
    {
      "cell_type": "code",
      "source": [
        "vk1 = vk.sort_values()\n",
        "vk1.sort_values(inplace=True)\n",
        "vk1\n",
        "vk"
      ],
      "metadata": {
        "id": "wS1I3I_kGdeC",
        "outputId": "2c5cbd26-445a-40b6-ce5c-2b030d5f8c6d",
        "colab": {
          "base_uri": "https://localhost:8080/"
        }
      },
      "execution_count": 52,
      "outputs": [
        {
          "output_type": "execute_result",
          "data": {
            "text/plain": [
              "match_no\n",
              "1       1\n",
              "2      23\n",
              "3      13\n",
              "4      12\n",
              "5       1\n",
              "       ..\n",
              "211     0\n",
              "212    20\n",
              "213    73\n",
              "214    25\n",
              "215     7\n",
              "Name: runs, Length: 215, dtype: int64"
            ]
          },
          "metadata": {},
          "execution_count": 52
        }
      ]
    },
    {
      "cell_type": "code",
      "source": [
        "# sort_index -> inplace -> movies\n",
        "mv.sort_index()"
      ],
      "metadata": {
        "id": "Z0t20LmCNZVi",
        "outputId": "2afdfc0d-6581-45eb-8250-99be5cac0520",
        "colab": {
          "base_uri": "https://localhost:8080/"
        }
      },
      "execution_count": 53,
      "outputs": [
        {
          "output_type": "execute_result",
          "data": {
            "text/plain": [
              "movie\n",
              "1920 (film)                   Rajniesh Duggall\n",
              "1920: London                     Sharman Joshi\n",
              "1920: The Evil Returns             Vicky Ahuja\n",
              "1971 (2007 film)                Manoj Bajpayee\n",
              "2 States (2014 film)              Arjun Kapoor\n",
              "                                   ...        \n",
              "Zindagi 50-50                      Veena Malik\n",
              "Zindagi Na Milegi Dobara        Hrithik Roshan\n",
              "Zindagi Tere Naam           Mithun Chakraborty\n",
              "Zokkomon                       Darsheel Safary\n",
              "Zor Lagaa Ke...Haiya!            Meghan Jadhav\n",
              "Name: lead, Length: 1500, dtype: object"
            ]
          },
          "metadata": {},
          "execution_count": 53
        }
      ]
    },
    {
      "cell_type": "markdown",
      "source": [
        "### Series Maths Methods"
      ],
      "metadata": {
        "id": "58RZWU44Tj_U"
      }
    },
    {
      "cell_type": "code",
      "source": [
        "# count\n",
        "vk.count()\n",
        "#size counts missing values also"
      ],
      "metadata": {
        "id": "6GzHd8BPToFa",
        "outputId": "60b0d4b8-7b38-44fd-b736-edaec6921621",
        "colab": {
          "base_uri": "https://localhost:8080/"
        }
      },
      "execution_count": 54,
      "outputs": [
        {
          "output_type": "execute_result",
          "data": {
            "text/plain": [
              "215"
            ]
          },
          "metadata": {},
          "execution_count": 54
        }
      ]
    },
    {
      "cell_type": "code",
      "source": [
        "# sum -> product\n",
        "subs.sum()\n",
        "print(pd.Series([1,3,5,9]).sum())\n",
        "print(pd.Series([1,3,5,9]).prod())"
      ],
      "metadata": {
        "id": "QAUr7vxtTrAU",
        "outputId": "6933acca-9108-4af2-b56b-6c4cd6115407",
        "colab": {
          "base_uri": "https://localhost:8080/"
        }
      },
      "execution_count": 58,
      "outputs": [
        {
          "output_type": "stream",
          "name": "stdout",
          "text": [
            "18\n",
            "135\n"
          ]
        }
      ]
    },
    {
      "cell_type": "code",
      "source": [
        "# mean -> median -> mode -> std -> var\n",
        "print(subs.mean())\n",
        "print(subs.std(), subs.var(), mv.mode(), vk.median())"
      ],
      "metadata": {
        "id": "q1pRRhmdTrM0",
        "outputId": "14a497ff-97e4-478f-cebd-293c3c12467a",
        "colab": {
          "base_uri": "https://localhost:8080/"
        }
      },
      "execution_count": 62,
      "outputs": [
        {
          "output_type": "stream",
          "name": "stdout",
          "text": [
            "135.64383561643837\n",
            "62.6750230372527 3928.1585127201565 0    Akshay Kumar\n",
            "dtype: object 24.0\n"
          ]
        }
      ]
    },
    {
      "cell_type": "code",
      "source": [
        "# min/max\n",
        "print(subs.min(), subs.max())"
      ],
      "metadata": {
        "id": "L64dQIXJTrXF",
        "outputId": "c2464e37-a546-4279-ad2f-c453f589b37c",
        "colab": {
          "base_uri": "https://localhost:8080/"
        }
      },
      "execution_count": 63,
      "outputs": [
        {
          "output_type": "stream",
          "name": "stdout",
          "text": [
            "33 396\n"
          ]
        }
      ]
    },
    {
      "cell_type": "code",
      "source": [
        "# describe\n",
        "vk.describe()"
      ],
      "metadata": {
        "id": "SAvniKCuUB_J",
        "outputId": "78c84c57-0eaf-4e23-e44a-2485679c4ec9",
        "colab": {
          "base_uri": "https://localhost:8080/"
        }
      },
      "execution_count": 64,
      "outputs": [
        {
          "output_type": "execute_result",
          "data": {
            "text/plain": [
              "count    215.000000\n",
              "mean      30.855814\n",
              "std       26.229801\n",
              "min        0.000000\n",
              "25%        9.000000\n",
              "50%       24.000000\n",
              "75%       48.000000\n",
              "max      113.000000\n",
              "Name: runs, dtype: float64"
            ]
          },
          "metadata": {},
          "execution_count": 64
        }
      ]
    },
    {
      "cell_type": "markdown",
      "source": [
        "### Series Indexing"
      ],
      "metadata": {
        "id": "Cz12N8YKP-h8"
      }
    },
    {
      "cell_type": "code",
      "source": [
        "# integer indexing\n",
        "x = pd.Series([12,13,14,35,46,57,58,79,9])\n",
        "print(x[4])"
      ],
      "metadata": {
        "id": "VXMiwNgAQA4V",
        "outputId": "a811a05e-6ce9-405e-d215-9e493a2b7858",
        "colab": {
          "base_uri": "https://localhost:8080/"
        }
      },
      "execution_count": 65,
      "outputs": [
        {
          "output_type": "stream",
          "name": "stdout",
          "text": [
            "46\n"
          ]
        }
      ]
    },
    {
      "cell_type": "code",
      "source": [
        "print(x[-1])\n",
        "#-ve indexing wont work in series"
      ],
      "metadata": {
        "id": "3Z8zo9Y5KtCQ",
        "outputId": "f3f9d5bd-90e2-4252-f9df-444c7dc89f15",
        "colab": {
          "base_uri": "https://localhost:8080/",
          "height": 443
        }
      },
      "execution_count": 67,
      "outputs": [
        {
          "output_type": "error",
          "ename": "KeyError",
          "evalue": "ignored",
          "traceback": [
            "\u001b[0;31m---------------------------------------------------------------------------\u001b[0m",
            "\u001b[0;31mValueError\u001b[0m                                Traceback (most recent call last)",
            "\u001b[0;32m/usr/local/lib/python3.8/dist-packages/pandas/core/indexes/range.py\u001b[0m in \u001b[0;36mget_loc\u001b[0;34m(self, key, method, tolerance)\u001b[0m\n\u001b[1;32m    384\u001b[0m                 \u001b[0;32mtry\u001b[0m\u001b[0;34m:\u001b[0m\u001b[0;34m\u001b[0m\u001b[0;34m\u001b[0m\u001b[0m\n\u001b[0;32m--> 385\u001b[0;31m                     \u001b[0;32mreturn\u001b[0m \u001b[0mself\u001b[0m\u001b[0;34m.\u001b[0m\u001b[0m_range\u001b[0m\u001b[0;34m.\u001b[0m\u001b[0mindex\u001b[0m\u001b[0;34m(\u001b[0m\u001b[0mnew_key\u001b[0m\u001b[0;34m)\u001b[0m\u001b[0;34m\u001b[0m\u001b[0;34m\u001b[0m\u001b[0m\n\u001b[0m\u001b[1;32m    386\u001b[0m                 \u001b[0;32mexcept\u001b[0m \u001b[0mValueError\u001b[0m \u001b[0;32mas\u001b[0m \u001b[0merr\u001b[0m\u001b[0;34m:\u001b[0m\u001b[0;34m\u001b[0m\u001b[0;34m\u001b[0m\u001b[0m\n",
            "\u001b[0;31mValueError\u001b[0m: -1 is not in range",
            "\nThe above exception was the direct cause of the following exception:\n",
            "\u001b[0;31mKeyError\u001b[0m                                  Traceback (most recent call last)",
            "\u001b[0;32m<ipython-input-67-b99002e69c7f>\u001b[0m in \u001b[0;36m<module>\u001b[0;34m\u001b[0m\n\u001b[0;32m----> 1\u001b[0;31m \u001b[0mprint\u001b[0m\u001b[0;34m(\u001b[0m\u001b[0mx\u001b[0m\u001b[0;34m[\u001b[0m\u001b[0;34m-\u001b[0m\u001b[0;36m1\u001b[0m\u001b[0;34m]\u001b[0m\u001b[0;34m)\u001b[0m\u001b[0;34m\u001b[0m\u001b[0;34m\u001b[0m\u001b[0m\n\u001b[0m\u001b[1;32m      2\u001b[0m \u001b[0;31m#-ve indexing wont work in series\u001b[0m\u001b[0;34m\u001b[0m\u001b[0;34m\u001b[0m\u001b[0;34m\u001b[0m\u001b[0m\n",
            "\u001b[0;32m/usr/local/lib/python3.8/dist-packages/pandas/core/series.py\u001b[0m in \u001b[0;36m__getitem__\u001b[0;34m(self, key)\u001b[0m\n\u001b[1;32m    940\u001b[0m \u001b[0;34m\u001b[0m\u001b[0m\n\u001b[1;32m    941\u001b[0m         \u001b[0;32melif\u001b[0m \u001b[0mkey_is_scalar\u001b[0m\u001b[0;34m:\u001b[0m\u001b[0;34m\u001b[0m\u001b[0;34m\u001b[0m\u001b[0m\n\u001b[0;32m--> 942\u001b[0;31m             \u001b[0;32mreturn\u001b[0m \u001b[0mself\u001b[0m\u001b[0;34m.\u001b[0m\u001b[0m_get_value\u001b[0m\u001b[0;34m(\u001b[0m\u001b[0mkey\u001b[0m\u001b[0;34m)\u001b[0m\u001b[0;34m\u001b[0m\u001b[0;34m\u001b[0m\u001b[0m\n\u001b[0m\u001b[1;32m    943\u001b[0m \u001b[0;34m\u001b[0m\u001b[0m\n\u001b[1;32m    944\u001b[0m         \u001b[0;32mif\u001b[0m \u001b[0mis_hashable\u001b[0m\u001b[0;34m(\u001b[0m\u001b[0mkey\u001b[0m\u001b[0;34m)\u001b[0m\u001b[0;34m:\u001b[0m\u001b[0;34m\u001b[0m\u001b[0;34m\u001b[0m\u001b[0m\n",
            "\u001b[0;32m/usr/local/lib/python3.8/dist-packages/pandas/core/series.py\u001b[0m in \u001b[0;36m_get_value\u001b[0;34m(self, label, takeable)\u001b[0m\n\u001b[1;32m   1049\u001b[0m \u001b[0;34m\u001b[0m\u001b[0m\n\u001b[1;32m   1050\u001b[0m         \u001b[0;31m# Similar to Index.get_value, but we do not fall back to positional\u001b[0m\u001b[0;34m\u001b[0m\u001b[0;34m\u001b[0m\u001b[0;34m\u001b[0m\u001b[0m\n\u001b[0;32m-> 1051\u001b[0;31m         \u001b[0mloc\u001b[0m \u001b[0;34m=\u001b[0m \u001b[0mself\u001b[0m\u001b[0;34m.\u001b[0m\u001b[0mindex\u001b[0m\u001b[0;34m.\u001b[0m\u001b[0mget_loc\u001b[0m\u001b[0;34m(\u001b[0m\u001b[0mlabel\u001b[0m\u001b[0;34m)\u001b[0m\u001b[0;34m\u001b[0m\u001b[0;34m\u001b[0m\u001b[0m\n\u001b[0m\u001b[1;32m   1052\u001b[0m         \u001b[0;32mreturn\u001b[0m \u001b[0mself\u001b[0m\u001b[0;34m.\u001b[0m\u001b[0mindex\u001b[0m\u001b[0;34m.\u001b[0m\u001b[0m_get_values_for_loc\u001b[0m\u001b[0;34m(\u001b[0m\u001b[0mself\u001b[0m\u001b[0;34m,\u001b[0m \u001b[0mloc\u001b[0m\u001b[0;34m,\u001b[0m \u001b[0mlabel\u001b[0m\u001b[0;34m)\u001b[0m\u001b[0;34m\u001b[0m\u001b[0;34m\u001b[0m\u001b[0m\n\u001b[1;32m   1053\u001b[0m \u001b[0;34m\u001b[0m\u001b[0m\n",
            "\u001b[0;32m/usr/local/lib/python3.8/dist-packages/pandas/core/indexes/range.py\u001b[0m in \u001b[0;36mget_loc\u001b[0;34m(self, key, method, tolerance)\u001b[0m\n\u001b[1;32m    385\u001b[0m                     \u001b[0;32mreturn\u001b[0m \u001b[0mself\u001b[0m\u001b[0;34m.\u001b[0m\u001b[0m_range\u001b[0m\u001b[0;34m.\u001b[0m\u001b[0mindex\u001b[0m\u001b[0;34m(\u001b[0m\u001b[0mnew_key\u001b[0m\u001b[0;34m)\u001b[0m\u001b[0;34m\u001b[0m\u001b[0;34m\u001b[0m\u001b[0m\n\u001b[1;32m    386\u001b[0m                 \u001b[0;32mexcept\u001b[0m \u001b[0mValueError\u001b[0m \u001b[0;32mas\u001b[0m \u001b[0merr\u001b[0m\u001b[0;34m:\u001b[0m\u001b[0;34m\u001b[0m\u001b[0;34m\u001b[0m\u001b[0m\n\u001b[0;32m--> 387\u001b[0;31m                     \u001b[0;32mraise\u001b[0m \u001b[0mKeyError\u001b[0m\u001b[0;34m(\u001b[0m\u001b[0mkey\u001b[0m\u001b[0;34m)\u001b[0m \u001b[0;32mfrom\u001b[0m \u001b[0merr\u001b[0m\u001b[0;34m\u001b[0m\u001b[0;34m\u001b[0m\u001b[0m\n\u001b[0m\u001b[1;32m    388\u001b[0m             \u001b[0;32mraise\u001b[0m \u001b[0mKeyError\u001b[0m\u001b[0;34m(\u001b[0m\u001b[0mkey\u001b[0m\u001b[0;34m)\u001b[0m\u001b[0;34m\u001b[0m\u001b[0;34m\u001b[0m\u001b[0m\n\u001b[1;32m    389\u001b[0m         \u001b[0;32mreturn\u001b[0m \u001b[0msuper\u001b[0m\u001b[0;34m(\u001b[0m\u001b[0;34m)\u001b[0m\u001b[0;34m.\u001b[0m\u001b[0mget_loc\u001b[0m\u001b[0;34m(\u001b[0m\u001b[0mkey\u001b[0m\u001b[0;34m,\u001b[0m \u001b[0mmethod\u001b[0m\u001b[0;34m=\u001b[0m\u001b[0mmethod\u001b[0m\u001b[0;34m,\u001b[0m \u001b[0mtolerance\u001b[0m\u001b[0;34m=\u001b[0m\u001b[0mtolerance\u001b[0m\u001b[0;34m)\u001b[0m\u001b[0;34m\u001b[0m\u001b[0;34m\u001b[0m\u001b[0m\n",
            "\u001b[0;31mKeyError\u001b[0m: -1"
          ]
        }
      ]
    },
    {
      "cell_type": "code",
      "source": [
        "# slicing\n",
        "mv[-1]"
      ],
      "metadata": {
        "id": "0Aok361MQA8J",
        "outputId": "59f86cc6-0afa-4c2f-a0cc-e1b69fdc0f44",
        "colab": {
          "base_uri": "https://localhost:8080/",
          "height": 35
        }
      },
      "execution_count": 69,
      "outputs": [
        {
          "output_type": "execute_result",
          "data": {
            "text/plain": [
              "'Akshay Kumar'"
            ],
            "application/vnd.google.colaboratory.intrinsic+json": {
              "type": "string"
            }
          },
          "metadata": {},
          "execution_count": 69
        }
      ]
    },
    {
      "cell_type": "code",
      "source": [
        "# negative slicing\n",
        "vk[5:16]\n",
        "vk[-5::2]"
      ],
      "metadata": {
        "id": "Liu7rQJbQ9GW",
        "outputId": "46b81e40-1770-40dc-b68f-fdbbd1e59952",
        "colab": {
          "base_uri": "https://localhost:8080/"
        }
      },
      "execution_count": 73,
      "outputs": [
        {
          "output_type": "execute_result",
          "data": {
            "text/plain": [
              "match_no\n",
              "211     0\n",
              "213    73\n",
              "215     7\n",
              "Name: runs, dtype: int64"
            ]
          },
          "metadata": {},
          "execution_count": 73
        }
      ]
    },
    {
      "cell_type": "code",
      "source": [
        "# fancy indexing\n",
        "vk[[1,3,4,5]]"
      ],
      "metadata": {
        "id": "QjB-8CydQA_W",
        "outputId": "da9c302e-5e89-4ddd-af04-694da215f5d7",
        "colab": {
          "base_uri": "https://localhost:8080/"
        }
      },
      "execution_count": 76,
      "outputs": [
        {
          "output_type": "execute_result",
          "data": {
            "text/plain": [
              "match_no\n",
              "1     1\n",
              "3    13\n",
              "4    12\n",
              "5     1\n",
              "Name: runs, dtype: int64"
            ]
          },
          "metadata": {},
          "execution_count": 76
        }
      ]
    },
    {
      "cell_type": "code",
      "source": [
        "# indexing with labels -> fancy indexing\n",
        "mv['Zindagi Na Milegi Dobara']"
      ],
      "metadata": {
        "id": "m4y-6vjTQBCP",
        "outputId": "36417fb8-7397-4498-e217-c6c798f70b1b",
        "colab": {
          "base_uri": "https://localhost:8080/",
          "height": 35
        }
      },
      "execution_count": 77,
      "outputs": [
        {
          "output_type": "execute_result",
          "data": {
            "text/plain": [
              "'Hrithik Roshan'"
            ],
            "application/vnd.google.colaboratory.intrinsic+json": {
              "type": "string"
            }
          },
          "metadata": {},
          "execution_count": 77
        }
      ]
    },
    {
      "cell_type": "markdown",
      "source": [
        "### Editing Series"
      ],
      "metadata": {
        "id": "NFElpr-tR5en"
      }
    },
    {
      "cell_type": "code",
      "source": [
        "# using indexing\n",
        "mks_series[1] = 100\n",
        "mks_series['sst'] = 90\n",
        "mks_series"
      ],
      "metadata": {
        "id": "bMaxSAmfR8JQ",
        "outputId": "cdf59bd8-9696-4e56-d6a4-b789ff6037cf",
        "colab": {
          "base_uri": "https://localhost:8080/"
        }
      },
      "execution_count": 81,
      "outputs": [
        {
          "output_type": "execute_result",
          "data": {
            "text/plain": [
              "maths       67\n",
              "english    100\n",
              "science     89\n",
              "Hindi      100\n",
              "sst         90\n",
              "Name: Nitish's marks, dtype: int64"
            ]
          },
          "metadata": {},
          "execution_count": 81
        }
      ]
    },
    {
      "cell_type": "code",
      "source": [
        "# slicing\n",
        "runs_series\n",
        "runs[2:4] = [100,100]\n",
        "runs_series"
      ],
      "metadata": {
        "id": "bsvV3kz0R8Ps",
        "outputId": "2887198d-4200-4b91-e75e-eea91f24ddf9",
        "colab": {
          "base_uri": "https://localhost:8080/"
        }
      },
      "execution_count": 85,
      "outputs": [
        {
          "output_type": "execute_result",
          "data": {
            "text/plain": [
              "0    24\n",
              "1    34\n",
              "2    45\n",
              "3    50\n",
              "4    20\n",
              "dtype: int64"
            ]
          },
          "metadata": {},
          "execution_count": 85
        }
      ]
    },
    {
      "cell_type": "code",
      "source": [
        "# fancy indexing\n",
        "runs_series[[0,3,4]] = [0,0,0]\n",
        "runs_series"
      ],
      "metadata": {
        "id": "UbXMK59FSJp7",
        "outputId": "c2036bf8-c8de-4600-90b8-d6a2942ca41c",
        "colab": {
          "base_uri": "https://localhost:8080/"
        }
      },
      "execution_count": 92,
      "outputs": [
        {
          "output_type": "execute_result",
          "data": {
            "text/plain": [
              "0     0\n",
              "1    34\n",
              "2    45\n",
              "3     0\n",
              "4     0\n",
              "dtype: int64"
            ]
          },
          "metadata": {},
          "execution_count": 92
        }
      ]
    },
    {
      "cell_type": "code",
      "source": [
        "# using index label\n",
        "mv['2 States (2014 film)'] = 'Alia Bhatt'\n",
        "mv"
      ],
      "metadata": {
        "id": "D1gyqD5bSa_1",
        "outputId": "87786a1f-50cf-4e42-da20-dd41eae9331d",
        "colab": {
          "base_uri": "https://localhost:8080/"
        }
      },
      "execution_count": 90,
      "outputs": [
        {
          "output_type": "execute_result",
          "data": {
            "text/plain": [
              "movie\n",
              "Uri: The Surgical Strike                   Vicky Kaushal\n",
              "Battalion 609                                Vicky Ahuja\n",
              "The Accidental Prime Minister (film)         Anupam Kher\n",
              "Why Cheat India                            Emraan Hashmi\n",
              "Evening Shadows                         Mona Ambegaonkar\n",
              "                                              ...       \n",
              "Hum Tumhare Hain Sanam                    Shah Rukh Khan\n",
              "Aankhen (2002 film)                     Amitabh Bachchan\n",
              "Saathiya (film)                             Vivek Oberoi\n",
              "Company (film)                                Ajay Devgn\n",
              "Awara Paagal Deewana                        Akshay Kumar\n",
              "Name: lead, Length: 1500, dtype: object"
            ]
          },
          "metadata": {},
          "execution_count": 90
        }
      ]
    },
    {
      "cell_type": "markdown",
      "source": [
        "### Copy and Views"
      ],
      "metadata": {
        "id": "DR5SayWPSv1D"
      }
    },
    {
      "cell_type": "code",
      "source": [],
      "metadata": {
        "id": "pVND-BTBgVlN"
      },
      "execution_count": null,
      "outputs": []
    },
    {
      "cell_type": "markdown",
      "source": [
        "### Series with Python Functionalities"
      ],
      "metadata": {
        "id": "6OVEN5eFUWA-"
      }
    },
    {
      "cell_type": "code",
      "source": [
        "# len/type/dir/sorted/max/min\n",
        "print(len(subs))\n",
        "print(type(subs), dir(subs))\n",
        "print(sorted(subs))\n",
        "print(max(subs))\n",
        "print(min(subs))"
      ],
      "metadata": {
        "id": "zebKLTsNt12p",
        "outputId": "4355d445-1d15-4ae5-cf73-7f0706319e1b",
        "colab": {
          "base_uri": "https://localhost:8080/"
        }
      },
      "execution_count": 96,
      "outputs": [
        {
          "output_type": "stream",
          "name": "stdout",
          "text": [
            "365\n",
            "<class 'pandas.core.series.Series'> ['T', '_AXIS_LEN', '_AXIS_ORDERS', '_AXIS_REVERSED', '_AXIS_TO_AXIS_NUMBER', '_HANDLED_TYPES', '__abs__', '__add__', '__and__', '__annotations__', '__array__', '__array_priority__', '__array_ufunc__', '__array_wrap__', '__bool__', '__class__', '__contains__', '__copy__', '__deepcopy__', '__delattr__', '__delitem__', '__dict__', '__dir__', '__divmod__', '__doc__', '__eq__', '__finalize__', '__float__', '__floordiv__', '__format__', '__ge__', '__getattr__', '__getattribute__', '__getitem__', '__getstate__', '__gt__', '__hash__', '__iadd__', '__iand__', '__ifloordiv__', '__imod__', '__imul__', '__init__', '__init_subclass__', '__int__', '__invert__', '__ior__', '__ipow__', '__isub__', '__iter__', '__itruediv__', '__ixor__', '__le__', '__len__', '__long__', '__lt__', '__matmul__', '__mod__', '__module__', '__mul__', '__ne__', '__neg__', '__new__', '__nonzero__', '__or__', '__pos__', '__pow__', '__radd__', '__rand__', '__rdivmod__', '__reduce__', '__reduce_ex__', '__repr__', '__rfloordiv__', '__rmatmul__', '__rmod__', '__rmul__', '__ror__', '__round__', '__rpow__', '__rsub__', '__rtruediv__', '__rxor__', '__setattr__', '__setitem__', '__setstate__', '__sizeof__', '__str__', '__sub__', '__subclasshook__', '__truediv__', '__weakref__', '__xor__', '_accessors', '_accum_func', '_add_numeric_operations', '_agg_by_level', '_agg_examples_doc', '_agg_see_also_doc', '_align_frame', '_align_series', '_arith_method', '_as_manager', '_attrs', '_binop', '_can_hold_na', '_check_inplace_and_allows_duplicate_labels', '_check_inplace_setting', '_check_is_chained_assignment_possible', '_check_label_or_level_ambiguity', '_check_setitem_copy', '_clear_item_cache', '_clip_with_one_bound', '_clip_with_scalar', '_cmp_method', '_consolidate', '_consolidate_inplace', '_construct_axes_dict', '_construct_axes_from_arguments', '_construct_result', '_constructor', '_constructor_expanddim', '_convert', '_convert_dtypes', '_data', '_dir_additions', '_dir_deletions', '_drop_axis', '_drop_labels_or_levels', '_duplicated', '_find_valid_index', '_flags', '_from_mgr', '_get_axis', '_get_axis_name', '_get_axis_number', '_get_axis_resolvers', '_get_block_manager_axis', '_get_bool_data', '_get_cacher', '_get_cleaned_column_resolvers', '_get_index_resolvers', '_get_label_or_level_values', '_get_numeric_data', '_get_value', '_get_values', '_get_values_tuple', '_get_with', '_gotitem', '_hidden_attrs', '_index', '_indexed_same', '_info_axis', '_info_axis_name', '_info_axis_number', '_init_dict', '_init_mgr', '_inplace_method', '_internal_names', '_internal_names_set', '_is_cached', '_is_copy', '_is_label_or_level_reference', '_is_label_reference', '_is_level_reference', '_is_mixed_type', '_is_view', '_item_cache', '_ixs', '_logical_func', '_logical_method', '_map_values', '_maybe_update_cacher', '_memory_usage', '_metadata', '_mgr', '_min_count_stat_function', '_name', '_needs_reindex_multi', '_protect_consolidate', '_reduce', '_reindex_axes', '_reindex_indexer', '_reindex_multi', '_reindex_with_indexers', '_replace_single', '_repr_data_resource_', '_repr_latex_', '_reset_cache', '_reset_cacher', '_set_as_cached', '_set_axis', '_set_axis_name', '_set_axis_nocheck', '_set_is_copy', '_set_labels', '_set_name', '_set_value', '_set_values', '_set_with', '_set_with_engine', '_slice', '_stat_axis', '_stat_axis_name', '_stat_axis_number', '_stat_function', '_stat_function_ddof', '_take_with_is_copy', '_typ', '_update_inplace', '_validate_dtype', '_values', '_where', 'abs', 'add', 'add_prefix', 'add_suffix', 'agg', 'aggregate', 'align', 'all', 'any', 'append', 'apply', 'argmax', 'argmin', 'argsort', 'array', 'asfreq', 'asof', 'astype', 'at', 'at_time', 'attrs', 'autocorr', 'axes', 'backfill', 'between', 'between_time', 'bfill', 'bool', 'clip', 'combine', 'combine_first', 'compare', 'convert_dtypes', 'copy', 'corr', 'count', 'cov', 'cummax', 'cummin', 'cumprod', 'cumsum', 'describe', 'diff', 'div', 'divide', 'divmod', 'dot', 'drop', 'drop_duplicates', 'droplevel', 'dropna', 'dtype', 'dtypes', 'duplicated', 'empty', 'eq', 'equals', 'ewm', 'expanding', 'explode', 'factorize', 'ffill', 'fillna', 'filter', 'first', 'first_valid_index', 'flags', 'floordiv', 'ge', 'get', 'groupby', 'gt', 'hasnans', 'head', 'hist', 'iat', 'idxmax', 'idxmin', 'iloc', 'index', 'infer_objects', 'interpolate', 'is_monotonic', 'is_monotonic_decreasing', 'is_monotonic_increasing', 'is_unique', 'isin', 'isna', 'isnull', 'item', 'items', 'iteritems', 'keys', 'kurt', 'kurtosis', 'last', 'last_valid_index', 'le', 'loc', 'lt', 'mad', 'map', 'mask', 'max', 'mean', 'median', 'memory_usage', 'min', 'mod', 'mode', 'mul', 'multiply', 'name', 'nbytes', 'ndim', 'ne', 'nlargest', 'notna', 'notnull', 'nsmallest', 'nunique', 'pad', 'pct_change', 'pipe', 'plot', 'pop', 'pow', 'prod', 'product', 'quantile', 'radd', 'rank', 'ravel', 'rdiv', 'rdivmod', 'reindex', 'reindex_like', 'rename', 'rename_axis', 'reorder_levels', 'repeat', 'replace', 'resample', 'reset_index', 'rfloordiv', 'rmod', 'rmul', 'rolling', 'round', 'rpow', 'rsub', 'rtruediv', 'sample', 'searchsorted', 'sem', 'set_axis', 'set_flags', 'shape', 'shift', 'size', 'skew', 'slice_shift', 'sort_index', 'sort_values', 'squeeze', 'std', 'sub', 'subtract', 'sum', 'swapaxes', 'swaplevel', 'tail', 'take', 'to_clipboard', 'to_csv', 'to_dict', 'to_excel', 'to_frame', 'to_hdf', 'to_json', 'to_latex', 'to_list', 'to_markdown', 'to_numpy', 'to_period', 'to_pickle', 'to_sql', 'to_string', 'to_timestamp', 'to_xarray', 'transform', 'transpose', 'truediv', 'truncate', 'tz_convert', 'tz_localize', 'unique', 'unstack', 'update', 'value_counts', 'values', 'var', 'view', 'where', 'xs']\n",
            "[33, 33, 35, 37, 39, 40, 40, 40, 40, 42, 42, 43, 44, 44, 44, 45, 46, 46, 48, 49, 49, 49, 49, 50, 50, 50, 51, 54, 56, 56, 56, 56, 57, 61, 62, 64, 65, 65, 66, 66, 66, 66, 67, 68, 70, 70, 70, 71, 71, 72, 72, 72, 72, 72, 73, 74, 74, 75, 76, 76, 76, 76, 77, 77, 78, 78, 78, 79, 79, 80, 80, 80, 81, 81, 82, 82, 83, 83, 83, 84, 84, 84, 85, 86, 86, 86, 87, 87, 87, 87, 88, 88, 88, 88, 88, 89, 89, 89, 90, 90, 90, 90, 91, 92, 92, 92, 93, 93, 93, 93, 95, 95, 96, 96, 96, 96, 97, 97, 98, 98, 99, 99, 100, 100, 100, 101, 101, 101, 102, 102, 103, 103, 104, 104, 104, 105, 105, 105, 105, 105, 105, 105, 105, 105, 108, 108, 108, 108, 108, 108, 109, 109, 110, 110, 110, 111, 111, 112, 113, 113, 113, 114, 114, 114, 114, 115, 115, 115, 115, 117, 117, 117, 118, 118, 119, 119, 119, 119, 120, 122, 123, 123, 123, 123, 123, 124, 125, 126, 127, 128, 128, 129, 130, 131, 131, 132, 132, 134, 134, 134, 135, 135, 136, 136, 136, 137, 138, 138, 138, 139, 140, 144, 145, 146, 146, 146, 146, 147, 149, 150, 150, 150, 150, 151, 152, 152, 152, 153, 153, 153, 154, 154, 154, 155, 155, 156, 156, 156, 156, 157, 157, 157, 157, 158, 158, 159, 159, 160, 160, 160, 160, 162, 164, 166, 167, 167, 168, 170, 170, 170, 170, 171, 172, 172, 173, 173, 173, 174, 174, 175, 175, 176, 176, 177, 178, 179, 179, 180, 180, 180, 182, 183, 183, 183, 184, 184, 184, 185, 185, 185, 185, 186, 186, 186, 188, 189, 190, 190, 192, 192, 192, 196, 196, 196, 197, 197, 202, 202, 202, 203, 204, 206, 207, 209, 210, 210, 211, 212, 213, 214, 216, 219, 220, 221, 221, 222, 222, 224, 225, 225, 226, 227, 228, 229, 230, 231, 233, 236, 236, 237, 241, 243, 244, 245, 247, 249, 254, 254, 258, 259, 259, 261, 261, 265, 267, 268, 269, 276, 276, 290, 295, 301, 306, 312, 396]\n",
            "396\n",
            "33\n"
          ]
        }
      ]
    },
    {
      "cell_type": "code",
      "source": [
        "# type conversion\n",
        "list(mks_series)\n",
        "dict(mks_series)"
      ],
      "metadata": {
        "id": "ZJmwrkkgt2x4",
        "outputId": "668ec559-28a5-465f-cb1e-8bdecbda731f",
        "colab": {
          "base_uri": "https://localhost:8080/"
        }
      },
      "execution_count": 100,
      "outputs": [
        {
          "output_type": "execute_result",
          "data": {
            "text/plain": [
              "{'maths': 67, 'english': 100, 'science': 89, 'Hindi': 100, 'sst': 90}"
            ]
          },
          "metadata": {},
          "execution_count": 100
        }
      ]
    },
    {
      "cell_type": "code",
      "source": [
        "# membership operator\n",
        "'The Accidental Prime Minister (film)' in mv"
      ],
      "metadata": {
        "id": "ScG8OTsIt3yS",
        "outputId": "46d03a5f-a069-4718-90a0-81589548aef2",
        "colab": {
          "base_uri": "https://localhost:8080/"
        }
      },
      "execution_count": 102,
      "outputs": [
        {
          "output_type": "execute_result",
          "data": {
            "text/plain": [
              "True"
            ]
          },
          "metadata": {},
          "execution_count": 102
        }
      ]
    },
    {
      "cell_type": "code",
      "source": [
        "'Alia Bhatt' in mv.values"
      ],
      "metadata": {
        "id": "pn8tYu2OQQn5",
        "outputId": "6d3f64b0-5f2d-45bd-9599-233a403d1296",
        "colab": {
          "base_uri": "https://localhost:8080/"
        }
      },
      "execution_count": 105,
      "outputs": [
        {
          "output_type": "execute_result",
          "data": {
            "text/plain": [
              "True"
            ]
          },
          "metadata": {},
          "execution_count": 105
        }
      ]
    },
    {
      "cell_type": "code",
      "source": [
        "# looping\n",
        "\n",
        "for i in mv:\n",
        "  print(i)"
      ],
      "metadata": {
        "id": "IXnzfjhxt41A",
        "outputId": "c4d56278-5bc9-4ffe-df72-53cb426162f7",
        "colab": {
          "base_uri": "https://localhost:8080/"
        }
      },
      "execution_count": 106,
      "outputs": [
        {
          "output_type": "stream",
          "name": "stdout",
          "text": [
            "Vicky Kaushal\n",
            "Vicky Ahuja\n",
            "Anupam Kher\n",
            "Emraan Hashmi\n",
            "Mona Ambegaonkar\n",
            "Geetika Vidya Ohlyan\n",
            "Arshad Warsi\n",
            "Radhika Apte\n",
            "Kangana Ranaut\n",
            "Nawazuddin Siddiqui\n",
            "Ali Asgar\n",
            "Ranveer Singh\n",
            "Prit Kamani\n",
            "Ajay Devgn\n",
            "Sushant Singh Rajput\n",
            "Amitabh Bachchan\n",
            "Abhimanyu Dasani\n",
            "Talha Arshad Reshi\n",
            "Nawazuddin Siddiqui\n",
            "Garima Agarwal\n",
            "Rasika Agashe\n",
            "Barun Sobti\n",
            "Akshay Kumar\n",
            "Zaheer Iqbal\n",
            "Vidyut Jammwal\n",
            "Deepika Amin\n",
            "Manav Kaul\n",
            "Naseeruddin Shah\n",
            "Varun Dhawan\n",
            "Shreyas Talpade\n",
            "Tiger Shroff\n",
            "Boman Irani\n",
            "Ajay Devgn\n",
            "Arjun Kapoor\n",
            "Gavie Chahal\n",
            "Prabhu Deva\n",
            "Shahid Kapoor\n",
            "Ayushmann Khurrana\n",
            "Anupam Kher\n",
            "Karanvir Bohra\n",
            "Hrithik Roshan\n",
            "Jimmy Sheirgill\n",
            "John Abraham\n",
            "Rishi Kapoor\n",
            "Kangana Ranaut\n",
            "Natalia Janoszek\n",
            "Diljit Dosanjh\n",
            "Sidharth Malhotra\n",
            "Rajeev Khandelwal\n",
            "Zaira Wasim\n",
            "Akshay Kumar\n",
            "Jacqueline Fernandez\n",
            "Ayushmann Khurrana\n",
            "Akshaye Khanna\n",
            "Sonam Kapoor\n",
            "Karan Deol\n",
            "Sanjay Dutt\n",
            "Bhavesh Kumar\n",
            "Sanaya Irani\n",
            "Ayushmann Khurrana\n",
            "Siddhanth Kapoor\n",
            "Akshay Kumar\n",
            "Taapsee Pannu\n",
            "Rajkummar Rao\n",
            "Sunny Singh Nijjar\n",
            "Neil Nitin Mukesh\n",
            "Suraj Pancholi\n",
            "Boman Irani\n",
            "Riteish Deshmukh\n",
            "Nawazuddin Siddiqui\n",
            "Shahbaaz Khan\n",
            "Kriti Kharbanda\n",
            "Naseeruddin Shah\n",
            "Vardhan Puri\n",
            "Sushant Singh Rajput\n",
            "Kartik Aaryan\n",
            "Vidyut Jammwal\n",
            "Rani Mukerji\n",
            "Salman Khan\n",
            "Akshay Kumar\n",
            "Saif Ali Khan\n",
            "Kay Kay Menon\n",
            "Nora Fatehi\n",
            "Ashmit Patel\n",
            "Viineet Kumar\n",
            "Rahul Bhat\n",
            "Vicky Kaushal\n",
            "Sidharth Malhotra\n",
            "Deepika Padukone\n",
            "Geetanjali Thapa\n",
            "Akshay Anand\n",
            "Pulkit Samrat\n",
            "Kartik Aaryan\n",
            "Lee Byford\n",
            "Taapsee Pannu\n",
            "Aisha Ahmed\n",
            "Ajay Devgn\n",
            "Rani Mukerji\n",
            "Manoj Bajpayee\n",
            "Tiger Shroff\n",
            "Varun Dhawan\n",
            "Prabhu Deva\n",
            "Ishaan Khattar\n",
            "Abhay Deol\n",
            "Yogesh Raj Mishra\n",
            "Rajkummar Rao\n",
            "Alia Bhatt\n",
            "Naseeruddin Shah\n",
            "Sumeet Vyas\n",
            "Vinay Pathak\n",
            "John Abraham\n",
            "Danny Denzongpa\n",
            "Harshvardhan Kapoor\n",
            "Jimmy Sheirgill\n",
            "Anil Kapoor\n",
            "Ishaan Khattar\n",
            "Ranbir Kapoor\n",
            "Sanjay Dutt\n",
            "Dharmesh Yelande\n",
            "Taapsee Pannu\n",
            "Arjun Mathur\n",
            "Irrfan Khan\n",
            "Akshay Kumar\n",
            "John Abraham\n",
            "Sonakshi Sinha\n",
            "Utkarsh Sharma\n",
            "Dharmendra\n",
            "Rajkummar Rao\n",
            "Jackie Shroff\n",
            "Avinash Tiwary\n",
            "Manoj Bajpayee\n",
            "Paoli Dam\n",
            "Sanya Malhotra\n",
            "Shahid Kapoor\n",
            "Abhishek Bharate\n",
            "Nawazuddin Siddiqui\n",
            "Manish Anand\n",
            "Taapsee Pannu\n",
            "Jackky Bhagnani\n",
            "Anushka Sharma\n",
            "Radhika Apte\n",
            "Rhea Chakraborty\n",
            "Govinda\n",
            "Sohum Shah\n",
            "Kajol\n",
            "Arjun Kapoor\n",
            "Ayushmann Khurrana\n",
            "Ayushmann Khurrana\n",
            "Nargis Fakhri\n",
            "Aishwarya Devan\n",
            "Neil Nitin Mukesh\n",
            "Shakti Kapoor\n",
            "Amit Sadh\n",
            "Sunny Deol\n",
            "Rahul Bagga\n",
            "Sunny Deol\n",
            "Amyra Dastur\n",
            "Shah Rukh Khan\n",
            "Ranveer Singh\n",
            "Salman Khan\n",
            "Ajay Devgn\n",
            "Varun Dhawan\n",
            "Shraddha Kapoor\n",
            "Sunil Grover\n",
            "Hrithik Roshan\n",
            "Raj Arjun\n",
            "Aamir Khan\n",
            "Gurmeet Ram Rahim Singh\n",
            "Arsh Bajwa\n",
            "Rana Daggubati\n",
            "Naseeruddin Shah\n",
            "Kangana Ranaut\n",
            "Nana Patekar\n",
            "Arbaaz Khan\n",
            "Varun Dhawan\n",
            "Rajkummar Rao\n",
            "Govinda\n",
            "Rajat Kapoor\n",
            "Anushka Sharma\n",
            "Kiara Advani\n",
            "Shaurya Singh\n",
            "Pankaj Tripathi\n",
            "Taapsee Pannu\n",
            "Adil Hussain\n",
            "Amitabh Bachchan\n",
            "Sunny Leone\n",
            "Hema Malini\n",
            "Raveena Tandon\n",
            "Amitabh Bachchan\n",
            "Amardeep Insan\n",
            "Shraddha Kapoor\n",
            "Ayushmann Khurrana\n",
            "Sachin Tendulkar\n",
            "Irrfan Khan\n",
            "Himansh Kohli\n",
            "Adil Hussain\n",
            "Jayesh Raj\n",
            "Manisha Koirala\n",
            "Deepika Padukone\n",
            "Rajkummar Rao\n",
            "Salman Khan\n",
            "Riteish Deshmukh\n",
            "Shiv Darshan\n",
            "Ranbir Kapoor\n",
            "Ashish Bisht\n",
            "Aahana Kumra\n",
            "Manoj Babani\n",
            "Rajveer Ankur Singh\n",
            "Kirti Kulhari\n",
            "Shah Rukh Khan\n",
            "Tiger Shroff\n",
            "Akshay Kumar\n",
            "Anil Kapoor\n",
            "Kartik Aaryan\n",
            "Ayushmann Khurrana\n",
            "Nawazuddin Siddiqui\n",
            "Prisha Aneja\n",
            "Aadar Jain\n",
            "Ayushmann Khurrana\n",
            "Kunal Kapoor\n",
            "Arjun Rampal\n",
            "Kangana Ranaut\n",
            "Farhan Akhtar\n",
            "Sidharth Malhotra\n",
            "Hugh Bonneville\n",
            "Rishi Kapoor\n",
            "Rajkummar Rao\n",
            "Kunaal Roy Kapur\n",
            "Sunny Leone\n",
            "Shraddha Kapoor\n",
            "Rina Charaniya\n",
            "Nawazuddin Siddiqui\n",
            "Sunny Deol\n",
            "Sridevi\n",
            "Saif Ali Khan\n",
            "Soundarya Sharma\n",
            "Sudha Chandran\n",
            "Manoj Bajpayee\n",
            "Zaira Wasim\n",
            "Prakash Belawadi\n",
            "Kalki Koechlin\n",
            "Rajkummar Rao\n",
            "Richa Chadha\n",
            "Irrfan Khan\n",
            "Zareen Khan\n",
            "Nayna Bandhopadhyay\n",
            "Vidya Balan\n",
            "Nishikant Kamat\n",
            "Sanjay Mishra\n",
            "Kapil Sharma\n",
            "Pulkit Samrat\n",
            "Vijay Varma\n",
            "Sushama Deshpande\n",
            "Richa Chadha\n",
            "Prince Shah\n",
            "Tanima Bhattacharya\n",
            "Akshay Kumar\n",
            "Zeenat Aman\n",
            "Madhavan\n",
            "Tusshar Kapoor\n",
            "Tusshar Kapoor\n",
            "Himansh Kohli\n",
            "Sadhana Singh\n",
            "Sunny Deol\n",
            "Aditya Roy Kapoor\n",
            "Rishi Kapoor\n",
            "Rajniesh Duggall\n",
            "Krishna Chaturvedi\n",
            "Girish Taurani\n",
            "Sonam Kapoor\n",
            "Sukhesh Arora\n",
            "Raima Sen\n",
            "Anuj Sachdeva\n",
            "Parthaa Akerkar\n",
            "Priyanka Chopra\n",
            "Sidharth Malhotra\n",
            "John Abraham\n",
            "Patralekhaa Paul\n",
            "Shah Rukh Khan\n",
            "Swara Bhaskar\n",
            "Randeep Hooda\n",
            "Shraddha Kapoor\n",
            "Pankaj Tripathi\n",
            "Jimmy Sheirgill\n",
            "Kartik Elangovan\n",
            "Boman Irani\n",
            "Manoj Bajpayee\n",
            "Sharman Joshi\n",
            "Emraan Hashmi\n",
            "Aanchal Dwivedi\n",
            "Sanjay Singh\n",
            "Arvind Swamy\n",
            "Radhika Apte\n",
            "Randeep Hooda\n",
            "Sachiin Joshi\n",
            "Kajal Aggarwal\n",
            "Amitabh Bachchan\n",
            "Shahid Kapoor\n",
            "Hazel Croney\n",
            "V. Ravichandran\n",
            "Vipin Sharma\n",
            "Nawazuddin Siddiqui\n",
            "Pulkit Samrat\n",
            "Tannishtha Chatterjee\n",
            "Krrish Chhabria\n",
            "Avinash Dhyani\n",
            "Zeenat Aman\n",
            "Salman Khan\n",
            "Shashank Arora\n",
            "Urvashi Rautela\n",
            "Naseeruddin Shah\n",
            "Sara Loren\n",
            "Tom Alter\n",
            "Irrfan Khan\n",
            "John Abraham\n",
            "Rajeev Khandelwal\n",
            "Ileana D'Cruz\n",
            "Sahil Anand\n",
            "Hrithik Roshan\n",
            "Diana Penty\n",
            "Niharica Raizada\n",
            "Tiger Shroff\n",
            "Sidharth Malhotra\n",
            "Nawazuddin Siddiqui\n",
            "Emraan Hashmi\n",
            "Taapsee Pannu\n",
            "Tannishtha Chatterjee\n",
            "Riteish Deshmukh\n",
            "Yash Soni\n",
            "Shreyas Talpade\n",
            "Vinay Pathak\n",
            "Jimmy Sharma\n",
            "Sushant Singh Rajput\n",
            "Ashok Insan\n",
            "RJ Balaji\n",
            "Saurav Chakraborty\n",
            "Shashank Udapurkar\n",
            "Shubham\n",
            "Manoj Bajpayee\n",
            "Sunny Leone\n",
            "Aashish Bhatt\n",
            "Ajay Devgn\n",
            "Ronit Roy\n",
            "Ranbir Kapoor\n",
            "Neha Sharma\n",
            "Farhan Akhtar\n",
            "John Abraham\n",
            "Alia Bhatt\n",
            "Vaani Kapoor\n",
            "Neha Dhupia\n",
            "Jimmy Sheirgill\n",
            "Sonarika Bhadoria\n",
            "Amitabh Bachchan\n",
            "Sharman Joshi\n",
            "Aamir Khan\n",
            "Harshvardhan Kapoor\n",
            "Salman Khan\n",
            "Kangana Ranaut\n",
            "Kangana Ranaut\n",
            "Soha Ali Khan\n",
            "Prabhu Deva\n",
            "Shah Rukh Khan\n",
            "Salman Khan\n",
            "Ranveer Singh\n",
            "Anil Kapoor\n",
            "Akshay Kumar\n",
            "Akshay Kumar\n",
            "Akshay Kumar\n",
            "Akshay Kumar\n",
            "Shakti Kapoor\n",
            "Bipasha Basu\n",
            "Arjun Kapoor\n",
            "Zayed Khan\n",
            "Malaika Arora\n",
            "Naman Jain\n",
            "Gurmeet Choudhary\n",
            "Kay Kay Menon\n",
            "Rati Agnihotri\n",
            "Amitabh Bachchan\n",
            "Arjun Rampal\n",
            "Varun Dhawan\n",
            "Swanand Kirkire\n",
            "Sulabha Arya\n",
            "Irrfan Khan\n",
            "Nana Patekar\n",
            "Ayushmann Khurrana\n",
            "Anupam Kher\n",
            "Gurmeet Ram Rahim Singh\n",
            "Sidhant Gupta\n",
            "Arjun Mathur\n",
            "Ganesh Acharya\n",
            "Anushka Sharma\n",
            "Gulshan Devaiah\n",
            "Sushant Singh Rajput\n",
            "Adhyayan Suman\n",
            "Vira Sathidar\n",
            "Kalki Koechlin\n",
            "Sunny Leone\n",
            "Sara Loren\n",
            "Emraan Hashmi\n",
            "Auroshika Dey\n",
            "Ira Dubey\n",
            "Naseeruddin Shah\n",
            "Vinay Pathak\n",
            "Ram Kapoor\n",
            "Deepika Padukone\n",
            "Ranbir Kapoor\n",
            "Shakti Anand\n",
            "Anil Kapoor\n",
            "Arshad Warsi\n",
            "Meenakshi Dixit\n",
            "Yash Acharya\n",
            "Rajkummar Rao\n",
            "Rahul Bagga\n",
            "Mohit Baghel\n",
            "Rishi Verma\n",
            "Mimoh Chakraborty\n",
            "Swara Bhaskar\n",
            "Richa Chadha\n",
            "Arshad Warsi\n",
            "Mugdha Godse\n",
            "Yashpal Sharma\n",
            "Dharmendra\n",
            "Sunny Deol\n",
            "Smitha Gondkar\n",
            "Kunal Kapoor\n",
            "Ajay Devgn\n",
            "Jacqueline Fernandez\n",
            "Rishi Kapoor\n",
            "Akshay Kumar\n",
            "Vinay Pathak\n",
            "Nawazuddin Siddiqui\n",
            "Bhavita Anand\n",
            "Saif Ali Khan\n",
            "Suraj Pancholi\n",
            "Shamim Khan\n",
            "Irrfan Khan\n",
            "Suhaas Ahuja\n",
            "Jaideep Ahlawat\n",
            "Charanpreet Insan\n",
            "Akanksha Puri\n",
            "Kunal Khemu\n",
            "Aishwarya Rai Bachchan\n",
            "Seema Azmi\n",
            "Parveen Kaur\n",
            "Kapil Sharma\n",
            "Kartik Aaryan\n",
            "Diganth\n",
            "Shahid Kapoor\n",
            "Nawazuddin Siddiqui\n",
            "Kunal Khemu\n",
            "Mann Bagga\n",
            "Manish Paul\n",
            "Sanjeev Kumar\n",
            "Madhuri Dixit\n",
            "Shiv Darshan\n",
            "Gopi Desai\n",
            "Mohinder Gujral\n",
            "Zeenat Aman\n",
            "Ranveer Singh\n",
            "Salman Khan\n",
            "Sidharth Malhotra\n",
            "Adhyayan Suman\n",
            "Indrapal Ahuja\n",
            "Jimmy Sheirgill\n",
            "Abhay Deol\n",
            "Sahil Anand\n",
            "Alia Bhatt\n",
            "Sampat Pal Devi\n",
            "Farhan Akhtar\n",
            "Madhuri Dixit\n",
            "Kangana Ranaut\n",
            "Ayushmann Khurrana\n",
            "Ali Zafar\n",
            "Mahek Chahal\n",
            "Monali Thakur\n",
            "Sunny Leone\n",
            "Harman Baweja\n",
            "Sanjay Mishra\n",
            "Sharman Joshi\n",
            "Sachin Khedekar\n",
            "Leeza Mangaldas\n",
            "Pulkit Samrat\n",
            "Zara Sheikh\n",
            "Alia Bhatt\n",
            "Purab Kohli\n",
            "Amitabh Bachchan\n",
            "Varun Dhawan\n",
            "Arvinder Bhatti\n",
            "Kanika Batra\n",
            "Jackky Bhagnani\n",
            "Rajeev Khandelwal\n",
            "Tanuj Virwani\n",
            "Vijay Raaz\n",
            "Kannan Arunachalam\n",
            "Anjori Alagh\n",
            "Satish Kaushik\n",
            "Rahul Bagga\n",
            "Himesh Reshammiya\n",
            "Farooq Shaikh\n",
            "Makrand Deshpande\n",
            "Eesha Agarwal\n",
            "Siddharth Gupta\n",
            "Tiger Shroff\n",
            "Rajkummar Rao\n",
            "Sharib Hashmi\n",
            "Kangana Ranaut\n",
            "Kartik Aaryan\n",
            "Swara Bhaskar\n",
            "Simer Motiani\n",
            "Anshuman Jha\n",
            "Sidharth Malhotra\n",
            "Vidya Balan\n",
            "Saif Ali Khan\n",
            "Varun Dhawan\n",
            "Jay Bhanushali\n",
            "Armaan Jain\n",
            "Rajesh Khanna\n",
            "Vir Das\n",
            "Akshay Kumar\n",
            "Jimmy Sheirgill\n",
            "Reshmi Ghosh\n",
            "Akshay Oberoi\n",
            "Akshay Kumar\n",
            "Anupam Kher\n",
            "Rani Mukerji\n",
            "Emraan Hashmi\n",
            "Priyanka Chopra\n",
            "Bipasha Basu\n",
            "Deepika Padukone\n",
            "Sonam Kapoor\n",
            "Salil Acharya\n",
            "Salman Khan\n",
            "Saahil Prem\n",
            "Alieesa P Badresia\n",
            "Manoj Amarnani\n",
            "Sasha Aagha\n",
            "Tabu\n",
            "Hrithik Roshan\n",
            "Rati Agnihotri\n",
            "Aditya Roy Kapoor\n",
            "Asrani\n",
            "Harshvardhan Deo\n",
            "Nikhil Dwivedi\n",
            "Karanvir Bohra\n",
            "Puru Chibber\n",
            "Soha Ali Khan\n",
            "Rhea Chakraborty\n",
            "Shah Rukh Khan\n",
            "Rekha\n",
            "Anupam Kher\n",
            "Randeep Hooda\n",
            "Akshay Kumar\n",
            "Aadil Chahal\n",
            "Shabana Azmi\n",
            "Dimple Kapadia\n",
            "Nishant Dahiya\n",
            "Ranveer Singh\n",
            "Emraan Hashmi\n",
            "Saif Ali Khan\n",
            "Vinod Acharya\n",
            "Mannara Chopra\n",
            "Prabhas\n",
            "Mischa Barton\n",
            "Shiv Panditt\n",
            "Annu Kapoor\n",
            "Barun Sobti\n",
            "Rahul Bhat\n",
            "Aamir Khan\n",
            "Adhyayan Suman\n",
            "Imran Khan\n",
            "Naveen Kasturia\n",
            "Arjun Rampal\n",
            "Sarita Joshi\n",
            "Kartik Aaryan\n",
            "Juhi Chawla\n",
            "Saif Ali Khan\n",
            "Manisha Kelkar\n",
            "Farooq Shaikh\n",
            "Akshay Kumar\n",
            "Randeep Hooda\n",
            "Vivek Oberoi\n",
            "Rajkummar Rao\n",
            "Akash\n",
            "Vishwa Mohan Badola\n",
            "Neil Nitin Mukesh\n",
            "Saqib Saleem\n",
            "Arshad Warsi\n",
            "Jimmy Sheirgill\n",
            "Asha Bhosle\n",
            "Kamal Haasan\n",
            "Jackky Bhagnani\n",
            "Aditya Roy Kapoor\n",
            "Emraan Hashmi\n",
            "Ajay Devgn\n",
            "Ayushmann Khurrana\n",
            "Vivek Oberoi\n",
            "Vidyut Jammwal\n",
            "Rani Mukerji\n",
            "Saif Ali Khan\n",
            "Riya Vij\n",
            "Arjun Kapoor\n",
            "Preity Zinta\n",
            "Veena Malik\n",
            "Ranbir Kapoor\n",
            "Pulkit Samrat\n",
            "Rupa Bhimani\n",
            "Dhanush\n",
            "Kay Kay Menon\n",
            "Neil Nitin Mukesh\n",
            "Vidya Balan\n",
            "Anupam Kher\n",
            "Sanjay Dutt\n",
            "Farhan Akhtar\n",
            "Wamiqa Gabbi\n",
            "Shadab Kamal\n",
            "Sunil Shetty\n",
            "Prateik\n",
            "Tusshar Kapoor\n",
            "Tanuj Virwani\n",
            "Poonam Pandey\n",
            "Deepak Dobriyal\n",
            "Hemant Gopal\n",
            "Joy Mukherjee\n",
            "Rishi Kapoor\n",
            "Rajesh Tailang\n",
            "Akshay Kumar\n",
            "John Abraham\n",
            "Amitabh Bachchan\n",
            "Sushant Singh Rajput\n",
            "Shruti Haasan\n",
            "Deepika Padukone\n",
            "Vivek Oberoi\n",
            "Naseeruddin Shah\n",
            "Karan Kundrra\n",
            "Shahid Kapoor\n",
            "Aida Elkashef\n",
            "Irrfan Khan\n",
            "Anisa Butt\n",
            "Akshay Kumar\n",
            "Rajkummar Rao\n",
            "Manish Paul\n",
            "Puneet Singh Ratn\n",
            "Kangana Ranaut\n",
            "Sumit Nijhawan\n",
            "Tinnu Anand\n",
            "Chandan Roy Sanyal\n",
            "Elisha Kriis\n",
            "Ashmit Patel\n",
            "Imran Khan\n",
            "Manu Rishi Chadha\n",
            "Naseeruddin Shah\n",
            "Paresh Rawal\n",
            "Saif Ali Khan\n",
            "Aamir Khan\n",
            "Ali Zafar\n",
            "Ranveer Singh\n",
            "Sharman Joshi\n",
            "Naseeruddin Shah\n",
            "Shiney Ahuja\n",
            "Karan Sharma\n",
            "Sunny Deol\n",
            "Ranveer Singh\n",
            "Hrithik Roshan\n",
            "Kareena Kapoor\n",
            "Prateik\n",
            "Kiran Bhatia\n",
            "Bipasha Basu\n",
            "Riteish Deshmukh\n",
            "Jahangir Khan\n",
            "Irrfan Khan\n",
            "Vidya Balan\n",
            "Mithun Chakraborty\n",
            "Kareena Kapoor\n",
            "Manish Chaudhary\n",
            "Kavin Dave\n",
            "Shikhi Gupta\n",
            "Archana Joglekar\n",
            "Tusshar Kapoor\n",
            "Pulkit Samrat\n",
            "Ayushmann Khurrana\n",
            "Nikhil Dwivedi\n",
            "Anil Kapoor\n",
            "Karisma Kapoor\n",
            "Arjun Kapoor\n",
            "Sanjay Dutt\n",
            "Gul Panag\n",
            "Yudhveer Bakoliya\n",
            "Kay Kay Menon\n",
            "Emraan Hashmi\n",
            "Sharman Joshi\n",
            "Shahid Kapoor\n",
            "Anupam Kher\n",
            "Anya Anand\n",
            "Julia Datt\n",
            "Manoj Bajpayee\n",
            "Manoj Bajpayee\n",
            "Saif Ali Khan\n",
            "Naresh Sharma\n",
            "Riteish Deshmukh\n",
            "Sonu Sood\n",
            "Nassar Abdulla\n",
            "Salman Khan\n",
            "Vickrant Mahajan\n",
            "Freny Bhagat\n",
            "Akshay Kumar\n",
            "Omkar Das Manikpuri\n",
            "Sunil Shetty\n",
            "Manoj Bajpayee\n",
            "Bidita Bag\n",
            "Harish Chabbra\n",
            "Ranbir Kapoor\n",
            "Kareena Kapoor\n",
            "Sagar Bhangade\n",
            "Vivek Oberoi\n",
            "Ravi Kishan\n",
            "Paresh Rawal\n",
            "Rani Mukerji\n",
            "Manoj Bajpayee\n",
            "J.D. Chakravarthi\n",
            "Cary Elwes\n",
            "Arjun Rampal\n",
            "Alia Bhatt\n",
            "Jackky Bhagnani\n",
            "Emraan Hashmi\n",
            "Vicky Ahuja\n",
            "Sunidhi Chauhan\n",
            "Asrani\n",
            "Shah Rukh Khan\n",
            "Aamir Khan\n",
            "Himanshu Bhatt\n",
            "Ajay Devgn\n",
            "Ashok Banthia\n",
            "Salman Khan\n",
            "Vinod Khanna\n",
            "Akshay Kumar\n",
            "Amitabh Bachchan\n",
            "Sridevi\n",
            "Vivek Sudershan\n",
            "Nafisa Ali\n",
            "Mohsin\n",
            "Prateik\n",
            "Gul Panag\n",
            "Vatsal Sheth\n",
            "Ajay Devgn\n",
            "Russell Geoffrey Banks\n",
            "Vinay Pathak\n",
            "Rishi Kapoor\n",
            "Priyanka Chopra\n",
            "Madhavan\n",
            "Arshad Warsi\n",
            "Deepti Naval\n",
            "Akshay Kumar\n",
            "Sumit Arora\n",
            "Anay\n",
            "Om Puri\n",
            "Abhishek Bachchan\n",
            "Sendhil Ramamurthy\n",
            "Darsheel Safary\n",
            "Vinay Pathak\n",
            "Ishaan Manhaas\n",
            "Sanjay Mishra\n",
            "Ashutosh Rana\n",
            "Juhi Chawla\n",
            "Govinda\n",
            "Mimoh Chakraborty\n",
            "Tusshar Kapoor\n",
            "Kainaz Motivala\n",
            "Partho A. Gupte\n",
            "Nana Patekar\n",
            "Sara Arjun\n",
            "Kalki Koechlin\n",
            "Kartik Aaryan\n",
            "Vinay Pathak\n",
            "Lillete Dubey\n",
            "Sanjay Dutt\n",
            "Amitabh Bachchan\n",
            "Imran Khan\n",
            "Emraan Hashmi\n",
            "Aarav Khanna\n",
            "Hrithik Roshan\n",
            "Raghuvir Yadav\n",
            "Gulshan Grover\n",
            "Naushaad Abbas\n",
            "Shefali Shah\n",
            "Ajay Devgn\n",
            "Rahul Jaiswal\n",
            "Apoorva Arora\n",
            "Isha Koppikar\n",
            "Rajniesh Duggall\n",
            "Amitabh Bachchan\n",
            "Sanjay Dutt\n",
            "Anupam Kher\n",
            "Salman Khan\n",
            "Deepshika Nagpal\n",
            "Deepak Dobriyal\n",
            "Tusshar Kapoor\n",
            "Kiron Kher\n",
            "Imran Khan\n",
            "Shahid Kapoor\n",
            "Mikaal\n",
            "John Abraham\n",
            "Jimmy Sheirgill\n",
            "Vinay Pathak\n",
            "Vinay Virmani\n",
            "Dev Anand\n",
            "Zayed Khan\n",
            "Saqib Saleem\n",
            "Sachiin Joshi\n",
            "Shah Rukh Khan\n",
            "Ranbir Kapoor\n",
            "Chirag Paswan\n",
            "Dharmendra\n",
            "Himesh Reshammiya\n",
            "Ranveer Singh\n",
            "Akshay Kumar\n",
            "Abhishek Bachchan\n",
            "Rani Mukerji\n",
            "Ajay Devgn\n",
            "Vidya Balan\n",
            "Priyanka Chopra\n",
            "Shahid Kapoor\n",
            "Prateik\n",
            "Salman Khan\n",
            "Siddharth\n",
            "Amitabh Bachchan\n",
            "Vidya Balan\n",
            "Paresh Rawal\n",
            "Sunny Gill\n",
            "Shreyas Talpade\n",
            "Tabu\n",
            "Shah Rukh Khan\n",
            "Amitabh Bachchan\n",
            "Siddhartha Gupta\n",
            "Shah Rukh Khan\n",
            "Tanushree Dutta\n",
            "Paul Sidhu\n",
            "Sunny Deol\n",
            "Gurdas Maan\n",
            "Master Shams\n",
            "Om Puri\n",
            "Vikrum Kumar\n",
            "Aditya Narayan\n",
            "Arshad Warsi\n",
            "Boman Irani\n",
            "Nana Patekar\n",
            "Priyanka Chopra\n",
            "Arbaaz Khan\n",
            "Rekha\n",
            "Rahul Bose\n",
            "Nana Patekar\n",
            "Sudeep\n",
            "Farooq Shaikh\n",
            "Rohit Roy\n",
            "Sachin Khedekar\n",
            "Anuj Saxena\n",
            "Akshay Kumar\n",
            "Hazel Croney\n",
            "Sanjeev Bhaskar\n",
            "Vivek Oberoi\n",
            "Abhishek Bachchan\n",
            "Atul Kulkarni\n",
            "Rajpal Yadav\n",
            "Hrithik Roshan\n",
            "Nushrat Bharucha\n",
            "Kareena Kapoor\n",
            "Bhushan Agarwal\n",
            "Prashant Narayanan\n",
            "Sanjay Dutt\n",
            "Akshay Kumar\n",
            "Ali Zafar\n",
            "Rajat Barmecha\n",
            "Ajay Devgn\n",
            "Bobby Deol\n",
            "Omkar Das Manikpuri\n",
            "Neil Nitin Mukesh\n",
            "Gul Panag\n",
            "Raj Singh Chaudhary\n",
            "John Abraham\n",
            "Barkha Madan\n",
            "Salman Khan\n",
            "Supriya Pathak\n",
            "Sunil Shetty\n",
            "Rituparna Sengupta\n",
            "Ranvir Shorey\n",
            "Mallika Sherawat\n",
            "Emraan Hashmi\n",
            "Rishi Kapoor\n",
            "Ajay Devgn\n",
            "Manoj Bajpayee\n",
            "Sanjay Dutt\n",
            "John Abraham\n",
            "Hrithik Roshan\n",
            "Varun Bhagwat\n",
            "Deepika Padukone\n",
            "Sunny Deol\n",
            "Rajat Kapoor\n",
            "Akanksha\n",
            "Jimmy Sheirgill\n",
            "Sanjay Dutt\n",
            "Ranveer Singh\n",
            "Aditya Srivastava\n",
            "Arunoday Singh\n",
            "Akshay Kumar\n",
            "Akshay Oberoi\n",
            "Ajay Devgn\n",
            "Neil Nitin Mukesh\n",
            "Sahil Khan\n",
            "Imran Khan\n",
            "Sushmita Sen\n",
            "Priyanka Chopra\n",
            "Zeenat Aman\n",
            "Bipasha Basu\n",
            "Akshay Kumar\n",
            "Aamir Khan\n",
            "Farhan Akhtar\n",
            "Saif Ali Khan\n",
            "Salman Khan\n",
            "Waheeda Rehman\n",
            "Kangana Ranaut\n",
            "Hrishitaa Bhatt\n",
            "Ranbir Kapoor\n",
            "Asrani\n",
            "Irrfan Khan\n",
            "Kay Kay Menon\n",
            "Arshad Warsi\n",
            "Paresh Rawal\n",
            "Rati Agnihotri\n",
            "Harman Baweja\n",
            "Shahid Kapoor\n",
            "Fardeen Khan\n",
            "John Abraham\n",
            "Kay Kay Menon\n",
            "Aftab Shivdasani\n",
            "Naseeruddin Shah\n",
            "Inaamulhaq\n",
            "Neil Nitin Mukesh\n",
            "Kunal Khemu\n",
            "Bobby Deol\n",
            "Anita\n",
            "Parzaan Dastur\n",
            "Meghan Jadhav\n",
            "Shreyas Talpade\n",
            "John Abraham\n",
            "Kay Kay Menon\n",
            "Sanjay Dutt\n",
            "Mithun Chakraborty\n",
            "Govinda\n",
            "Sunil Shetty\n",
            "Jackie Shroff\n",
            "Anupam Kher\n",
            "Shreyas Talpade\n",
            "Rishi Kapoor\n",
            "Rajendra Prasad\n",
            "Arjun Rampal\n",
            "Mithun Chakraborty\n",
            "Mithun Chakraborty\n",
            "Bobby Deol\n",
            "Shahid Kapoor\n",
            "Harman Baweja\n",
            "Fardeen Khan\n",
            "Sanjay Dutt\n",
            "Ranbir Kapoor\n",
            "Salman Khan\n",
            "Akshay Kumar\n",
            "Atmaram Bhende\n",
            "Amitabh Bachchan\n",
            "Salman Khan\n",
            "Manoj Bajpayee\n",
            "Emraan Hashmi\n",
            "Lewis Tan\n",
            "Akshay Kumar\n",
            "Amitabh Bachchan\n",
            "Ranbir Kapoor\n",
            "Aamir Bashir\n",
            "Farooq Shaikh\n",
            "Mithun Chakraborty\n",
            "Abhishek Bachchan\n",
            "Saif Ali Khan\n",
            "Shah Rukh Khan\n",
            "Aamir Khan\n",
            "Akshay Kumar\n",
            "Ajay Devgn\n",
            "Hrithik Roshan\n",
            "Ranbir Kapoor\n",
            "Amitabh Bachchan\n",
            "Amitabh Bachchan\n",
            "Ajay Devgn\n",
            "Omkar Bhatkar\n",
            "Shreyas Talpade\n",
            "Manisha Koirala\n",
            "Ajay Devgn\n",
            "Tusshar Kapoor\n",
            "Juhi Chawla\n",
            "Ajay Devgn\n",
            "Kay Kay Menon\n",
            "Akshay Kumar\n",
            "Dino Morea\n",
            "Mimoh Chakraborty\n",
            "Emraan Hashmi\n",
            "Mithun Chakraborty\n",
            "Sikander Kher\n",
            "Paresh Rawal\n",
            "Ahraz Ahmed\n",
            "Aftab Shivdasani\n",
            "Amita Pathak\n",
            "Saahil Chadha\n",
            "Saif Ali Khan\n",
            "Kay Kay Menon\n",
            "Shahid Kapoor\n",
            "Harman Baweja\n",
            "Adhvik Mahajan\n",
            "Vivek Oberoi\n",
            "Govinda\n",
            "Amitabh Bachchan\n",
            "Paresh Rawal\n",
            "Mallika Sherawat\n",
            "Arjun Rampal\n",
            "Tusshar Kapoor\n",
            "Bobby Deol\n",
            "Sammir Dattani\n",
            "Victor Banerjee\n",
            "Rajniesh Duggall\n",
            "Amitabh Bachchan\n",
            "Shreyas Talpade\n",
            "Kiron Kher\n",
            "Jackie Shroff\n",
            "Jayshree Arora\n",
            "Sharman Joshi\n",
            "Himesh Reshammiya\n",
            "Sohail Khan\n",
            "Saif Ali Khan\n",
            "Isha Koppikar\n",
            "Kamal Rashid Khan\n",
            "Priyanka Chopra\n",
            "Vinay Pathak\n",
            "Salman Khan\n",
            "Abhay Deol\n",
            "Vinay Pathak\n",
            "Shabana Azmi\n",
            "Manoj Bajpayee\n",
            "Anupam Kher\n",
            "Rajesh Khanna\n",
            "Dino Morea\n",
            "Irrfan Khan\n",
            "Amitabh Bachchan\n",
            "Himesh Reshammiya\n",
            "Tusshar Kapoor\n",
            "Nauheed Cyrusi\n",
            "Madhuri Dixit\n",
            "Dharmendra\n",
            "Emraan Hashmi\n",
            "Vinay Pathak\n",
            "Akshay Kumar\n",
            "Dino Morea\n",
            "Sunny Deol\n",
            "Mouli Ganguly\n",
            "Krishna Abhishek\n",
            "Irrfan Khan\n",
            "Kay Kay Menon\n",
            "Pankaj Kapur\n",
            "Jazzy Doe\n",
            "Mona Ambegaonkar\n",
            "Ajay Devgn\n",
            "Amitabh Bachchan\n",
            "Jimmy Sheirgill\n",
            "Fardeen Khan\n",
            "Shah Rukh Khan\n",
            "Sanjay Dutt\n",
            "John Abraham\n",
            "Pankaj Kapur\n",
            "Sunil Pal\n",
            "Muzamil Ibrahim\n",
            "Imaaduddin Shah\n",
            "Sharman Joshi\n",
            "Abhay Deol\n",
            "Arjun Rampal\n",
            "Akshaye Khanna\n",
            "Rishi Kapoor\n",
            "Arbaaz Khan\n",
            "Amitabh Bachchan\n",
            "Gautam Gupta\n",
            "Mohan Azaad\n",
            "Juanna Sanghvi\n",
            "Mithun Chakraborty\n",
            "Ranvir Shorey\n",
            "Govinda\n",
            "Abhishek Bachchan\n",
            "Shahid Kapoor\n",
            "Tusshar Kapoor\n",
            "Shahid Kapoor\n",
            "Shiney Ahuja\n",
            "Dharmendra\n",
            "Fardeen Khan\n",
            "Tusshar Kapoor\n",
            "Rekha\n",
            "Jimmy Sheirgill\n",
            "Rani Mukerji\n",
            "Dharmendra\n",
            "Shabana Azmi\n",
            "Abhay Deol\n",
            "Salman Khan\n",
            "Menekka Arora\n",
            "Nana Patekar\n",
            "Bobby Deol\n",
            "Linda Arsenio\n",
            "Kal Penn\n",
            "Akshay Kumar\n",
            "Jason Lewis\n",
            "Sanjay Dutt\n",
            "Amitabh Bachchan\n",
            "John Abraham\n",
            "Shah Rukh Khan\n",
            "Salman Khan\n",
            "Rahul Khanna\n",
            "Dwij Yadav\n",
            "Aftab Shivdasani\n",
            "Vinod Khanna\n",
            "Bobby Deol\n",
            "Sherlyn Chopra\n",
            "Salman Khan\n",
            "Rani Mukerji\n",
            "Mahima Chaudhry\n",
            "Mandar Jadhav\n",
            "Aftab Shivdasani\n",
            "Amitabh Bachchan\n",
            "Jimmy Sheirgill\n",
            "Manoj Bajpayee\n",
            "Darsheel Safary\n",
            "Saif Ali Khan\n",
            "Urmila Matondkar\n",
            "Kunal Khemu\n",
            "Emraan Hashmi\n",
            "Tushar Jalota\n",
            "Jaya Bachchan\n",
            "Akshay Kumar\n",
            "Akshaye Khanna\n",
            "Jeetendra\n",
            "Akshaye Khanna\n",
            "Abhay Deol\n",
            "Emraan Hashmi\n",
            "Akshay Kapoor\n",
            "Sanjay Dutt\n",
            "Bobby Darling\n",
            "Aftab Shivdasani\n",
            "Rekha\n",
            "Amitabh Bachchan\n",
            "Rati Agnihotri\n",
            "Rahul Dev\n",
            "Naseeruddin Shah\n",
            "Urmila Matondkar\n",
            "Juhi Chawla\n",
            "Akshay Kumar\n",
            "Sushmita Sen\n",
            "Jackie Shroff\n",
            "Somesh Agarwal\n",
            "Sohail Khan\n",
            "Kareena Kapoor\n",
            "Bipasha Basu\n",
            "Amitabh Bachchan\n",
            "Rajit Kapoor\n",
            "Emraan Hashmi\n",
            "Ishrat Ali\n",
            "Raj Tara\n",
            "Hrithik Roshan\n",
            "Ayesha Takia\n",
            "Shah Rukh Khan\n",
            "Amitabh Bachchan\n",
            "Aamir Khan\n",
            "Kangana Ranaut\n",
            "Ajay Devgn\n",
            "Ram Kapoor\n",
            "Sunil Shetty\n",
            "Ajay Devgn\n",
            "Akshay Kumar\n",
            "Arjun Rampal\n",
            "Arjun Rampal\n",
            "Aftab Shivdasani\n",
            "Salman Khan\n",
            "Emraan Hashmi\n",
            "Onjolee Nair\n",
            "Amarjeet\n",
            "Anupam Kher\n",
            "Amitabh Bachchan\n",
            "Rishi Kapoor\n",
            "Sanjay Dutt\n",
            "John Abraham\n",
            "Nassar Abdulla\n",
            "Rekha\n",
            "Paresh Rawal\n",
            "Ajay Devgn\n",
            "Rahul Bose\n",
            "Sunny Deol\n",
            "Akshay Kumar\n",
            "Fardeen Khan\n",
            "Akshay Kumar\n",
            "Jeetendra\n",
            "Sarika\n",
            "Aamir Khan\n",
            "Salman Khan\n",
            "Govinda\n",
            "Akshaye Khanna\n",
            "Salman Khan\n",
            "Mohit Ahlawat\n",
            "Mahima Chaudhry\n",
            "Ajay Devgn\n",
            "Mohammad Amir Naji\n",
            "Sanjay Dutt\n",
            "Irrfan Khan\n",
            "Aishwarya Rai Bachchan\n",
            "Nana Patekar\n",
            "Sunny Deol\n",
            "Shahid Kapoor\n",
            "Priyanshu Chatterjee\n",
            "Gurdas Maan\n",
            "Kangana Ranaut\n",
            "Paresh Rawal\n",
            "Jimmy Sheirgill\n",
            "Sushmita Sen\n",
            "Rakesh Bedi\n",
            "Emraan Hashmi\n",
            "Manisha Koirala\n",
            "Ajay Devgn\n",
            "Rekha\n",
            "Juhi Chawla\n",
            "Bobby Deol\n",
            "Anil Kapoor\n",
            "Amitabh Bachchan\n",
            "Sanjay Dutt\n",
            "Abhishek Bachchan\n",
            "Shawar Ali\n",
            "Ali Asgar\n",
            "Tabu\n",
            "Ajay Devgn\n",
            "Abhishek Bachchan\n",
            "Aryan Vaid\n",
            "Jatin Grewal\n",
            "Samir Aftab\n",
            "Anil Kapoor\n",
            "Randeep Hooda\n",
            "Akshay Kumar\n",
            "Saayli Buva\n",
            "Bipasha Basu\n",
            "Amitabh Bachchan\n",
            "Akshay Kumar\n",
            "Mithun Chakraborty\n",
            "Sanjay Dutt\n",
            "Arjun Rampal\n",
            "Shilpa Shetty Kundra\n",
            "Amitabh Bachchan\n",
            "Siddharth Koirala\n",
            "Fardeen Khan\n",
            "Ayesha Jhulka\n",
            "Aseel Adel\n",
            "Vivek Oberoi\n",
            "Akshay Kumar\n",
            "Shreyas Talpade\n",
            "Chiranjeevi\n",
            "Kay Kay Menon\n",
            "Akshay Kumar\n",
            "Sunny Deol\n",
            "John Abraham\n",
            "Ajay Devgn\n",
            "Kunal Khemu\n",
            "Lucky Ali\n",
            "Mukesh Khanna\n",
            "Mohit Ahlawat\n",
            "Vivek Oberoi\n",
            "Aftab Shivdasani\n",
            "Shilpa Shetty Kundra\n",
            "Kamal Adib\n",
            "Arshad Warsi\n",
            "Tusshar Kapoor\n",
            "Salman Khan\n",
            "Ajay Devgn\n",
            "Salman Khan\n",
            "Rajpal Yadav\n",
            "Anupam Kher\n",
            "Salman Khan\n",
            "Aamir Khan\n",
            "Dia Mirza\n",
            "Dev Anand\n",
            "Sanjay Suri\n",
            "Anil Kapoor\n",
            "Urmila Matondkar\n",
            "Uday Chopra\n",
            "Anil Kapoor\n",
            "Sunil Shetty\n",
            "Konkona Sen Sharma\n",
            "Shabana Azmi\n",
            "Saif Ali Khan\n",
            "Vinod Khanna\n",
            "Shah Rukh Khan\n",
            "Irrfan Khan\n",
            "Rishi Kapoor\n",
            "Saif Ali Khan\n",
            "Kashmira Shah\n",
            "Amitabh Bachchan\n",
            "Arshad Warsi\n",
            "Sanjay Dutt\n",
            "Ashutosh Rana\n",
            "Neha Dhupia\n",
            "Madhavan\n",
            "Tabu\n",
            "Abhay Deol\n",
            "Zulfi Sayed\n",
            "Ajay Devgn\n",
            "Nassar Abdulla\n",
            "Arjun Rampal\n",
            "Shahid Kapoor\n",
            "Aarti Chhabria\n",
            "Fardeen Khan\n",
            "Amitabh Bachchan\n",
            "Amitabh Bachchan\n",
            "Vikram Aditya\n",
            "Arjun Rampal\n",
            "Emraan Hashmi\n",
            "Shah Rukh Khan\n",
            "Shah Rukh Khan\n",
            "Ajay Devgn\n",
            "Salman Khan\n",
            "Abhishek Bachchan\n",
            "Amitabh Bachchan\n",
            "Saif Ali Khan\n",
            "Akshaye Khanna\n",
            "Mallika Sherawat\n",
            "Ajay Devgn\n",
            "Akshay Kumar\n",
            "Amitabh Bachchan\n",
            "Amitabh Bachchan\n",
            "Shatrughan Sinha\n",
            "Bobby Deol\n",
            "Kareena Kapoor\n",
            "Jimmy Sheirgill\n",
            "Arjun Rampal\n",
            "Jimmy Sheirgill\n",
            "Amitabh Bachchan\n",
            "Amitabh Bachchan\n",
            "Shahid Kapoor\n",
            "Salman Khan\n",
            "Jackie Shroff\n",
            "Naveen Bawa\n",
            "Vikaas Kalantari\n",
            "Tusshar Kapoor\n",
            "Kareena Kapoor\n",
            "Salman Khan\n",
            "Sunil Shetty\n",
            "Saif Ali Khan\n",
            "Isha Koppikar\n",
            "Akshay Kumar\n",
            "Aniket Vishwasrao\n",
            "Shawar Ali\n",
            "Tisca Chopra\n",
            "Neha Dhupia\n",
            "Raqesh Bapat\n",
            "Manoj Bajpayee\n",
            "Mallika Sherawat\n",
            "Dino Morea\n",
            "Sohail Khan\n",
            "Kiron Kher\n",
            "Bobby Deol\n",
            "Sunny Deol\n",
            "Sohail Khan\n",
            "Amitabh Bachchan\n",
            "Bipasha Basu\n",
            "Hrithik Roshan\n",
            "Dino Morea\n",
            "Irrfan Khan\n",
            "Aftab Shivdasani\n",
            "Tabu\n",
            "Anil Kapoor\n",
            "Prithviraj Kapoor\n",
            "Aftab Shivdasani\n",
            "Akshay Kumar\n",
            "Antara Mali\n",
            "Vinay Anand\n",
            "John Abraham\n",
            "Salman Khan\n",
            "Sanjay Dutt\n",
            "Akshay Kumar\n",
            "Manisha Koirala\n",
            "Akshay Kapoor\n",
            "Sanjay Dutt\n",
            "Ajay Devgn\n",
            "Sanjay Dutt\n",
            "Sanjay Suri\n",
            "Abhishek Bachchan\n",
            "Sunny Deol\n",
            "Aftab Shivdasani\n",
            "Shah Rukh Khan\n",
            "Vatsal Sheth\n",
            "Madhavan\n",
            "Tusshar Kapoor\n",
            "Emraan Hashmi\n",
            "Vicky Ahuja\n",
            "Shah Rukh Khan\n",
            "Tarun Arora\n",
            "Diwakar Pathak\n",
            "Arya Babbar\n",
            "Rekha\n",
            "Shah Rukh Khan\n",
            "Anupam Kher\n",
            "Shah Rukh Khan\n",
            "Sunny Deol\n",
            "Amitabh Bachchan\n",
            "Hrithik Roshan\n",
            "Sanjay Dutt\n",
            "Sanjay Dutt\n",
            "Sanjay Dutt\n",
            "Ajay Devgn\n",
            "Atul Kulkarni\n",
            "Naseeruddin Shah\n",
            "Arun Bakshi\n",
            "Priyanshu Chatterjee\n",
            "Ajay Devgn\n",
            "Amitabh Bachchan\n",
            "Sudesh Berry\n",
            "Akshay Kumar\n",
            "Akshay Kumar\n",
            "Amitabh Bachchan\n",
            "Ajay Devgn\n",
            "Anil Kapoor\n",
            "Jackie Shroff\n",
            "Sadashiv Amrapurkar\n",
            "Sooraj Balaji\n",
            "Arjun Rampal\n",
            "Sameera Reddy\n",
            "Om Puri\n",
            "Amar Upadhyaya\n",
            "Zayed Khan\n",
            "Nawazuddin Siddiqui\n",
            "Vivek Oberoi\n",
            "Kapil Jhaveri\n",
            "Nandita Das\n",
            "Aftab Shivdasani\n",
            "Manisha Koirala\n",
            "Rahul Bose\n",
            "Ajay Devgn\n",
            "Tabu\n",
            "Jimmy Sheirgill\n",
            "Sanjay Dutt\n",
            "Akshaye Khanna\n",
            "Vikram Dasu\n",
            "Reef Karim\n",
            "Jaz Pandher\n",
            "Rushali Arora\n",
            "Ashmit Patel\n",
            "Sunny Deol\n",
            "Shahid Kapoor\n",
            "Babbu Mann\n",
            "Javed Jaffrey\n",
            "Bipasha Basu\n",
            "Sanjay Suri\n",
            "Om Puri\n",
            "Juhi Babbar\n",
            "Sunny Deol\n",
            "Feroz Khan\n",
            "Amit Hingorani\n",
            "Fardeen Khan\n",
            "Himanshu Malik\n",
            "Tusshar Kapoor\n",
            "Aishwarya Rai Bachchan\n",
            "Antara Mali\n",
            "Victor Banerjee\n",
            "Manisha Koirala\n",
            "Attin Bhalla\n",
            "Riteish Deshmukh\n",
            "Rahul Bose\n",
            "Tulip Joshi\n",
            "Ajay Devgn\n",
            "Urmila Matondkar\n",
            "Abhishek Bachchan\n",
            "John Abraham\n",
            "Sushmita Sen\n",
            "Vikas Kalantri\n",
            "Raveena Tandon\n",
            "Tanishaa Mukerji\n",
            "Raveena Tandon\n",
            "Vijay Raaz\n",
            "Raveena Tandon\n",
            "Tanuja\n",
            "Ankit\n",
            "Sadashiv Amrapurkar\n",
            "Salman Khan\n",
            "Riteish Deshmukh\n",
            "Rakhee Gulzar\n",
            "Shabana Azmi\n",
            "Edwin Fernandes\n",
            "Tusshar Kapoor\n",
            "Sharman Joshi\n",
            "Dino Morea\n",
            "Ajay Devgn\n",
            "Arshad Warsi\n",
            "Shah Rukh Khan\n",
            "Amitabh Bachchan\n",
            "Shah Rukh Khan\n",
            "Amitabh Bachchan\n",
            "Vivek Oberoi\n",
            "Ajay Devgn\n",
            "Akshay Kumar\n"
          ]
        }
      ]
    },
    {
      "cell_type": "code",
      "source": [
        "# Arithmetic Operators\n",
        "100 - mks_series\n",
        "#example for broadcast"
      ],
      "metadata": {
        "id": "XPYoq68WuBZ_",
        "outputId": "c518b30e-e001-4ca5-eb80-57e117e6281b",
        "colab": {
          "base_uri": "https://localhost:8080/"
        }
      },
      "execution_count": 108,
      "outputs": [
        {
          "output_type": "execute_result",
          "data": {
            "text/plain": [
              "maths      33\n",
              "english     0\n",
              "science    11\n",
              "Hindi       0\n",
              "sst        10\n",
              "Name: Nitish's marks, dtype: int64"
            ]
          },
          "metadata": {},
          "execution_count": 108
        }
      ]
    },
    {
      "cell_type": "code",
      "source": [
        "# Relational Operators\n",
        "vk[vk >= 50]"
      ],
      "metadata": {
        "id": "L3uIP0BJuEKf",
        "outputId": "d980ea0f-26ce-4874-a9b8-e4f9a1cfb4fe",
        "colab": {
          "base_uri": "https://localhost:8080/"
        }
      },
      "execution_count": 109,
      "outputs": [
        {
          "output_type": "execute_result",
          "data": {
            "text/plain": [
              "match_no\n",
              "15      50\n",
              "34      58\n",
              "41      71\n",
              "44      56\n",
              "45      67\n",
              "52      70\n",
              "57      57\n",
              "68      73\n",
              "71      51\n",
              "73      58\n",
              "74      65\n",
              "80      57\n",
              "81      93\n",
              "82      99\n",
              "85      56\n",
              "97      67\n",
              "99      73\n",
              "103     51\n",
              "104     62\n",
              "110     82\n",
              "116     75\n",
              "117     79\n",
              "119     80\n",
              "120    100\n",
              "122     52\n",
              "123    108\n",
              "126    109\n",
              "127     75\n",
              "128    113\n",
              "129     54\n",
              "131     54\n",
              "132     62\n",
              "134     64\n",
              "137     55\n",
              "141     58\n",
              "144     57\n",
              "145     92\n",
              "148     68\n",
              "152     70\n",
              "160     84\n",
              "162     67\n",
              "164    100\n",
              "175     72\n",
              "178     90\n",
              "182     50\n",
              "188     72\n",
              "197     51\n",
              "198     53\n",
              "209     58\n",
              "213     73\n",
              "Name: runs, dtype: int64"
            ]
          },
          "metadata": {},
          "execution_count": 109
        }
      ]
    },
    {
      "cell_type": "markdown",
      "source": [
        "### Boolean Indexing on Series"
      ],
      "metadata": {
        "id": "nrtnwvD0O515"
      }
    },
    {
      "cell_type": "code",
      "source": [
        "# Find no of 50's and 100's scored by kohli\n",
        "vk[vk >= 50].size\n"
      ],
      "metadata": {
        "id": "XcyU25jLO9ft",
        "outputId": "04626900-1c42-4ee4-cb05-4ffd8f6e73cc",
        "colab": {
          "base_uri": "https://localhost:8080/"
        }
      },
      "execution_count": 110,
      "outputs": [
        {
          "output_type": "execute_result",
          "data": {
            "text/plain": [
              "50"
            ]
          },
          "metadata": {},
          "execution_count": 110
        }
      ]
    },
    {
      "cell_type": "code",
      "source": [
        "# find number of ducks\n",
        "vk[vk == 0].size"
      ],
      "metadata": {
        "id": "37QxNConO904",
        "outputId": "c624557d-b763-45f6-ccf4-d75f0218497a",
        "colab": {
          "base_uri": "https://localhost:8080/"
        }
      },
      "execution_count": 111,
      "outputs": [
        {
          "output_type": "execute_result",
          "data": {
            "text/plain": [
              "9"
            ]
          },
          "metadata": {},
          "execution_count": 111
        }
      ]
    },
    {
      "cell_type": "code",
      "source": [
        "# Count number of day when I had more than 200 subs a day\n",
        "subs[subs > 200].size"
      ],
      "metadata": {
        "id": "p-Hft0kSvBn2",
        "outputId": "9a7ca7e9-2a8f-400b-d10f-a8e0389d7c32",
        "colab": {
          "base_uri": "https://localhost:8080/"
        }
      },
      "execution_count": 112,
      "outputs": [
        {
          "output_type": "execute_result",
          "data": {
            "text/plain": [
              "59"
            ]
          },
          "metadata": {},
          "execution_count": 112
        }
      ]
    },
    {
      "cell_type": "code",
      "source": [
        "# find actors who have done more than 20 movies\n",
        "num_mv = mv.value_counts()\n",
        "num_mv[num_mv > 20]"
      ],
      "metadata": {
        "id": "fZM3OCApvsZe",
        "outputId": "fff5d348-cccc-4f07-f5ca-5e0acc257574",
        "colab": {
          "base_uri": "https://localhost:8080/"
        }
      },
      "execution_count": 114,
      "outputs": [
        {
          "output_type": "execute_result",
          "data": {
            "text/plain": [
              "Akshay Kumar        48\n",
              "Amitabh Bachchan    45\n",
              "Ajay Devgn          38\n",
              "Salman Khan         31\n",
              "Sanjay Dutt         26\n",
              "Shah Rukh Khan      22\n",
              "Emraan Hashmi       21\n",
              "Name: lead, dtype: int64"
            ]
          },
          "metadata": {},
          "execution_count": 114
        }
      ]
    },
    {
      "cell_type": "markdown",
      "source": [
        "### Plotting Graphs on Series"
      ],
      "metadata": {
        "id": "PQjv9hm-42Jr"
      }
    },
    {
      "cell_type": "code",
      "source": [
        "subs.plot()"
      ],
      "metadata": {
        "id": "WVEQvPTw40KE",
        "outputId": "c62f4c88-e1c6-4aa3-9b3f-9480a1d9e32a",
        "colab": {
          "base_uri": "https://localhost:8080/",
          "height": 283
        }
      },
      "execution_count": 115,
      "outputs": [
        {
          "output_type": "execute_result",
          "data": {
            "text/plain": [
              "<matplotlib.axes._subplots.AxesSubplot at 0x7f8aa423b070>"
            ]
          },
          "metadata": {},
          "execution_count": 115
        },
        {
          "output_type": "display_data",
          "data": {
            "text/plain": [
              "<Figure size 432x288 with 1 Axes>"
            ],
            "image/png": "[encoded data removed]"
          },
          "metadata": {
            "needs_background": "light"
          }
        }
      ]
    },
    {
      "cell_type": "code",
      "source": [
        "mv.value_counts().head(20).plot(kind='bar')"
      ],
      "metadata": {
        "id": "qnULkW8qTqLa",
        "outputId": "8f7ccfbe-c395-4536-ea3e-1ee6e3cd3434",
        "colab": {
          "base_uri": "https://localhost:8080/",
          "height": 370
        }
      },
      "execution_count": 117,
      "outputs": [
        {
          "output_type": "execute_result",
          "data": {
            "text/plain": [
              "<matplotlib.axes._subplots.AxesSubplot at 0x7f8aa3edbc10>"
            ]
          },
          "metadata": {},
          "execution_count": 117
        },
        {
          "output_type": "display_data",
          "data": {
            "text/plain": [
              "<Figure size 432x288 with 1 Axes>"
            ],
            "image/png": "[encoded data removed]"
          },
          "metadata": {
            "needs_background": "light"
          }
        }
      ]
    },
    {
      "cell_type": "code",
      "source": [
        "# agg\n",
        "# astype\n",
        "# between\n",
        "# clip\n",
        "# drop_duplicates\n",
        "# dropna\n",
        "# fillna\n",
        "# filter\n",
        "# iloc\n",
        "# isnull\n",
        "# map\n",
        "# filter"
      ],
      "metadata": {
        "id": "HRw5A2lhKn97"
      },
      "execution_count": null,
      "outputs": []
    },
    {
      "cell_type": "code",
      "source": [],
      "metadata": {
        "id": "7ziyhORZ0Oy1"
      },
      "execution_count": null,
      "outputs": []
    }
  ]
}