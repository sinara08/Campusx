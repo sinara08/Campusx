{
 "cells": [
  {
   "cell_type": "markdown",
   "metadata": {
    "id": "A05OG15VqOPF"
   },
   "source": [
    "# Task : Session 1\n",
    "Solve these questions own your own and try to test yourself what you have learned in the session.\n",
    "\n",
    "Happy Learning!"
   ]
  },
  {
   "cell_type": "markdown",
   "metadata": {
    "id": "2doIXf8bqe9_"
   },
   "source": [
    "### Q1 :- Print the given strings as per stated format.\n",
    "\n",
    "**Given strings**: \n",
    "```\n",
    "\"Data\" \"Science\" \"Mentorship\" \"Program\" \n",
    "\"By\" \"CampusX\"\n",
    "```\n",
    "**Output**: \n",
    "``` \n",
    "Data-Science-Mentorship-Program-started-By-CampusX\n",
    "```\n",
    "\n",
    "Concept- [Seperator and End]"
   ]
  },
  {
   "cell_type": "code",
   "execution_count": 1,
   "metadata": {
    "colab": {
     "base_uri": "https://localhost:8080/"
    },
    "executionInfo": {
     "elapsed": 6,
     "status": "ok",
     "timestamp": 1667900367485,
     "user": {
      "displayName": "Sinara Sreedharan",
      "userId": "05927700075051493450"
     },
     "user_tz": 300
    },
    "id": "-em6d3KErDtp",
    "outputId": "5f9ff861-a2ff-4491-9b71-e3431737d83c"
   },
   "outputs": [
    {
     "name": "stdout",
     "output_type": "stream",
     "text": [
      "Data-Science-Mentorship-Program-started-By-CampusX\n"
     ]
    }
   ],
   "source": [
    "print(\"Data\",\"Science\" ,\"Mentorship\" ,\"Program\",\"started\", sep='-',end='-' )\n",
    "print(\"By\", \"CampusX\",sep='-')"
   ]
  },
  {
   "cell_type": "markdown",
   "metadata": {
    "id": "1KUpN7ZTrC3_"
   },
   "source": [
    "### Q2:- Write a program that will convert celsius value to fahrenheit."
   ]
  },
  {
   "cell_type": "code",
   "execution_count": 2,
   "metadata": {
    "colab": {
     "base_uri": "https://localhost:8080/"
    },
    "executionInfo": {
     "elapsed": 231,
     "status": "ok",
     "timestamp": 1667900505485,
     "user": {
      "displayName": "Sinara Sreedharan",
      "userId": "05927700075051493450"
     },
     "user_tz": 300
    },
    "id": "yxKYhYQiqWfj",
    "outputId": "86c12c35-5519-463a-fbbc-b94c37e46978"
   },
   "outputs": [
    {
     "name": "stdout",
     "output_type": "stream",
     "text": [
      "20 celcius is converted to 68.0 farenheit\n"
     ]
    }
   ],
   "source": [
    "#Assign celcius value to a variable\n",
    "cel = 20\n",
    "#Calculate celcius conversion to Farenheit using a formula\n",
    "far = (cel * 9 / 5) + 32\n",
    "#Print the final result\n",
    "print(\"{0} celcius is converted to {1} farenheit\".format(cel,far))"
   ]
  },
  {
   "cell_type": "markdown",
   "metadata": {
    "id": "RLrOBBJurLB2"
   },
   "source": [
    "### Q3:- Take 2 numbers as input from the user.Write a program to swap the numbers without using any special python syntax."
   ]
  },
  {
   "cell_type": "code",
   "execution_count": 3,
   "metadata": {
    "colab": {
     "base_uri": "https://localhost:8080/"
    },
    "executionInfo": {
     "elapsed": 8078,
     "status": "ok",
     "timestamp": 1667900744806,
     "user": {
      "displayName": "Sinara Sreedharan",
      "userId": "05927700075051493450"
     },
     "user_tz": 300
    },
    "id": "yPn7if0TrJ4F",
    "outputId": "67b6b991-5948-49d2-ed8d-548a3cdaa51e"
   },
   "outputs": [
    {
     "name": "stdout",
     "output_type": "stream",
     "text": [
      "Enter the first number: 23\n",
      "Enter the second number: 45\n",
      "Before swapping, first number is 23 and second number is 45\n",
      "After swapping, first number is 45 and second number is 23\n"
     ]
    }
   ],
   "source": [
    "#Take 2 numbers as input\n",
    "fnum = int(input(\"Enter the first number: \"))\n",
    "snum = int(input(\"Enter the second number: \"))\n",
    "#Print the value of variables before swapping \n",
    "print(\"Before swapping, first number is {0} and second number is {1}\".format(fnum,snum))\n",
    "#swap the number using third variable temp\n",
    "temp = fnum\n",
    "fnum = snum\n",
    "snum = temp\n",
    "#Print the value of variables after swapping \n",
    "print(\"After swapping, first number is {0} and second number is {1}\".format(fnum,snum))"
   ]
  },
  {
   "cell_type": "markdown",
   "metadata": {
    "id": "waLCP1bjr7ML"
   },
   "source": [
    "### Q4:- Write a program to find the euclidean distance between two coordinates.Take both the coordinates from the user as input."
   ]
  },
  {
   "cell_type": "code",
   "execution_count": 6,
   "metadata": {
    "colab": {
     "base_uri": "https://localhost:8080/"
    },
    "executionInfo": {
     "elapsed": 20028,
     "status": "ok",
     "timestamp": 1667901779988,
     "user": {
      "displayName": "Sinara Sreedharan",
      "userId": "05927700075051493450"
     },
     "user_tz": 300
    },
    "id": "Pl1Sv-xnrxnH",
    "outputId": "b407c43a-9549-4e1f-8c95-aa75bf4f57ec"
   },
   "outputs": [
    {
     "name": "stdout",
     "output_type": "stream",
     "text": [
      "Enter the first coordinate - x1, y1 (2 numbers with comma seperated): 2,4\n",
      "Enter the first coordinate - x2, y2 (2 numbers with comma seperated): 5, 10\n",
      "Euclidean distance for the given coordinates is: 6.708203932499369\n"
     ]
    }
   ],
   "source": [
    "import math\n",
    "# Enter the coordinates from user\n",
    "fcoord = input(\"Enter the first coordinate - x1, y1 (2 numbers with comma seperated): \")\n",
    "scoord = input(\"Enter the first coordinate - x2, y2 (2 numbers with comma seperated): \")\n",
    "# Convert to numbers\n",
    "x1, y1 = [int(x) for x in fcoord.split(',')]\n",
    "x2, y2 = [int(x) for x in scoord.split(',')]\n",
    "# Calculate the euclidean distance using formula\n",
    "d = math.sqrt(((x2 - x1) ** 2) + ((y2 - y1) ** 2) )\n",
    "# Display the final result\n",
    "print(\"Euclidean distance for the given coordinates is: {0}\".format(d))"
   ]
  },
  {
   "cell_type": "markdown",
   "metadata": {
    "id": "VLrhg-FRsHjR"
   },
   "source": [
    "### Q5:- Write a program to find the simple interest when the value of principle,rate of interest and time period is provided by the user.\n"
   ]
  },
  {
   "cell_type": "code",
   "execution_count": 9,
   "metadata": {
    "colab": {
     "base_uri": "https://localhost:8080/"
    },
    "executionInfo": {
     "elapsed": 12133,
     "status": "ok",
     "timestamp": 1667902216699,
     "user": {
      "displayName": "Sinara Sreedharan",
      "userId": "05927700075051493450"
     },
     "user_tz": 300
    },
    "id": "s40DlReZsTmY",
    "outputId": "8a16641c-292a-4945-b1c8-0a296eefe27e"
   },
   "outputs": [
    {
     "name": "stdout",
     "output_type": "stream",
     "text": [
      "Enter the principal value: 5000\n",
      "Enter the Rate of Interest: 2.5\n",
      "Enter the time period: 5\n",
      "Simple interest for the given principal - 5000.0, rate of interest - 2.5 and time period - 5.0 is 62500.0\n"
     ]
    }
   ],
   "source": [
    "#Enter the values for principal, rate of interest and time period\n",
    "princ = float(input(\"Enter the principal value: \"))\n",
    "roi = float(input(\"Enter the Rate of Interest: \"))\n",
    "time = float(input(\"Enter the time period: \"))\n",
    "#Calculate the value for simple interest\n",
    "si = princ * roi * time\n",
    "#Display the output\n",
    "print(\"Simple interest for the given principal - {0}, rate of interest - {1} and time period - {2} is {3}\".format(princ , roi , time, si))"
   ]
  },
  {
   "cell_type": "markdown",
   "metadata": {
    "id": "LMy0BTUktYKa"
   },
   "source": [
    "### Q6:- Write a program that will tell the number of dogs and chicken are there when the user will provide the value of total heads and legs.\n",
    "\n",
    "For example:\n",
    "Input:\n",
    "heads -> 4\n",
    "legs -> 12\n",
    "<br>\n",
    "Output:\n",
    "dogs -> 2\n",
    "chicken -> 2\n",
    "\n",
    "\n",
    "\n"
   ]
  },
  {
   "cell_type": "code",
   "execution_count": 31,
   "metadata": {
    "colab": {
     "base_uri": "https://localhost:8080/"
    },
    "executionInfo": {
     "elapsed": 8476,
     "status": "ok",
     "timestamp": 1667907448470,
     "user": {
      "displayName": "Sinara Sreedharan",
      "userId": "05927700075051493450"
     },
     "user_tz": 300
    },
    "id": "XSBvJoA4tXaG",
    "outputId": "eb088c48-190e-474d-97e1-a0df01c9ca74"
   },
   "outputs": [
    {
     "name": "stdout",
     "output_type": "stream",
     "text": [
      "Enter the number of legs (Should be an even number >= 2): 12\n",
      "Enter the number of heads (Should be less than number of legs): 4\n",
      "Number of dogs are 2 and number of chickens are 2\n"
     ]
    }
   ],
   "source": [
    "def countdogs(nlegs, nheads):\n",
    "  x = int((nlegs - 2 * nheads) / 2)\n",
    "  return x\n",
    "\n",
    "#Enter the number of heads and number of legs\n",
    "nlegs = int(input('Enter the number of legs (Should be an even number >= 2): '))\n",
    "nheads = int(input('Enter the number of heads (Should be less than number of legs): '))\n",
    "#Calculate the number of dogs and chicken\n",
    "x = countdogs(nlegs, nheads)\n",
    "y = nheads - x\n",
    "\n",
    "#Display the output\n",
    "print(\"Number of dogs are {0} and number of chickens are {1}\".format(x, y))"
   ]
  },
  {
   "cell_type": "markdown",
   "metadata": {
    "id": "gJ7C5kZYt4BP"
   },
   "source": [
    "### Q7:- Write a program to find the sum of squares of first n natural numbers where n will be provided by the user."
   ]
  },
  {
   "cell_type": "code",
   "execution_count": 21,
   "metadata": {
    "colab": {
     "base_uri": "https://localhost:8080/"
    },
    "executionInfo": {
     "elapsed": 2918,
     "status": "ok",
     "timestamp": 1667904410501,
     "user": {
      "displayName": "Sinara Sreedharan",
      "userId": "05927700075051493450"
     },
     "user_tz": 300
    },
    "id": "_tHsmEHzt2nX",
    "outputId": "b55dd040-5c0c-45a3-f672-6065ccb74405"
   },
   "outputs": [
    {
     "name": "stdout",
     "output_type": "stream",
     "text": [
      "Enter the value of n natural numbers: 6\n",
      "Sum of squares of first 6 natural numbers is 91\n"
     ]
    }
   ],
   "source": [
    "#Enter the value of n\n",
    "nnum = int(input(\"Enter the value of n natural numbers: \"))\n",
    "sum = 0\n",
    "for x in range(nnum+1):\n",
    "  sum += (x ** 2)\n",
    "  \n",
    "\n",
    "print(\"Sum of squares of first {0} natural numbers is {1}\".format(nnum, sum))\n",
    "\n",
    "\n"
   ]
  },
  {
   "cell_type": "markdown",
   "metadata": {
    "id": "FHrMM7g-yG1h"
   },
   "source": [
    "### Q8:- Given the first 2 terms of an Arithmetic Series.Find the Nth term of the series. Assume all inputs are provided by the user."
   ]
  },
  {
   "cell_type": "code",
   "execution_count": 22,
   "metadata": {
    "colab": {
     "base_uri": "https://localhost:8080/"
    },
    "executionInfo": {
     "elapsed": 11819,
     "status": "ok",
     "timestamp": 1667904896639,
     "user": {
      "displayName": "Sinara Sreedharan",
      "userId": "05927700075051493450"
     },
     "user_tz": 300
    },
    "id": "go4_kmZmyVSx",
    "outputId": "dc70f75f-a09c-4ca9-a98b-3626c44e75a3"
   },
   "outputs": [
    {
     "name": "stdout",
     "output_type": "stream",
     "text": [
      "Enter the first number in arithematic series: 5\n",
      "Enter the second number in arithematic series: 8\n",
      "Enter the value of n: 27\n",
      "27th term in the arithematic series is 83\n"
     ]
    }
   ],
   "source": [
    "#Enter the first 2 terms of arithematic sequence\n",
    "fnum = int(input(\"Enter the first number in arithematic series: \"))\n",
    "snum = int(input(\"Enter the second number in arithematic series: \"))\n",
    "n = int(input(\"Enter the value of n: \"))\n",
    "#Calculate the nth term\n",
    "a1 = fnum\n",
    "d = snum - fnum\n",
    "nterm = a1 + (n - 1) * d\n",
    "\n",
    "#Display the final result\n",
    "print(\"{0}th term in the arithematic series is {1}\".format(n,nterm))"
   ]
  },
  {
   "cell_type": "markdown",
   "metadata": {
    "id": "QgyRX_es1oum"
   },
   "source": [
    "### Q9:- Given 2 fractions, find the sum of those 2 fractions.Take the numerator and denominator values of the fractions from the user."
   ]
  },
  {
   "cell_type": "code",
   "execution_count": 23,
   "metadata": {
    "colab": {
     "base_uri": "https://localhost:8080/"
    },
    "executionInfo": {
     "elapsed": 5509,
     "status": "ok",
     "timestamp": 1667905268470,
     "user": {
      "displayName": "Sinara Sreedharan",
      "userId": "05927700075051493450"
     },
     "user_tz": 300
    },
    "id": "X05xqFS1yW16",
    "outputId": "17b98597-2d4f-4ca0-a5b6-d161bbda34f8"
   },
   "outputs": [
    {
     "name": "stdout",
     "output_type": "stream",
     "text": [
      "Enter the value of numerator: 4\n",
      "Enter the value of denominator: 5\n",
      "Sum of numerator 4 and denominator 5 is 9\n"
     ]
    }
   ],
   "source": [
    "#Enter the denominator and numerator\n",
    "nmr = int(input(\"Enter the value of numerator: \"))\n",
    "dnmr = int(input(\"Enter the value of denominator: \"))\n",
    "#Calculate the sum\n",
    "sum = nmr + dnmr\n",
    "#Display the sum\n",
    "print(\"Sum of numerator {0} and denominator {1} is {2}\".format(nmr,dnmr, sum))"
   ]
  },
  {
   "cell_type": "markdown",
   "metadata": {
    "id": "eaql38ln13u7"
   },
   "source": [
    "### Q10:- Given the height, width and breadth of a milk tank, you have to find out how many glasses of milk can be obtained? Assume all the inputs are provided by the user.\n",
    "\n",
    "\n",
    "\n",
    "Input:<br>\n",
    "Dimensions of the milk tank<br>\n",
    "H = 20cm, L = 20cm, B = 20cm\n",
    "<br><br>\n",
    "Dimensions of the glass<br>\n",
    "h = 3cm, r = 1cm"
   ]
  },
  {
   "cell_type": "code",
   "execution_count": 26,
   "metadata": {
    "colab": {
     "base_uri": "https://localhost:8080/"
    },
    "executionInfo": {
     "elapsed": 7285,
     "status": "ok",
     "timestamp": 1667906461784,
     "user": {
      "displayName": "Sinara Sreedharan",
      "userId": "05927700075051493450"
     },
     "user_tz": 300
    },
    "id": "FePZqno74eWv",
    "outputId": "a804ae3e-34cb-4239-b102-de78aa2e64f6"
   },
   "outputs": [
    {
     "name": "stdout",
     "output_type": "stream",
     "text": [
      "Enter the height, width and breadth in the same order by comma seperated: 20, 20, 20\n",
      "Enter the heigh and radius in the same order by comma seperated: 3, 1\n",
      "For the given dimensions,number of glass of milk obtained are: 849 \n"
     ]
    }
   ],
   "source": [
    "import math\n",
    "#Enter the width, height and breadth of a tank\n",
    "tdim = input(\"Enter the height, width and breadth in the same order by comma seperated: \")\n",
    "\n",
    "#Enter the height and radius of a glass\n",
    "gdim = input(\"Enter the heigh and radius in the same order by comma seperated: \")\n",
    "\n",
    "H, L, B = [int(x) for x in tdim.split(',')]\n",
    "h, r = [int(x) for x in gdim.split(',')]\n",
    "\n",
    "#Find the volume of tank and glass\n",
    "vtank = H * L * B\n",
    "pi = math.radians(180)\n",
    "vglass = pi * r ** 2 * h\n",
    "\n",
    "#Calculate number of glass of milk\n",
    "nglass = math.ceil(vtank / vglass)\n",
    "#Display the final result\n",
    "print(\"For the given dimensions,number of glass of milk obtained are: {0} \".format(nglass))"
   ]
  },
  {
   "cell_type": "code",
   "execution_count": null,
   "metadata": {
    "id": "cGHWRT6O9aWy"
   },
   "outputs": [],
   "source": []
  }
 ],
 "metadata": {
  "colab": {
   "provenance": [
    {
     "file_id": "1j7D_owmjwodnY8zedxdpIOQIyB-GufeU",
     "timestamp": 1667907782221
    }
   ]
  },
  "kernelspec": {
   "display_name": "Python 3 (ipykernel)",
   "language": "python",
   "name": "python3"
  },
  "language_info": {
   "codemirror_mode": {
    "name": "ipython",
    "version": 3
   },
   "file_extension": ".py",
   "mimetype": "text/x-python",
   "name": "python",
   "nbconvert_exporter": "python",
   "pygments_lexer": "ipython3",
   "version": "3.9.7"
  }
 },
 "nbformat": 4,
 "nbformat_minor": 1
}
